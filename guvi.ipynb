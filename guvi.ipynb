{
  "nbformat": 4,
  "nbformat_minor": 0,
  "metadata": {
    "colab": {
      "provenance": [],
      "collapsed_sections": [
        "QogbHZCAcHxY",
        "fV4pzGe5ceW2",
        "Ua8OfAwMcbcC",
        "Tcdw2vo_g0ek",
        "4tvJGoNShTkP"
      ],
      "authorship_tag": "ABX9TyM4lyqM3VhWXXpSwrW/DL5s",
      "include_colab_link": true
    },
    "kernelspec": {
      "name": "python3",
      "display_name": "Python 3"
    },
    "language_info": {
      "name": "python"
    }
  },
  "cells": [
    {
      "cell_type": "markdown",
      "metadata": {
        "id": "view-in-github",
        "colab_type": "text"
      },
      "source": [
        "<a href=\"https://colab.research.google.com/github/sunilbabu07/customer-conversion-prediction/blob/main/guvi.ipynb\" target=\"_parent\"><img src=\"https://colab.research.google.com/assets/colab-badge.svg\" alt=\"Open In Colab\"/></a>"
      ]
    },
    {
      "cell_type": "markdown",
      "source": [
        "# **Importing required libraries**\n"
      ],
      "metadata": {
        "id": "QogbHZCAcHxY"
      }
    },
    {
      "cell_type": "code",
      "execution_count": 78,
      "metadata": {
        "id": "DsPlHRTBKWBL"
      },
      "outputs": [],
      "source": [
        "import pandas as pd\n",
        "import numpy as np\n",
        "import matplotlib.pyplot as plt\n",
        "from sklearn.model_selection import train_test_split\n",
        "from imblearn.over_sampling import SMOTE\n",
        "from sklearn.linear_model import LogisticRegression\n",
        "from sklearn.metrics import roc_curve, roc_auc_score\n"
      ]
    },
    {
      "cell_type": "markdown",
      "source": [
        "# **Importing the dataset from github repository**"
      ],
      "metadata": {
        "id": "fV4pzGe5ceW2"
      }
    },
    {
      "cell_type": "code",
      "source": [
        "customer_df = pd.read_csv(\"https://github.com/sunilbabu07/customer-conversion-prediction/blob/main/train.csv?raw=true\")\n",
        "customer_df.head()"
      ],
      "metadata": {
        "colab": {
          "base_uri": "https://localhost:8080/",
          "height": 206
        },
        "id": "eu5VN2SAKaIK",
        "outputId": "020e5496-3a12-4784-dc04-ea36ff9f03ed"
      },
      "execution_count": 3,
      "outputs": [
        {
          "output_type": "execute_result",
          "data": {
            "text/plain": [
              "   age           job  marital education_qual call_type  day  mon  dur  \\\n",
              "0   58    management  married       tertiary   unknown    5  may  261   \n",
              "1   44    technician   single      secondary   unknown    5  may  151   \n",
              "2   33  entrepreneur  married      secondary   unknown    5  may   76   \n",
              "3   47   blue-collar  married        unknown   unknown    5  may   92   \n",
              "4   33       unknown   single        unknown   unknown    5  may  198   \n",
              "\n",
              "   num_calls prev_outcome   y  \n",
              "0          1      unknown  no  \n",
              "1          1      unknown  no  \n",
              "2          1      unknown  no  \n",
              "3          1      unknown  no  \n",
              "4          1      unknown  no  "
            ],
            "text/html": [
              "\n",
              "  <div id=\"df-58f0315d-5037-45d0-9676-a5308ea62609\">\n",
              "    <div class=\"colab-df-container\">\n",
              "      <div>\n",
              "<style scoped>\n",
              "    .dataframe tbody tr th:only-of-type {\n",
              "        vertical-align: middle;\n",
              "    }\n",
              "\n",
              "    .dataframe tbody tr th {\n",
              "        vertical-align: top;\n",
              "    }\n",
              "\n",
              "    .dataframe thead th {\n",
              "        text-align: right;\n",
              "    }\n",
              "</style>\n",
              "<table border=\"1\" class=\"dataframe\">\n",
              "  <thead>\n",
              "    <tr style=\"text-align: right;\">\n",
              "      <th></th>\n",
              "      <th>age</th>\n",
              "      <th>job</th>\n",
              "      <th>marital</th>\n",
              "      <th>education_qual</th>\n",
              "      <th>call_type</th>\n",
              "      <th>day</th>\n",
              "      <th>mon</th>\n",
              "      <th>dur</th>\n",
              "      <th>num_calls</th>\n",
              "      <th>prev_outcome</th>\n",
              "      <th>y</th>\n",
              "    </tr>\n",
              "  </thead>\n",
              "  <tbody>\n",
              "    <tr>\n",
              "      <th>0</th>\n",
              "      <td>58</td>\n",
              "      <td>management</td>\n",
              "      <td>married</td>\n",
              "      <td>tertiary</td>\n",
              "      <td>unknown</td>\n",
              "      <td>5</td>\n",
              "      <td>may</td>\n",
              "      <td>261</td>\n",
              "      <td>1</td>\n",
              "      <td>unknown</td>\n",
              "      <td>no</td>\n",
              "    </tr>\n",
              "    <tr>\n",
              "      <th>1</th>\n",
              "      <td>44</td>\n",
              "      <td>technician</td>\n",
              "      <td>single</td>\n",
              "      <td>secondary</td>\n",
              "      <td>unknown</td>\n",
              "      <td>5</td>\n",
              "      <td>may</td>\n",
              "      <td>151</td>\n",
              "      <td>1</td>\n",
              "      <td>unknown</td>\n",
              "      <td>no</td>\n",
              "    </tr>\n",
              "    <tr>\n",
              "      <th>2</th>\n",
              "      <td>33</td>\n",
              "      <td>entrepreneur</td>\n",
              "      <td>married</td>\n",
              "      <td>secondary</td>\n",
              "      <td>unknown</td>\n",
              "      <td>5</td>\n",
              "      <td>may</td>\n",
              "      <td>76</td>\n",
              "      <td>1</td>\n",
              "      <td>unknown</td>\n",
              "      <td>no</td>\n",
              "    </tr>\n",
              "    <tr>\n",
              "      <th>3</th>\n",
              "      <td>47</td>\n",
              "      <td>blue-collar</td>\n",
              "      <td>married</td>\n",
              "      <td>unknown</td>\n",
              "      <td>unknown</td>\n",
              "      <td>5</td>\n",
              "      <td>may</td>\n",
              "      <td>92</td>\n",
              "      <td>1</td>\n",
              "      <td>unknown</td>\n",
              "      <td>no</td>\n",
              "    </tr>\n",
              "    <tr>\n",
              "      <th>4</th>\n",
              "      <td>33</td>\n",
              "      <td>unknown</td>\n",
              "      <td>single</td>\n",
              "      <td>unknown</td>\n",
              "      <td>unknown</td>\n",
              "      <td>5</td>\n",
              "      <td>may</td>\n",
              "      <td>198</td>\n",
              "      <td>1</td>\n",
              "      <td>unknown</td>\n",
              "      <td>no</td>\n",
              "    </tr>\n",
              "  </tbody>\n",
              "</table>\n",
              "</div>\n",
              "      <button class=\"colab-df-convert\" onclick=\"convertToInteractive('df-58f0315d-5037-45d0-9676-a5308ea62609')\"\n",
              "              title=\"Convert this dataframe to an interactive table.\"\n",
              "              style=\"display:none;\">\n",
              "        \n",
              "  <svg xmlns=\"http://www.w3.org/2000/svg\" height=\"24px\"viewBox=\"0 0 24 24\"\n",
              "       width=\"24px\">\n",
              "    <path d=\"M0 0h24v24H0V0z\" fill=\"none\"/>\n",
              "    <path d=\"M18.56 5.44l.94 2.06.94-2.06 2.06-.94-2.06-.94-.94-2.06-.94 2.06-2.06.94zm-11 1L8.5 8.5l.94-2.06 2.06-.94-2.06-.94L8.5 2.5l-.94 2.06-2.06.94zm10 10l.94 2.06.94-2.06 2.06-.94-2.06-.94-.94-2.06-.94 2.06-2.06.94z\"/><path d=\"M17.41 7.96l-1.37-1.37c-.4-.4-.92-.59-1.43-.59-.52 0-1.04.2-1.43.59L10.3 9.45l-7.72 7.72c-.78.78-.78 2.05 0 2.83L4 21.41c.39.39.9.59 1.41.59.51 0 1.02-.2 1.41-.59l7.78-7.78 2.81-2.81c.8-.78.8-2.07 0-2.86zM5.41 20L4 18.59l7.72-7.72 1.47 1.35L5.41 20z\"/>\n",
              "  </svg>\n",
              "      </button>\n",
              "      \n",
              "  <style>\n",
              "    .colab-df-container {\n",
              "      display:flex;\n",
              "      flex-wrap:wrap;\n",
              "      gap: 12px;\n",
              "    }\n",
              "\n",
              "    .colab-df-convert {\n",
              "      background-color: #E8F0FE;\n",
              "      border: none;\n",
              "      border-radius: 50%;\n",
              "      cursor: pointer;\n",
              "      display: none;\n",
              "      fill: #1967D2;\n",
              "      height: 32px;\n",
              "      padding: 0 0 0 0;\n",
              "      width: 32px;\n",
              "    }\n",
              "\n",
              "    .colab-df-convert:hover {\n",
              "      background-color: #E2EBFA;\n",
              "      box-shadow: 0px 1px 2px rgba(60, 64, 67, 0.3), 0px 1px 3px 1px rgba(60, 64, 67, 0.15);\n",
              "      fill: #174EA6;\n",
              "    }\n",
              "\n",
              "    [theme=dark] .colab-df-convert {\n",
              "      background-color: #3B4455;\n",
              "      fill: #D2E3FC;\n",
              "    }\n",
              "\n",
              "    [theme=dark] .colab-df-convert:hover {\n",
              "      background-color: #434B5C;\n",
              "      box-shadow: 0px 1px 3px 1px rgba(0, 0, 0, 0.15);\n",
              "      filter: drop-shadow(0px 1px 2px rgba(0, 0, 0, 0.3));\n",
              "      fill: #FFFFFF;\n",
              "    }\n",
              "  </style>\n",
              "\n",
              "      <script>\n",
              "        const buttonEl =\n",
              "          document.querySelector('#df-58f0315d-5037-45d0-9676-a5308ea62609 button.colab-df-convert');\n",
              "        buttonEl.style.display =\n",
              "          google.colab.kernel.accessAllowed ? 'block' : 'none';\n",
              "\n",
              "        async function convertToInteractive(key) {\n",
              "          const element = document.querySelector('#df-58f0315d-5037-45d0-9676-a5308ea62609');\n",
              "          const dataTable =\n",
              "            await google.colab.kernel.invokeFunction('convertToInteractive',\n",
              "                                                     [key], {});\n",
              "          if (!dataTable) return;\n",
              "\n",
              "          const docLinkHtml = 'Like what you see? Visit the ' +\n",
              "            '<a target=\"_blank\" href=https://colab.research.google.com/notebooks/data_table.ipynb>data table notebook</a>'\n",
              "            + ' to learn more about interactive tables.';\n",
              "          element.innerHTML = '';\n",
              "          dataTable['output_type'] = 'display_data';\n",
              "          await google.colab.output.renderOutput(dataTable, element);\n",
              "          const docLink = document.createElement('div');\n",
              "          docLink.innerHTML = docLinkHtml;\n",
              "          element.appendChild(docLink);\n",
              "        }\n",
              "      </script>\n",
              "    </div>\n",
              "  </div>\n",
              "  "
            ]
          },
          "metadata": {},
          "execution_count": 3
        }
      ]
    },
    {
      "cell_type": "markdown",
      "source": [
        "## **Check if the dataset is balanced**\n",
        "\n"
      ],
      "metadata": {
        "id": "Ua8OfAwMcbcC"
      }
    },
    {
      "cell_type": "code",
      "source": [
        "customer_df['y'].value_counts()"
      ],
      "metadata": {
        "colab": {
          "base_uri": "https://localhost:8080/"
        },
        "id": "6t_gHyvhftCA",
        "outputId": "c3f4ee8f-ae49-4fe6-9b12-cc6c6f227d7c"
      },
      "execution_count": 4,
      "outputs": [
        {
          "output_type": "execute_result",
          "data": {
            "text/plain": [
              "no     39922\n",
              "yes     5289\n",
              "Name: y, dtype: int64"
            ]
          },
          "metadata": {},
          "execution_count": 4
        }
      ]
    },
    {
      "cell_type": "code",
      "source": [
        "customer_df['y']=customer_df['y'].map({'yes':1,'no':0})"
      ],
      "metadata": {
        "id": "AZOGWRhjMMJj"
      },
      "execution_count": 5,
      "outputs": []
    },
    {
      "cell_type": "code",
      "source": [
        "customer_df.shape"
      ],
      "metadata": {
        "colab": {
          "base_uri": "https://localhost:8080/"
        },
        "id": "qnQGX51GMpil",
        "outputId": "0344585b-167e-403c-d4c7-e2df296d8fc2"
      },
      "execution_count": 6,
      "outputs": [
        {
          "output_type": "execute_result",
          "data": {
            "text/plain": [
              "(45211, 11)"
            ]
          },
          "metadata": {},
          "execution_count": 6
        }
      ]
    },
    {
      "cell_type": "code",
      "source": [
        "customer_df.head()"
      ],
      "metadata": {
        "colab": {
          "base_uri": "https://localhost:8080/",
          "height": 206
        },
        "id": "uXRsIN15M0BW",
        "outputId": "bf2d728f-5106-4e88-ab3b-487c1c013055"
      },
      "execution_count": 7,
      "outputs": [
        {
          "output_type": "execute_result",
          "data": {
            "text/plain": [
              "   age           job  marital education_qual call_type  day  mon  dur  \\\n",
              "0   58    management  married       tertiary   unknown    5  may  261   \n",
              "1   44    technician   single      secondary   unknown    5  may  151   \n",
              "2   33  entrepreneur  married      secondary   unknown    5  may   76   \n",
              "3   47   blue-collar  married        unknown   unknown    5  may   92   \n",
              "4   33       unknown   single        unknown   unknown    5  may  198   \n",
              "\n",
              "   num_calls prev_outcome  y  \n",
              "0          1      unknown  0  \n",
              "1          1      unknown  0  \n",
              "2          1      unknown  0  \n",
              "3          1      unknown  0  \n",
              "4          1      unknown  0  "
            ],
            "text/html": [
              "\n",
              "  <div id=\"df-13555612-3700-43f9-9d60-e82825c8550b\">\n",
              "    <div class=\"colab-df-container\">\n",
              "      <div>\n",
              "<style scoped>\n",
              "    .dataframe tbody tr th:only-of-type {\n",
              "        vertical-align: middle;\n",
              "    }\n",
              "\n",
              "    .dataframe tbody tr th {\n",
              "        vertical-align: top;\n",
              "    }\n",
              "\n",
              "    .dataframe thead th {\n",
              "        text-align: right;\n",
              "    }\n",
              "</style>\n",
              "<table border=\"1\" class=\"dataframe\">\n",
              "  <thead>\n",
              "    <tr style=\"text-align: right;\">\n",
              "      <th></th>\n",
              "      <th>age</th>\n",
              "      <th>job</th>\n",
              "      <th>marital</th>\n",
              "      <th>education_qual</th>\n",
              "      <th>call_type</th>\n",
              "      <th>day</th>\n",
              "      <th>mon</th>\n",
              "      <th>dur</th>\n",
              "      <th>num_calls</th>\n",
              "      <th>prev_outcome</th>\n",
              "      <th>y</th>\n",
              "    </tr>\n",
              "  </thead>\n",
              "  <tbody>\n",
              "    <tr>\n",
              "      <th>0</th>\n",
              "      <td>58</td>\n",
              "      <td>management</td>\n",
              "      <td>married</td>\n",
              "      <td>tertiary</td>\n",
              "      <td>unknown</td>\n",
              "      <td>5</td>\n",
              "      <td>may</td>\n",
              "      <td>261</td>\n",
              "      <td>1</td>\n",
              "      <td>unknown</td>\n",
              "      <td>0</td>\n",
              "    </tr>\n",
              "    <tr>\n",
              "      <th>1</th>\n",
              "      <td>44</td>\n",
              "      <td>technician</td>\n",
              "      <td>single</td>\n",
              "      <td>secondary</td>\n",
              "      <td>unknown</td>\n",
              "      <td>5</td>\n",
              "      <td>may</td>\n",
              "      <td>151</td>\n",
              "      <td>1</td>\n",
              "      <td>unknown</td>\n",
              "      <td>0</td>\n",
              "    </tr>\n",
              "    <tr>\n",
              "      <th>2</th>\n",
              "      <td>33</td>\n",
              "      <td>entrepreneur</td>\n",
              "      <td>married</td>\n",
              "      <td>secondary</td>\n",
              "      <td>unknown</td>\n",
              "      <td>5</td>\n",
              "      <td>may</td>\n",
              "      <td>76</td>\n",
              "      <td>1</td>\n",
              "      <td>unknown</td>\n",
              "      <td>0</td>\n",
              "    </tr>\n",
              "    <tr>\n",
              "      <th>3</th>\n",
              "      <td>47</td>\n",
              "      <td>blue-collar</td>\n",
              "      <td>married</td>\n",
              "      <td>unknown</td>\n",
              "      <td>unknown</td>\n",
              "      <td>5</td>\n",
              "      <td>may</td>\n",
              "      <td>92</td>\n",
              "      <td>1</td>\n",
              "      <td>unknown</td>\n",
              "      <td>0</td>\n",
              "    </tr>\n",
              "    <tr>\n",
              "      <th>4</th>\n",
              "      <td>33</td>\n",
              "      <td>unknown</td>\n",
              "      <td>single</td>\n",
              "      <td>unknown</td>\n",
              "      <td>unknown</td>\n",
              "      <td>5</td>\n",
              "      <td>may</td>\n",
              "      <td>198</td>\n",
              "      <td>1</td>\n",
              "      <td>unknown</td>\n",
              "      <td>0</td>\n",
              "    </tr>\n",
              "  </tbody>\n",
              "</table>\n",
              "</div>\n",
              "      <button class=\"colab-df-convert\" onclick=\"convertToInteractive('df-13555612-3700-43f9-9d60-e82825c8550b')\"\n",
              "              title=\"Convert this dataframe to an interactive table.\"\n",
              "              style=\"display:none;\">\n",
              "        \n",
              "  <svg xmlns=\"http://www.w3.org/2000/svg\" height=\"24px\"viewBox=\"0 0 24 24\"\n",
              "       width=\"24px\">\n",
              "    <path d=\"M0 0h24v24H0V0z\" fill=\"none\"/>\n",
              "    <path d=\"M18.56 5.44l.94 2.06.94-2.06 2.06-.94-2.06-.94-.94-2.06-.94 2.06-2.06.94zm-11 1L8.5 8.5l.94-2.06 2.06-.94-2.06-.94L8.5 2.5l-.94 2.06-2.06.94zm10 10l.94 2.06.94-2.06 2.06-.94-2.06-.94-.94-2.06-.94 2.06-2.06.94z\"/><path d=\"M17.41 7.96l-1.37-1.37c-.4-.4-.92-.59-1.43-.59-.52 0-1.04.2-1.43.59L10.3 9.45l-7.72 7.72c-.78.78-.78 2.05 0 2.83L4 21.41c.39.39.9.59 1.41.59.51 0 1.02-.2 1.41-.59l7.78-7.78 2.81-2.81c.8-.78.8-2.07 0-2.86zM5.41 20L4 18.59l7.72-7.72 1.47 1.35L5.41 20z\"/>\n",
              "  </svg>\n",
              "      </button>\n",
              "      \n",
              "  <style>\n",
              "    .colab-df-container {\n",
              "      display:flex;\n",
              "      flex-wrap:wrap;\n",
              "      gap: 12px;\n",
              "    }\n",
              "\n",
              "    .colab-df-convert {\n",
              "      background-color: #E8F0FE;\n",
              "      border: none;\n",
              "      border-radius: 50%;\n",
              "      cursor: pointer;\n",
              "      display: none;\n",
              "      fill: #1967D2;\n",
              "      height: 32px;\n",
              "      padding: 0 0 0 0;\n",
              "      width: 32px;\n",
              "    }\n",
              "\n",
              "    .colab-df-convert:hover {\n",
              "      background-color: #E2EBFA;\n",
              "      box-shadow: 0px 1px 2px rgba(60, 64, 67, 0.3), 0px 1px 3px 1px rgba(60, 64, 67, 0.15);\n",
              "      fill: #174EA6;\n",
              "    }\n",
              "\n",
              "    [theme=dark] .colab-df-convert {\n",
              "      background-color: #3B4455;\n",
              "      fill: #D2E3FC;\n",
              "    }\n",
              "\n",
              "    [theme=dark] .colab-df-convert:hover {\n",
              "      background-color: #434B5C;\n",
              "      box-shadow: 0px 1px 3px 1px rgba(0, 0, 0, 0.15);\n",
              "      filter: drop-shadow(0px 1px 2px rgba(0, 0, 0, 0.3));\n",
              "      fill: #FFFFFF;\n",
              "    }\n",
              "  </style>\n",
              "\n",
              "      <script>\n",
              "        const buttonEl =\n",
              "          document.querySelector('#df-13555612-3700-43f9-9d60-e82825c8550b button.colab-df-convert');\n",
              "        buttonEl.style.display =\n",
              "          google.colab.kernel.accessAllowed ? 'block' : 'none';\n",
              "\n",
              "        async function convertToInteractive(key) {\n",
              "          const element = document.querySelector('#df-13555612-3700-43f9-9d60-e82825c8550b');\n",
              "          const dataTable =\n",
              "            await google.colab.kernel.invokeFunction('convertToInteractive',\n",
              "                                                     [key], {});\n",
              "          if (!dataTable) return;\n",
              "\n",
              "          const docLinkHtml = 'Like what you see? Visit the ' +\n",
              "            '<a target=\"_blank\" href=https://colab.research.google.com/notebooks/data_table.ipynb>data table notebook</a>'\n",
              "            + ' to learn more about interactive tables.';\n",
              "          element.innerHTML = '';\n",
              "          dataTable['output_type'] = 'display_data';\n",
              "          await google.colab.output.renderOutput(dataTable, element);\n",
              "          const docLink = document.createElement('div');\n",
              "          docLink.innerHTML = docLinkHtml;\n",
              "          element.appendChild(docLink);\n",
              "        }\n",
              "      </script>\n",
              "    </div>\n",
              "  </div>\n",
              "  "
            ]
          },
          "metadata": {},
          "execution_count": 7
        }
      ]
    },
    {
      "cell_type": "code",
      "source": [
        "customer_df.isnull().sum()"
      ],
      "metadata": {
        "colab": {
          "base_uri": "https://localhost:8080/"
        },
        "id": "qnjHDkhnNGHt",
        "outputId": "6a4dbd41-e4bf-44c7-c9b9-9818708e1663"
      },
      "execution_count": 8,
      "outputs": [
        {
          "output_type": "execute_result",
          "data": {
            "text/plain": [
              "age               0\n",
              "job               0\n",
              "marital           0\n",
              "education_qual    0\n",
              "call_type         0\n",
              "day               0\n",
              "mon               0\n",
              "dur               0\n",
              "num_calls         0\n",
              "prev_outcome      0\n",
              "y                 0\n",
              "dtype: int64"
            ]
          },
          "metadata": {},
          "execution_count": 8
        }
      ]
    },
    {
      "cell_type": "markdown",
      "source": [
        "# **Cleaning data**"
      ],
      "metadata": {
        "id": "Tcdw2vo_g0ek"
      }
    },
    {
      "cell_type": "code",
      "source": [
        "customer_df.info()\n",
        "customer_df.duplicated().value_counts()"
      ],
      "metadata": {
        "colab": {
          "base_uri": "https://localhost:8080/"
        },
        "id": "hMYG1dbuNzs9",
        "outputId": "c25b155b-d669-420a-e6ad-02c9fed6245c"
      },
      "execution_count": 9,
      "outputs": [
        {
          "output_type": "stream",
          "name": "stdout",
          "text": [
            "<class 'pandas.core.frame.DataFrame'>\n",
            "RangeIndex: 45211 entries, 0 to 45210\n",
            "Data columns (total 11 columns):\n",
            " #   Column          Non-Null Count  Dtype \n",
            "---  ------          --------------  ----- \n",
            " 0   age             45211 non-null  int64 \n",
            " 1   job             45211 non-null  object\n",
            " 2   marital         45211 non-null  object\n",
            " 3   education_qual  45211 non-null  object\n",
            " 4   call_type       45211 non-null  object\n",
            " 5   day             45211 non-null  int64 \n",
            " 6   mon             45211 non-null  object\n",
            " 7   dur             45211 non-null  int64 \n",
            " 8   num_calls       45211 non-null  int64 \n",
            " 9   prev_outcome    45211 non-null  object\n",
            " 10  y               45211 non-null  int64 \n",
            "dtypes: int64(5), object(6)\n",
            "memory usage: 3.8+ MB\n"
          ]
        },
        {
          "output_type": "execute_result",
          "data": {
            "text/plain": [
              "False    45205\n",
              "True         6\n",
              "dtype: int64"
            ]
          },
          "metadata": {},
          "execution_count": 9
        }
      ]
    },
    {
      "cell_type": "code",
      "source": [
        "customer_df = customer_df.drop_duplicates()\n",
        "customer_df.duplicated().sum()"
      ],
      "metadata": {
        "colab": {
          "base_uri": "https://localhost:8080/"
        },
        "id": "OF2c0AK0OluO",
        "outputId": "5d9544f3-caef-4621-de1a-fbdedf6680ad"
      },
      "execution_count": 10,
      "outputs": [
        {
          "output_type": "execute_result",
          "data": {
            "text/plain": [
              "0"
            ]
          },
          "metadata": {},
          "execution_count": 10
        }
      ]
    },
    {
      "cell_type": "code",
      "source": [
        "customer_df.duplicated().value_counts()"
      ],
      "metadata": {
        "colab": {
          "base_uri": "https://localhost:8080/"
        },
        "id": "ZdaYFULWPWdM",
        "outputId": "a863ccb7-6b2e-486e-855f-e5150ed7a98d"
      },
      "execution_count": 11,
      "outputs": [
        {
          "output_type": "execute_result",
          "data": {
            "text/plain": [
              "False    45205\n",
              "dtype: int64"
            ]
          },
          "metadata": {},
          "execution_count": 11
        }
      ]
    },
    {
      "cell_type": "code",
      "source": [
        "customer_df.columns"
      ],
      "metadata": {
        "colab": {
          "base_uri": "https://localhost:8080/"
        },
        "id": "XL82ZdrKN1-t",
        "outputId": "b61b9c1a-8166-41fc-ae6b-ffaa88b0e205"
      },
      "execution_count": 12,
      "outputs": [
        {
          "output_type": "execute_result",
          "data": {
            "text/plain": [
              "Index(['age', 'job', 'marital', 'education_qual', 'call_type', 'day', 'mon',\n",
              "       'dur', 'num_calls', 'prev_outcome', 'y'],\n",
              "      dtype='object')"
            ]
          },
          "metadata": {},
          "execution_count": 12
        }
      ]
    },
    {
      "cell_type": "code",
      "source": [
        "print((customer_df['job'].unique()),  customer_df['marital'].unique(), customer_df['education_qual'].unique(), customer_df['call_type'].unique(), customer_df['mon'].unique(), customer_df['y'].unique())"
      ],
      "metadata": {
        "colab": {
          "base_uri": "https://localhost:8080/"
        },
        "id": "BS9d15Z_P9Uc",
        "outputId": "082a71d1-469a-4afa-bb46-71d4856b9c22"
      },
      "execution_count": 13,
      "outputs": [
        {
          "output_type": "stream",
          "name": "stdout",
          "text": [
            "['management' 'technician' 'entrepreneur' 'blue-collar' 'unknown'\n",
            " 'retired' 'admin.' 'services' 'self-employed' 'unemployed' 'housemaid'\n",
            " 'student'] ['married' 'single' 'divorced'] ['tertiary' 'secondary' 'unknown' 'primary'] ['unknown' 'cellular' 'telephone'] ['may' 'jun' 'jul' 'aug' 'oct' 'nov' 'dec' 'jan' 'feb' 'mar' 'apr' 'sep'] [0 1]\n"
          ]
        }
      ]
    },
    {
      "cell_type": "code",
      "source": [
        "customer_df.describe()"
      ],
      "metadata": {
        "colab": {
          "base_uri": "https://localhost:8080/",
          "height": 300
        },
        "id": "W4lve8KMRFiq",
        "outputId": "fa2d7e40-c7da-4d08-c63f-d4e2a185721f"
      },
      "execution_count": 14,
      "outputs": [
        {
          "output_type": "execute_result",
          "data": {
            "text/plain": [
              "                age          day           dur     num_calls             y\n",
              "count  45205.000000  45205.00000  45205.000000  45205.000000  45205.000000\n",
              "mean      40.937087     15.80688    258.183055      2.763898      0.117000\n",
              "std       10.619130      8.32234    257.538504      3.098189      0.321424\n",
              "min       18.000000      1.00000      0.000000      1.000000      0.000000\n",
              "25%       33.000000      8.00000    103.000000      1.000000      0.000000\n",
              "50%       39.000000     16.00000    180.000000      2.000000      0.000000\n",
              "75%       48.000000     21.00000    319.000000      3.000000      0.000000\n",
              "max       95.000000     31.00000   4918.000000     63.000000      1.000000"
            ],
            "text/html": [
              "\n",
              "  <div id=\"df-79eda1bc-19bf-49c0-8fb4-c1b34f8cf5fd\">\n",
              "    <div class=\"colab-df-container\">\n",
              "      <div>\n",
              "<style scoped>\n",
              "    .dataframe tbody tr th:only-of-type {\n",
              "        vertical-align: middle;\n",
              "    }\n",
              "\n",
              "    .dataframe tbody tr th {\n",
              "        vertical-align: top;\n",
              "    }\n",
              "\n",
              "    .dataframe thead th {\n",
              "        text-align: right;\n",
              "    }\n",
              "</style>\n",
              "<table border=\"1\" class=\"dataframe\">\n",
              "  <thead>\n",
              "    <tr style=\"text-align: right;\">\n",
              "      <th></th>\n",
              "      <th>age</th>\n",
              "      <th>day</th>\n",
              "      <th>dur</th>\n",
              "      <th>num_calls</th>\n",
              "      <th>y</th>\n",
              "    </tr>\n",
              "  </thead>\n",
              "  <tbody>\n",
              "    <tr>\n",
              "      <th>count</th>\n",
              "      <td>45205.000000</td>\n",
              "      <td>45205.00000</td>\n",
              "      <td>45205.000000</td>\n",
              "      <td>45205.000000</td>\n",
              "      <td>45205.000000</td>\n",
              "    </tr>\n",
              "    <tr>\n",
              "      <th>mean</th>\n",
              "      <td>40.937087</td>\n",
              "      <td>15.80688</td>\n",
              "      <td>258.183055</td>\n",
              "      <td>2.763898</td>\n",
              "      <td>0.117000</td>\n",
              "    </tr>\n",
              "    <tr>\n",
              "      <th>std</th>\n",
              "      <td>10.619130</td>\n",
              "      <td>8.32234</td>\n",
              "      <td>257.538504</td>\n",
              "      <td>3.098189</td>\n",
              "      <td>0.321424</td>\n",
              "    </tr>\n",
              "    <tr>\n",
              "      <th>min</th>\n",
              "      <td>18.000000</td>\n",
              "      <td>1.00000</td>\n",
              "      <td>0.000000</td>\n",
              "      <td>1.000000</td>\n",
              "      <td>0.000000</td>\n",
              "    </tr>\n",
              "    <tr>\n",
              "      <th>25%</th>\n",
              "      <td>33.000000</td>\n",
              "      <td>8.00000</td>\n",
              "      <td>103.000000</td>\n",
              "      <td>1.000000</td>\n",
              "      <td>0.000000</td>\n",
              "    </tr>\n",
              "    <tr>\n",
              "      <th>50%</th>\n",
              "      <td>39.000000</td>\n",
              "      <td>16.00000</td>\n",
              "      <td>180.000000</td>\n",
              "      <td>2.000000</td>\n",
              "      <td>0.000000</td>\n",
              "    </tr>\n",
              "    <tr>\n",
              "      <th>75%</th>\n",
              "      <td>48.000000</td>\n",
              "      <td>21.00000</td>\n",
              "      <td>319.000000</td>\n",
              "      <td>3.000000</td>\n",
              "      <td>0.000000</td>\n",
              "    </tr>\n",
              "    <tr>\n",
              "      <th>max</th>\n",
              "      <td>95.000000</td>\n",
              "      <td>31.00000</td>\n",
              "      <td>4918.000000</td>\n",
              "      <td>63.000000</td>\n",
              "      <td>1.000000</td>\n",
              "    </tr>\n",
              "  </tbody>\n",
              "</table>\n",
              "</div>\n",
              "      <button class=\"colab-df-convert\" onclick=\"convertToInteractive('df-79eda1bc-19bf-49c0-8fb4-c1b34f8cf5fd')\"\n",
              "              title=\"Convert this dataframe to an interactive table.\"\n",
              "              style=\"display:none;\">\n",
              "        \n",
              "  <svg xmlns=\"http://www.w3.org/2000/svg\" height=\"24px\"viewBox=\"0 0 24 24\"\n",
              "       width=\"24px\">\n",
              "    <path d=\"M0 0h24v24H0V0z\" fill=\"none\"/>\n",
              "    <path d=\"M18.56 5.44l.94 2.06.94-2.06 2.06-.94-2.06-.94-.94-2.06-.94 2.06-2.06.94zm-11 1L8.5 8.5l.94-2.06 2.06-.94-2.06-.94L8.5 2.5l-.94 2.06-2.06.94zm10 10l.94 2.06.94-2.06 2.06-.94-2.06-.94-.94-2.06-.94 2.06-2.06.94z\"/><path d=\"M17.41 7.96l-1.37-1.37c-.4-.4-.92-.59-1.43-.59-.52 0-1.04.2-1.43.59L10.3 9.45l-7.72 7.72c-.78.78-.78 2.05 0 2.83L4 21.41c.39.39.9.59 1.41.59.51 0 1.02-.2 1.41-.59l7.78-7.78 2.81-2.81c.8-.78.8-2.07 0-2.86zM5.41 20L4 18.59l7.72-7.72 1.47 1.35L5.41 20z\"/>\n",
              "  </svg>\n",
              "      </button>\n",
              "      \n",
              "  <style>\n",
              "    .colab-df-container {\n",
              "      display:flex;\n",
              "      flex-wrap:wrap;\n",
              "      gap: 12px;\n",
              "    }\n",
              "\n",
              "    .colab-df-convert {\n",
              "      background-color: #E8F0FE;\n",
              "      border: none;\n",
              "      border-radius: 50%;\n",
              "      cursor: pointer;\n",
              "      display: none;\n",
              "      fill: #1967D2;\n",
              "      height: 32px;\n",
              "      padding: 0 0 0 0;\n",
              "      width: 32px;\n",
              "    }\n",
              "\n",
              "    .colab-df-convert:hover {\n",
              "      background-color: #E2EBFA;\n",
              "      box-shadow: 0px 1px 2px rgba(60, 64, 67, 0.3), 0px 1px 3px 1px rgba(60, 64, 67, 0.15);\n",
              "      fill: #174EA6;\n",
              "    }\n",
              "\n",
              "    [theme=dark] .colab-df-convert {\n",
              "      background-color: #3B4455;\n",
              "      fill: #D2E3FC;\n",
              "    }\n",
              "\n",
              "    [theme=dark] .colab-df-convert:hover {\n",
              "      background-color: #434B5C;\n",
              "      box-shadow: 0px 1px 3px 1px rgba(0, 0, 0, 0.15);\n",
              "      filter: drop-shadow(0px 1px 2px rgba(0, 0, 0, 0.3));\n",
              "      fill: #FFFFFF;\n",
              "    }\n",
              "  </style>\n",
              "\n",
              "      <script>\n",
              "        const buttonEl =\n",
              "          document.querySelector('#df-79eda1bc-19bf-49c0-8fb4-c1b34f8cf5fd button.colab-df-convert');\n",
              "        buttonEl.style.display =\n",
              "          google.colab.kernel.accessAllowed ? 'block' : 'none';\n",
              "\n",
              "        async function convertToInteractive(key) {\n",
              "          const element = document.querySelector('#df-79eda1bc-19bf-49c0-8fb4-c1b34f8cf5fd');\n",
              "          const dataTable =\n",
              "            await google.colab.kernel.invokeFunction('convertToInteractive',\n",
              "                                                     [key], {});\n",
              "          if (!dataTable) return;\n",
              "\n",
              "          const docLinkHtml = 'Like what you see? Visit the ' +\n",
              "            '<a target=\"_blank\" href=https://colab.research.google.com/notebooks/data_table.ipynb>data table notebook</a>'\n",
              "            + ' to learn more about interactive tables.';\n",
              "          element.innerHTML = '';\n",
              "          dataTable['output_type'] = 'display_data';\n",
              "          await google.colab.output.renderOutput(dataTable, element);\n",
              "          const docLink = document.createElement('div');\n",
              "          docLink.innerHTML = docLinkHtml;\n",
              "          element.appendChild(docLink);\n",
              "        }\n",
              "      </script>\n",
              "    </div>\n",
              "  </div>\n",
              "  "
            ]
          },
          "metadata": {},
          "execution_count": 14
        }
      ]
    },
    {
      "cell_type": "markdown",
      "source": [
        "# **EDA (\"Exploratory Data Analysis\") for categorical columns**\n",
        "\n",
        "\n",
        "\n",
        "\n",
        "\n"
      ],
      "metadata": {
        "id": "4tvJGoNShTkP"
      }
    },
    {
      "cell_type": "code",
      "source": [
        "customer_df[\"age\"].unique()"
      ],
      "metadata": {
        "colab": {
          "base_uri": "https://localhost:8080/"
        },
        "id": "iMBjPO_8RRsb",
        "outputId": "bb941575-5ee3-495e-c836-4b73f2bdda55"
      },
      "execution_count": 48,
      "outputs": [
        {
          "output_type": "execute_result",
          "data": {
            "text/plain": [
              "array([58, 44, 33, 47, 35, 28, 42, 43, 41, 29, 53, 57, 51, 45, 60, 56, 32,\n",
              "       25, 40, 39, 52, 46, 36, 49, 59, 37, 50, 54, 55, 48, 24, 38, 31, 30,\n",
              "       27, 34, 23, 26, 61, 22, 21, 20, 66, 62, 83, 75, 67, 70, 65, 68, 64,\n",
              "       69, 72, 71, 19, 76, 85, 63, 90, 82, 73, 74, 78, 80, 94, 79, 77, 86,\n",
              "       95, 81, 18, 89, 84, 87, 92, 93, 88])"
            ]
          },
          "metadata": {},
          "execution_count": 48
        }
      ]
    },
    {
      "cell_type": "code",
      "source": [
        "customer_df[\"job\"].unique()"
      ],
      "metadata": {
        "colab": {
          "base_uri": "https://localhost:8080/"
        },
        "id": "1vcvvyytRizD",
        "outputId": "b19b72b5-d35e-4082-f1e6-8b03fede185f"
      },
      "execution_count": 49,
      "outputs": [
        {
          "output_type": "execute_result",
          "data": {
            "text/plain": [
              "array(['management', 'technician', 'entrepreneur', 'blue-collar',\n",
              "       'unknown', 'retired', 'admin.', 'services', 'self-employed',\n",
              "       'unemployed', 'housemaid', 'student'], dtype=object)"
            ]
          },
          "metadata": {},
          "execution_count": 49
        }
      ]
    },
    {
      "cell_type": "code",
      "source": [
        "customer_df['marital'].unique()"
      ],
      "metadata": {
        "colab": {
          "base_uri": "https://localhost:8080/"
        },
        "id": "kdfsjk3KfuPT",
        "outputId": "976c432a-8d7e-47b0-ce3c-d409983dddb4"
      },
      "execution_count": 50,
      "outputs": [
        {
          "output_type": "execute_result",
          "data": {
            "text/plain": [
              "array(['married', 'single', 'divorced'], dtype=object)"
            ]
          },
          "metadata": {},
          "execution_count": 50
        }
      ]
    },
    {
      "cell_type": "code",
      "source": [
        "customer_df['education_qual'].unique()"
      ],
      "metadata": {
        "colab": {
          "base_uri": "https://localhost:8080/"
        },
        "id": "4h-FEAuejJ5h",
        "outputId": "05d971fb-a29b-492a-99b5-f8d2addf3532"
      },
      "execution_count": 51,
      "outputs": [
        {
          "output_type": "execute_result",
          "data": {
            "text/plain": [
              "array(['tertiary', 'secondary', 'unknown', 'primary'], dtype=object)"
            ]
          },
          "metadata": {},
          "execution_count": 51
        }
      ]
    },
    {
      "cell_type": "code",
      "source": [
        "# Group the data by job and education qualification\n",
        "grouped = customer_df.groupby(['job', 'education_qual']).size()\n",
        "print(grouped)"
      ],
      "metadata": {
        "colab": {
          "base_uri": "https://localhost:8080/"
        },
        "id": "VaWC_8cfmPCW",
        "outputId": "8ca5236f-18fc-4e71-b84e-be3755a7ef1b"
      },
      "execution_count": 52,
      "outputs": [
        {
          "output_type": "stream",
          "name": "stdout",
          "text": [
            "job            education_qual\n",
            "admin.         primary            209\n",
            "               secondary         4218\n",
            "               tertiary           572\n",
            "               unknown            171\n",
            "blue-collar    primary           3757\n",
            "               secondary         5370\n",
            "               tertiary           149\n",
            "               unknown            454\n",
            "entrepreneur   primary            183\n",
            "               secondary          542\n",
            "               tertiary           686\n",
            "               unknown             76\n",
            "housemaid      primary            627\n",
            "               secondary          395\n",
            "               tertiary           173\n",
            "               unknown             45\n",
            "management     primary            294\n",
            "               secondary         1121\n",
            "               tertiary          7800\n",
            "               unknown            242\n",
            "retired        primary            795\n",
            "               secondary          984\n",
            "               tertiary           366\n",
            "               unknown            119\n",
            "self-employed  primary            130\n",
            "               secondary          577\n",
            "               tertiary           833\n",
            "               unknown             39\n",
            "services       primary            345\n",
            "               secondary         3456\n",
            "               tertiary           202\n",
            "               unknown            150\n",
            "student        primary             44\n",
            "               secondary          508\n",
            "               tertiary           223\n",
            "               unknown            163\n",
            "technician     primary            158\n",
            "               secondary         5229\n",
            "               tertiary          1967\n",
            "               unknown            242\n",
            "unemployed     primary            257\n",
            "               secondary          728\n",
            "               tertiary           289\n",
            "               unknown             29\n",
            "unknown        primary             51\n",
            "               secondary           71\n",
            "               tertiary            39\n",
            "               unknown            127\n",
            "dtype: int64\n"
          ]
        }
      ]
    },
    {
      "cell_type": "code",
      "source": [
        "# Get the index of the maximum count for each job group\n",
        "max_idx = grouped.groupby('job').idxmax()\n",
        "print(max_idx)"
      ],
      "metadata": {
        "colab": {
          "base_uri": "https://localhost:8080/"
        },
        "id": "dD66CvVkm4Z-",
        "outputId": "c5e262b0-102e-4f46-a3fd-2dedcd10348e"
      },
      "execution_count": 53,
      "outputs": [
        {
          "output_type": "stream",
          "name": "stdout",
          "text": [
            "job\n",
            "admin.                 (admin., secondary)\n",
            "blue-collar       (blue-collar, secondary)\n",
            "entrepreneur      (entrepreneur, tertiary)\n",
            "housemaid             (housemaid, primary)\n",
            "management          (management, tertiary)\n",
            "retired               (retired, secondary)\n",
            "self-employed    (self-employed, tertiary)\n",
            "services             (services, secondary)\n",
            "student               (student, secondary)\n",
            "technician         (technician, secondary)\n",
            "unemployed         (unemployed, secondary)\n",
            "unknown                 (unknown, unknown)\n",
            "dtype: object\n"
          ]
        }
      ]
    },
    {
      "cell_type": "code",
      "source": [
        "# Extract the corresponding education qualification\n",
        "max_education = max_idx.apply(lambda x: x[1])\n",
        "print(max_education)"
      ],
      "metadata": {
        "colab": {
          "base_uri": "https://localhost:8080/"
        },
        "id": "c2FIDW_3mUPK",
        "outputId": "c7a9e892-f77e-421f-ff77-06ab11ccc8b9"
      },
      "execution_count": 54,
      "outputs": [
        {
          "output_type": "stream",
          "name": "stdout",
          "text": [
            "job\n",
            "admin.           secondary\n",
            "blue-collar      secondary\n",
            "entrepreneur      tertiary\n",
            "housemaid          primary\n",
            "management        tertiary\n",
            "retired          secondary\n",
            "self-employed     tertiary\n",
            "services         secondary\n",
            "student          secondary\n",
            "technician       secondary\n",
            "unemployed       secondary\n",
            "unknown            unknown\n",
            "dtype: object\n"
          ]
        }
      ]
    },
    {
      "cell_type": "code",
      "source": [
        "customer_df['call_type'].unique()"
      ],
      "metadata": {
        "colab": {
          "base_uri": "https://localhost:8080/"
        },
        "id": "92TXPI6onON6",
        "outputId": "66a39b48-7ca0-402d-8e5a-b1dc19a1ccdb"
      },
      "execution_count": 55,
      "outputs": [
        {
          "output_type": "execute_result",
          "data": {
            "text/plain": [
              "array(['unknown', 'cellular', 'telephone'], dtype=object)"
            ]
          },
          "metadata": {},
          "execution_count": 55
        }
      ]
    },
    {
      "cell_type": "code",
      "source": [
        "customer_df['mon'].unique()"
      ],
      "metadata": {
        "colab": {
          "base_uri": "https://localhost:8080/"
        },
        "id": "FU0jDx5u2q7P",
        "outputId": "4f598d42-99b3-433e-8758-2b68c4aa13ee"
      },
      "execution_count": 56,
      "outputs": [
        {
          "output_type": "execute_result",
          "data": {
            "text/plain": [
              "array(['may', 'jun', 'jul', 'aug', 'oct', 'nov', 'dec', 'jan', 'feb',\n",
              "       'mar', 'apr', 'sep'], dtype=object)"
            ]
          },
          "metadata": {},
          "execution_count": 56
        }
      ]
    },
    {
      "cell_type": "code",
      "source": [
        "customer_df['prev_outcome'].unique()"
      ],
      "metadata": {
        "colab": {
          "base_uri": "https://localhost:8080/"
        },
        "id": "YWD41sRz25Sp",
        "outputId": "66942cf4-e2c7-45b4-e1d7-c47b3c9c176d"
      },
      "execution_count": 57,
      "outputs": [
        {
          "output_type": "execute_result",
          "data": {
            "text/plain": [
              "array(['unknown', 'failure', 'other', 'success'], dtype=object)"
            ]
          },
          "metadata": {},
          "execution_count": 57
        }
      ]
    },
    {
      "cell_type": "code",
      "source": [
        "customer_df.groupby(['prev_outcome', 'y']).size()"
      ],
      "metadata": {
        "colab": {
          "base_uri": "https://localhost:8080/"
        },
        "id": "SlZ1upBO3WYF",
        "outputId": "ba013863-d552-46cb-ec06-8f3da877133b"
      },
      "execution_count": 58,
      "outputs": [
        {
          "output_type": "execute_result",
          "data": {
            "text/plain": [
              "prev_outcome  y\n",
              "failure       0     4283\n",
              "              1      618\n",
              "other         0     1533\n",
              "              1      307\n",
              "success       0      533\n",
              "              1      978\n",
              "unknown       0    33567\n",
              "              1     3386\n",
              "dtype: int64"
            ]
          },
          "metadata": {},
          "execution_count": 58
        }
      ]
    },
    {
      "cell_type": "code",
      "source": [
        "customer_df['num_calls'].unique()"
      ],
      "metadata": {
        "colab": {
          "base_uri": "https://localhost:8080/"
        },
        "id": "WhSGiOf33nMQ",
        "outputId": "27a4df81-740a-4010-abe9-84a479a364e6"
      },
      "execution_count": 59,
      "outputs": [
        {
          "output_type": "execute_result",
          "data": {
            "text/plain": [
              "array([ 1,  2,  3,  5,  4,  6,  7,  8,  9, 10, 11, 12, 13, 19, 14, 24, 16,\n",
              "       32, 18, 22, 15, 17, 25, 21, 43, 51, 63, 41, 26, 28, 55, 50, 38, 23,\n",
              "       20, 29, 31, 37, 30, 46, 27, 58, 33, 35, 34, 36, 39, 44])"
            ]
          },
          "metadata": {},
          "execution_count": 59
        }
      ]
    },
    {
      "cell_type": "code",
      "source": [
        "# Get the job counts and total number of jobs\n",
        "job_counts = dict(customer_df['job'].value_counts())\n",
        "total_jobs = customer_df['job'].value_counts().sum()\n",
        "\n",
        "# Calculate the percentages\n",
        "percentages = [(count / total_jobs) * 100 for count in job_counts.values()]\n",
        "\n",
        "# Create the labels and colors\n",
        "labels = list(job_counts.keys())\n",
        "colors = ['yellowgreen', 'gold', 'lightskyblue', 'lightcoral']\n",
        "\n",
        "# Create a figure and axis\n",
        "fig, ax = plt.subplots(figsize=(14, 8))\n",
        "\n",
        "# Create the pie chart\n",
        "ax.pie(percentages, labels=labels, colors=colors, autopct='%1.1f%%')\n",
        "\n",
        "# Set the title\n",
        "ax.set_title('Pie Chart of Job Distribution')\n",
        "\n",
        "# Show the plot\n",
        "plt.show()\n"
      ],
      "metadata": {
        "colab": {
          "base_uri": "https://localhost:8080/",
          "height": 482
        },
        "id": "2aTrboTpRoZN",
        "outputId": "2c886f6f-5ef5-4974-d74b-16c47b6e2216"
      },
      "execution_count": 60,
      "outputs": [
        {
          "output_type": "display_data",
          "data": {
            "text/plain": [
              "<Figure size 1008x576 with 1 Axes>"
            ],
            "image/png": "[encoded data removed]"
          },
          "metadata": {}
        }
      ]
    },
    {
      "cell_type": "code",
      "source": [
        "# Get the education counts and total number of educations\n",
        "edu_counts = dict(customer_df['education_qual'].value_counts())\n",
        "total_edus = customer_df['education_qual'].value_counts().sum()\n",
        "\n",
        "# Calculate the percentages for the second chart\n",
        "percentages = [(count / total_edus) * 100 for count in edu_counts.values()]\n",
        "\n",
        "# Create the labels and colors for the second chart\n",
        "labels = list(edu_counts.keys())\n",
        "colors = ['gold', 'blue', 'green', 'orange', 'purple']\n",
        "\n",
        "# Create a figure and axis for the second chart\n",
        "fig, ax = plt.subplots(figsize=(8, 8))\n",
        "\n",
        "# Create the pie chart for the second chart\n",
        "ax.pie(percentages, labels=labels, colors=colors, autopct='%1.1f%%')\n",
        "\n",
        "# Set the title for the second chart\n",
        "ax.set_title(\"Education Details\")\n",
        "\n",
        "# Show the second chart\n",
        "plt.show()\n"
      ],
      "metadata": {
        "colab": {
          "base_uri": "https://localhost:8080/",
          "height": 482
        },
        "id": "_HN-aMwnkenX",
        "outputId": "3169b27c-1cc5-41a0-cd28-76ba6a2b66d6"
      },
      "execution_count": 61,
      "outputs": [
        {
          "output_type": "display_data",
          "data": {
            "text/plain": [
              "<Figure size 576x576 with 1 Axes>"
            ],
            "image/png": "[encoded data removed]"
          },
          "metadata": {}
        }
      ]
    },
    {
      "cell_type": "code",
      "source": [
        "# Get the call type counts and total number of call type\n",
        "\n",
        "call_type_count = dict(customer_df['call_type'].value_counts())\n",
        "total_call_type = customer_df['call_type'].value_counts().sum()\n",
        "\n",
        "# Calculate the percentages for the second chart\n",
        "percent = []\n",
        "for i in list(customer_df['call_type'].value_counts()):\n",
        "    percent.append((int(i) / total_call_type) * 100)\n",
        "\n",
        "# Creating the pie chart\n",
        "fig, ax = plt.subplots(figsize=(8, 8))\n",
        "ax.pie(percent, labels=call_type_count.keys(), autopct='%1.1f%%', startangle=90, colors=['yellow', 'blue', 'green', 'maroon', 'purple'])\n",
        "\n",
        "# Setting the title\n",
        "ax.set_title(\"Call Type Details\")\n",
        "\n",
        "# Displaying the chart\n",
        "plt.show()"
      ],
      "metadata": {
        "colab": {
          "base_uri": "https://localhost:8080/",
          "height": 482
        },
        "id": "4mYp3iq_lZJI",
        "outputId": "3a1ca37e-6cd9-4c32-d080-f6a4bfa22374"
      },
      "execution_count": 62,
      "outputs": [
        {
          "output_type": "display_data",
          "data": {
            "text/plain": [
              "<Figure size 576x576 with 1 Axes>"
            ],
            "image/png": "[encoded data removed]"
          },
          "metadata": {}
        }
      ]
    },
    {
      "cell_type": "code",
      "source": [
        "data = pd.get_dummies(customer_df, columns=['job','marital','education_qual','call_type','mon','prev_outcome'])\n",
        "data.info()"
      ],
      "metadata": {
        "colab": {
          "base_uri": "https://localhost:8080/"
        },
        "id": "o-q_z93B7o49",
        "outputId": "1a373f70-da83-4eea-8726-52b2791b600c"
      },
      "execution_count": 63,
      "outputs": [
        {
          "output_type": "stream",
          "name": "stdout",
          "text": [
            "<class 'pandas.core.frame.DataFrame'>\n",
            "Int64Index: 45205 entries, 0 to 45210\n",
            "Data columns (total 43 columns):\n",
            " #   Column                    Non-Null Count  Dtype\n",
            "---  ------                    --------------  -----\n",
            " 0   age                       45205 non-null  int64\n",
            " 1   day                       45205 non-null  int64\n",
            " 2   dur                       45205 non-null  int64\n",
            " 3   num_calls                 45205 non-null  int64\n",
            " 4   y                         45205 non-null  int64\n",
            " 5   job_admin.                45205 non-null  uint8\n",
            " 6   job_blue-collar           45205 non-null  uint8\n",
            " 7   job_entrepreneur          45205 non-null  uint8\n",
            " 8   job_housemaid             45205 non-null  uint8\n",
            " 9   job_management            45205 non-null  uint8\n",
            " 10  job_retired               45205 non-null  uint8\n",
            " 11  job_self-employed         45205 non-null  uint8\n",
            " 12  job_services              45205 non-null  uint8\n",
            " 13  job_student               45205 non-null  uint8\n",
            " 14  job_technician            45205 non-null  uint8\n",
            " 15  job_unemployed            45205 non-null  uint8\n",
            " 16  job_unknown               45205 non-null  uint8\n",
            " 17  marital_divorced          45205 non-null  uint8\n",
            " 18  marital_married           45205 non-null  uint8\n",
            " 19  marital_single            45205 non-null  uint8\n",
            " 20  education_qual_primary    45205 non-null  uint8\n",
            " 21  education_qual_secondary  45205 non-null  uint8\n",
            " 22  education_qual_tertiary   45205 non-null  uint8\n",
            " 23  education_qual_unknown    45205 non-null  uint8\n",
            " 24  call_type_cellular        45205 non-null  uint8\n",
            " 25  call_type_telephone       45205 non-null  uint8\n",
            " 26  call_type_unknown         45205 non-null  uint8\n",
            " 27  mon_apr                   45205 non-null  uint8\n",
            " 28  mon_aug                   45205 non-null  uint8\n",
            " 29  mon_dec                   45205 non-null  uint8\n",
            " 30  mon_feb                   45205 non-null  uint8\n",
            " 31  mon_jan                   45205 non-null  uint8\n",
            " 32  mon_jul                   45205 non-null  uint8\n",
            " 33  mon_jun                   45205 non-null  uint8\n",
            " 34  mon_mar                   45205 non-null  uint8\n",
            " 35  mon_may                   45205 non-null  uint8\n",
            " 36  mon_nov                   45205 non-null  uint8\n",
            " 37  mon_oct                   45205 non-null  uint8\n",
            " 38  mon_sep                   45205 non-null  uint8\n",
            " 39  prev_outcome_failure      45205 non-null  uint8\n",
            " 40  prev_outcome_other        45205 non-null  uint8\n",
            " 41  prev_outcome_success      45205 non-null  uint8\n",
            " 42  prev_outcome_unknown      45205 non-null  uint8\n",
            "dtypes: int64(5), uint8(38)\n",
            "memory usage: 3.7 MB\n"
          ]
        }
      ]
    },
    {
      "cell_type": "code",
      "source": [
        "data['y'].value_counts()\n"
      ],
      "metadata": {
        "colab": {
          "base_uri": "https://localhost:8080/"
        },
        "id": "6t_kiWd6JCJe",
        "outputId": "808eee86-f8a0-4278-c279-bd6dede9cd7a"
      },
      "execution_count": 64,
      "outputs": [
        {
          "output_type": "execute_result",
          "data": {
            "text/plain": [
              "0    39916\n",
              "1     5289\n",
              "Name: y, dtype: int64"
            ]
          },
          "metadata": {},
          "execution_count": 64
        }
      ]
    },
    {
      "cell_type": "code",
      "source": [
        "# Separating the features and target variable\n",
        "x = data.drop('y', axis=1).values\n",
        "y = data['y'].values\n",
        "\n",
        "# Splitting the data into training and testing sets\n",
        "x_train, X_test, y_train, y_test = train_test_split(x, y, test_size=0.25, random_state=0)\n",
        "\n",
        "# Creating a pie chart of the target variable distribution\n",
        "plt.figure(figsize=(5,5))\n",
        "plt.pie(data.y.value_counts(), labels=['No', 'Yes'], autopct='%1.1f%%', colors=['gold','maroon'])\n",
        "plt.title(\"Distribution of Target Variable\")\n",
        "plt.show()\n"
      ],
      "metadata": {
        "colab": {
          "base_uri": "https://localhost:8080/",
          "height": 319
        },
        "id": "e1ePu7GuCyio",
        "outputId": "9ae4dd9a-963e-4bad-b6cf-ae2893741e16"
      },
      "execution_count": 65,
      "outputs": [
        {
          "output_type": "display_data",
          "data": {
            "text/plain": [
              "<Figure size 360x360 with 1 Axes>"
            ],
            "image/png": "[encoded data removed]"
          },
          "metadata": {}
        }
      ]
    },
    {
      "cell_type": "code",
      "source": [
        "# Applying SMOTE to balance the data\n",
        "smote = SMOTE()\n",
        "x_smote, y_smote = smote.fit_resample(x, y)\n",
        "\n",
        "# Printing the shapes of original and resampled datasets\n",
        "print('Original unbalanced dataset shape:', len(data))\n",
        "print('Resampled balanced dataset shape:', len(y_smote))\n",
        "\n",
        "# Creating a new balanced dataframe and plotting the balanced target variable distribution as a pie chart\n",
        "balanced_df = pd.DataFrame(x_smote, columns=[i for i in data.columns if i != 'y'])\n",
        "balanced_df['y'] = y_smote\n",
        "pie_chart = balanced_df.y.value_counts().plot(kind='pie', autopct='%1.1f%%', colors=['yellow','blue'], labels=['No', 'Yes'])\n",
        "pie_chart.set_title(\"Balanced Target Variable Distribution\")\n",
        "\n"
      ],
      "metadata": {
        "colab": {
          "base_uri": "https://localhost:8080/",
          "height": 316
        },
        "id": "YpvrCZjTD3vD",
        "outputId": "5740bae5-d3bc-4190-f017-24a89a6e9165"
      },
      "execution_count": 66,
      "outputs": [
        {
          "output_type": "stream",
          "name": "stdout",
          "text": [
            "Original unbalanced dataset shape: 45205\n",
            "Resampled balanced dataset shape: 79832\n"
          ]
        },
        {
          "output_type": "execute_result",
          "data": {
            "text/plain": [
              "Text(0.5, 1.0, 'Balanced Target Variable Distribution')"
            ]
          },
          "metadata": {},
          "execution_count": 66
        },
        {
          "output_type": "display_data",
          "data": {
            "text/plain": [
              "<Figure size 432x288 with 1 Axes>"
            ],
            "image/png": "[encoded data removed]"
          },
          "metadata": {}
        }
      ]
    },
    {
      "cell_type": "code",
      "source": [
        "# Extracting feature matrix x\n",
        "x = balanced_df.drop(['y','prev_outcome_failure', 'prev_outcome_other', 'prev_outcome_success', 'prev_outcome_unknown'], axis=1)\n",
        "\n",
        "# Printing the shape of X\n",
        "print(x.shape)\n"
      ],
      "metadata": {
        "colab": {
          "base_uri": "https://localhost:8080/"
        },
        "id": "4jhk4fcFCAo2",
        "outputId": "651ba9f1-1a37-41cd-db06-739dee58f941"
      },
      "execution_count": 67,
      "outputs": [
        {
          "output_type": "stream",
          "name": "stdout",
          "text": [
            "(79832, 38)\n"
          ]
        }
      ]
    },
    {
      "cell_type": "markdown",
      "source": [
        "# **Linear regression**"
      ],
      "metadata": {
        "id": "AQHLRETW1gZu"
      }
    },
    {
      "cell_type": "code",
      "source": [
        "# Create a logistic regression object\n",
        "lr = LogisticRegression()\n",
        "\n",
        "# Fit the model on the training data\n",
        "lr.fit(x_train, y_train)\n",
        "\n",
        "# Get the accuracy score on the test data\n",
        "accuracy = lr.score(X_test, y_test)\n",
        "\n",
        "# Print the accuracy score\n",
        "print(\"Accuracy:\", accuracy)\n",
        "\n",
        "# Get the ROC curve data\n",
        "fpr, tpr, thresholds = roc_curve(y_test, lr.predict_proba(X_test)[:,1])\n",
        "\n",
        "# Get the ROC AUC score on the test data\n",
        "roc_auc = roc_auc_score(y_test, lr.predict_proba(X_test)[:,1])\n",
        "\n",
        "# Plot the ROC curve\n",
        "plt.plot(fpr, tpr, label=\"ROC Curve (AUC = {:.3f})\".format(roc_auc))\n",
        "plt.plot([0, 1], [0, 1], linestyle='--', label=\"Random Guessing\")\n",
        "plt.xlabel(\"False Positive Rate\")\n",
        "plt.ylabel(\"True Positive Rate\")\n",
        "plt.title(\"Receiver Operating Characteristic (ROC) Curve\")\n",
        "plt.legend()\n",
        "plt.show()\n"
      ],
      "metadata": {
        "colab": {
          "base_uri": "https://localhost:8080/",
          "height": 451
        },
        "id": "ILU8N7MgLbgM",
        "outputId": "3e731366-8fc4-4774-a42c-1928a00631da"
      },
      "execution_count": 89,
      "outputs": [
        {
          "output_type": "stream",
          "name": "stderr",
          "text": [
            "/usr/local/lib/python3.9/dist-packages/sklearn/linear_model/_logistic.py:458: ConvergenceWarning: lbfgs failed to converge (status=1):\n",
            "STOP: TOTAL NO. of ITERATIONS REACHED LIMIT.\n",
            "\n",
            "Increase the number of iterations (max_iter) or scale the data as shown in:\n",
            "    https://scikit-learn.org/stable/modules/preprocessing.html\n",
            "Please also refer to the documentation for alternative solver options:\n",
            "    https://scikit-learn.org/stable/modules/linear_model.html#logistic-regression\n",
            "  n_iter_i = _check_optimize_result(\n"
          ]
        },
        {
          "output_type": "stream",
          "name": "stdout",
          "text": [
            "Accuracy: 0.7907450008847992\n"
          ]
        },
        {
          "output_type": "display_data",
          "data": {
            "text/plain": [
              "<Figure size 432x288 with 1 Axes>"
            ],
            "image/png": "[encoded data removed]"
          },
          "metadata": {
            "needs_background": "light"
          }
        }
      ]
    },
    {
      "cell_type": "markdown",
      "source": [
        "# **KNN algorithm**"
      ],
      "metadata": {
        "id": "q_CQidsPuBZ_"
      }
    },
    {
      "cell_type": "code",
      "source": [
        "from sklearn.preprocessing import StandardScaler\n",
        "from sklearn.neighbors import KNeighborsClassifier\n",
        "from sklearn.model_selection import cross_val_score\n",
        "\n",
        "scaler = StandardScaler()\n",
        "x_train_scaled = scaler.fit_transform(x_train)\n",
        "x_test_scaled = scaler.transform(X_test)\n",
        "\n",
        "for k in [1,2,3,4,5,6,7,8,9,10,20,50]:\n",
        "    knn = KNeighborsClassifier(k)\n",
        "    knn.fit(x_train_scaled, y_train)\n",
        "    train_score = knn.score(x_train_scaled, y_train)\n",
        "    cv_score = np.mean(cross_val_score(knn, x_train_scaled, y_train, cv=5))\n",
        "    print(f\"K = {k}, Train accuracy: {train_score:.4f}, CV accuracy: {cv_score:.4f}\")\n",
        "\n",
        "knn = KNeighborsClassifier(n_neighbors=9)\n",
        "knn.fit(x_train_scaled, y_train)\n",
        "test_score = knn.score(x_test_scaled, y_test)\n",
        "print(f\"Test accuracy: {test_score:.4f}\")\n"
      ],
      "metadata": {
        "colab": {
          "base_uri": "https://localhost:8080/"
        },
        "id": "L9FWQwW4MFnx",
        "outputId": "e0727554-72c9-46cf-c41d-47c2d5ffc6b9"
      },
      "execution_count": 79,
      "outputs": [
        {
          "output_type": "stream",
          "name": "stdout",
          "text": [
            "K = 1, Train accuracy: 1.0000, CV accuracy: 0.8725\n",
            "K = 2, Train accuracy: 0.9303, CV accuracy: 0.8889\n",
            "K = 3, Train accuracy: 0.9326, CV accuracy: 0.8886\n",
            "K = 4, Train accuracy: 0.9176, CV accuracy: 0.8920\n",
            "K = 5, Train accuracy: 0.9190, CV accuracy: 0.8926\n",
            "K = 6, Train accuracy: 0.9114, CV accuracy: 0.8929\n",
            "K = 7, Train accuracy: 0.9123, CV accuracy: 0.8938\n",
            "K = 8, Train accuracy: 0.9081, CV accuracy: 0.8938\n",
            "K = 9, Train accuracy: 0.9090, CV accuracy: 0.8946\n",
            "K = 10, Train accuracy: 0.9054, CV accuracy: 0.8946\n",
            "K = 20, Train accuracy: 0.8992, CV accuracy: 0.8941\n",
            "K = 50, Train accuracy: 0.8956, CV accuracy: 0.8922\n",
            "Test accuracy: 0.8910\n"
          ]
        }
      ]
    },
    {
      "cell_type": "code",
      "source": [
        "import matplotlib.pyplot as plt\n",
        "\n",
        "train_scores = []\n",
        "cv_scores = []\n",
        "\n",
        "for k in range(1, 51):\n",
        "    knn = KNeighborsClassifier(n_neighbors=k)\n",
        "    train_score = knn.fit(x_train_scaled, y_train).score(x_train_scaled, y_train)\n",
        "    cv_score = np.mean(cross_val_score(knn, x_train_scaled, y_train, cv=5)) \n",
        "    train_scores.append(train_score)\n",
        "    cv_scores.append(cv_score)\n",
        "\n",
        "plt.plot(range(1, 51), train_scores, label=\"Train\")\n",
        "plt.plot(range(1, 51), cv_scores, label=\"Cross-validation\")\n",
        "plt.xlabel(\"k\")\n",
        "plt.ylabel(\"Accuracy\")\n",
        "plt.legend()\n",
        "plt.show()\n"
      ],
      "metadata": {
        "colab": {
          "base_uri": "https://localhost:8080/",
          "height": 279
        },
        "id": "o9M7ZDFPCBMA",
        "outputId": "f18cec12-a401-4a12-89ba-e19866bfe03a"
      },
      "execution_count": 83,
      "outputs": [
        {
          "output_type": "display_data",
          "data": {
            "text/plain": [
              "<Figure size 432x288 with 1 Axes>"
            ],
            "image/png": "[encoded data removed]"
          },
          "metadata": {
            "needs_background": "light"
          }
        }
      ]
    },
    {
      "cell_type": "code",
      "source": [
        "cv_scores"
      ],
      "metadata": {
        "colab": {
          "base_uri": "https://localhost:8080/"
        },
        "id": "bRFnk53VxJWQ",
        "outputId": "b1befb1e-f259-4217-b84b-68abf700c65d"
      },
      "execution_count": 85,
      "outputs": [
        {
          "output_type": "execute_result",
          "data": {
            "text/plain": [
              "[0.8725481314048146,\n",
              " 0.888859384563584,\n",
              " 0.8885643384104206,\n",
              " 0.8919564164838507,\n",
              " 0.8926052404797545,\n",
              " 0.8929297242555657,\n",
              " 0.8937851118799317,\n",
              " 0.8938146452063919,\n",
              " 0.8945519995789033,\n",
              " 0.8946405125548175,\n",
              " 0.8952304656555994,\n",
              " 0.8950830165319635,\n",
              " 0.8953779321799283,\n",
              " 0.8952304874064657,\n",
              " 0.8950830339326566,\n",
              " 0.8939326523572066,\n",
              " 0.8950829295284978,\n",
              " 0.894198043379058,\n",
              " 0.8945225054040028,\n",
              " 0.8940800405784165,\n",
              " 0.8942865172034127,\n",
              " 0.894257049129552,\n",
              " 0.8949944339532765,\n",
              " 0.8945520082792499,\n",
              " 0.894876431152635,\n",
              " 0.8945520169795964,\n",
              " 0.8946699806286784,\n",
              " 0.8942570534797254,\n",
              " 0.8950534179529042,\n",
              " 0.8948764659540214,\n",
              " 0.8948764398529816,\n",
              " 0.8944339924280884,\n",
              " 0.8945519734778635,\n",
              " 0.8941979955271518,\n",
              " 0.8941095173526236,\n",
              " 0.8938735378523802,\n",
              " 0.8937850509775057,\n",
              " 0.8939915406530219,\n",
              " 0.8936670655775572,\n",
              " 0.8934015832020668,\n",
              " 0.8933131267784052,\n",
              " 0.8931656298028632,\n",
              " 0.8931951283279369,\n",
              " 0.8929001778785859,\n",
              " 0.8929296633531395,\n",
              " 0.8929001996294522,\n",
              " 0.892900195279279,\n",
              " 0.8923397494039176,\n",
              " 0.8927527070040835,\n",
              " 0.8922217901050088]"
            ]
          },
          "metadata": {},
          "execution_count": 85
        }
      ]
    },
    {
      "cell_type": "code",
      "source": [
        "train_scores"
      ],
      "metadata": {
        "colab": {
          "base_uri": "https://localhost:8080/"
        },
        "id": "3g5wUCp_B8Ds",
        "outputId": "eba7678e-1d67-48d8-c375-625ab3ddd5a3"
      },
      "execution_count": 87,
      "outputs": [
        {
          "output_type": "execute_result",
          "data": {
            "text/plain": [
              "[1.0,\n",
              " 0.9302716573754535,\n",
              " 0.9326313305607173,\n",
              " 0.9175589180898446,\n",
              " 0.9190337138306345,\n",
              " 0.9113942718933428,\n",
              " 0.9123086452526326,\n",
              " 0.9081497212636049,\n",
              " 0.9090051027932632,\n",
              " 0.9054066011857358,\n",
              " 0.9066454296079993,\n",
              " 0.9033713830634457,\n",
              " 0.9047576910597882,\n",
              " 0.9031059198301036,\n",
              " 0.9033713830634457,\n",
              " 0.9012476771967083,\n",
              " 0.9018080995782084,\n",
              " 0.9000088487744448,\n",
              " 0.9004217915818659,\n",
              " 0.8991534672447866,\n",
              " 0.8998613692003657,\n",
              " 0.8989174999262602,\n",
              " 0.8994779223077604,\n",
              " 0.8984750612040232,\n",
              " 0.8987995162669971,\n",
              " 0.8984750612040232,\n",
              " 0.8990354835855234,\n",
              " 0.8985340530336549,\n",
              " 0.8985930448632864,\n",
              " 0.8977376633336283,\n",
              " 0.8977966551632599,\n",
              " 0.8973247205262072,\n",
              " 0.8977081674188125,\n",
              " 0.8971772409521281,\n",
              " 0.8975016960151019,\n",
              " 0.8967053063150754,\n",
              " 0.8972362327817597,\n",
              " 0.8969707695484176,\n",
              " 0.8970887532076808,\n",
              " 0.8967642981447069,\n",
              " 0.8967053063150754,\n",
              " 0.8962923635076542,\n",
              " 0.8964988349113647,\n",
              " 0.8962923635076542,\n",
              " 0.8960563961891278,\n",
              " 0.8958499247854173,\n",
              " 0.8959384125298646,\n",
              " 0.8957024452113382,\n",
              " 0.8957024452113382,\n",
              " 0.8956139574668909]"
            ]
          },
          "metadata": {},
          "execution_count": 87
        }
      ]
    },
    {
      "cell_type": "markdown",
      "source": [
        "# **Descison tree**"
      ],
      "metadata": {
        "id": "oAPjsqAj1zKo"
      }
    },
    {
      "cell_type": "code",
      "source": [
        "from sklearn.tree import DecisionTreeClassifier  \n",
        "decision_tree = DecisionTreeClassifier(criterion='entropy', random_state=42)  \n",
        "decision_tree.fit(x_train, y_train)\n",
        "DT_y_pred= decision_tree.predict(X_test)\n",
        "from sklearn import metrics\n",
        "DT_Score = metrics.roc_auc_score(y_test, DT_y_pred)\n",
        "DT_Score"
      ],
      "metadata": {
        "colab": {
          "base_uri": "https://localhost:8080/"
        },
        "id": "KnHB0m1D180z",
        "outputId": "50b712cc-c9c0-441d-9607-f0f27bd83561"
      },
      "execution_count": 90,
      "outputs": [
        {
          "output_type": "execute_result",
          "data": {
            "text/plain": [
              "0.5041164306631359"
            ]
          },
          "metadata": {},
          "execution_count": 90
        }
      ]
    },
    {
      "cell_type": "code",
      "source": [
        "from sklearn.tree import DecisionTreeClassifier\n",
        "\n",
        "dt = DecisionTreeClassifier(max_depth = 5)\n",
        "dt.fit(x_train, y_train)\n",
        "y_pred = dt.predict(X_test)\n",
        "y_pred"
      ],
      "metadata": {
        "colab": {
          "base_uri": "https://localhost:8080/"
        },
        "id": "1jlqEiHt2DAS",
        "outputId": "517ddb74-14c7-4301-9f8f-d39c8b920d66"
      },
      "execution_count": 91,
      "outputs": [
        {
          "output_type": "execute_result",
          "data": {
            "text/plain": [
              "array([0, 0, 0, ..., 0, 0, 0])"
            ]
          },
          "metadata": {},
          "execution_count": 91
        }
      ]
    },
    {
      "cell_type": "code",
      "source": [
        "roc_auc_score(y_test, dt.predict_proba(X_test)[:, 1])\n"
      ],
      "metadata": {
        "colab": {
          "base_uri": "https://localhost:8080/"
        },
        "id": "oNHoAlbw2pM_",
        "outputId": "c1c62ff7-f7fb-46a0-d26b-c3f03fe29ba2"
      },
      "execution_count": 92,
      "outputs": [
        {
          "output_type": "execute_result",
          "data": {
            "text/plain": [
              "0.6219732232472026"
            ]
          },
          "metadata": {},
          "execution_count": 92
        }
      ]
    },
    {
      "cell_type": "code",
      "source": [],
      "metadata": {
        "id": "D-ZwdENX2ufP"
      },
      "execution_count": null,
      "outputs": []
    }
  ]
}