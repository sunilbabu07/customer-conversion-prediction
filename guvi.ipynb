{
  "nbformat": 4,
  "nbformat_minor": 0,
  "metadata": {
    "colab": {
      "provenance": [],
      "collapsed_sections": [
        "QogbHZCAcHxY",
        "fV4pzGe5ceW2",
        "Ua8OfAwMcbcC",
        "Tcdw2vo_g0ek",
        "4tvJGoNShTkP",
        "Dw-a7_EIbOh_",
        "JzlNORNrcgmA"
      ],
      "authorship_tag": "ABX9TyNE8qMskkOZXCVSllBsdkJC",
      "include_colab_link": true
    },
    "kernelspec": {
      "name": "python3",
      "display_name": "Python 3"
    },
    "language_info": {
      "name": "python"
    }
  },
  "cells": [
    {
      "cell_type": "markdown",
      "metadata": {
        "id": "view-in-github",
        "colab_type": "text"
      },
      "source": [
        "<a href=\"https://colab.research.google.com/github/sunilbabu07/customer-conversion-prediction/blob/main/guvi.ipynb\" target=\"_parent\"><img src=\"https://colab.research.google.com/assets/colab-badge.svg\" alt=\"Open In Colab\"/></a>"
      ]
    },
    {
      "cell_type": "markdown",
      "source": [
        "# **Importing required libraries**\n"
      ],
      "metadata": {
        "id": "QogbHZCAcHxY"
      }
    },
    {
      "cell_type": "code",
      "source": [
        "!pip install category_encoders"
      ],
      "metadata": {
        "colab": {
          "base_uri": "https://localhost:8080/"
        },
        "id": "-63sRWgWXTVz",
        "outputId": "5cb0aebb-2e55-481d-f6b9-3c99e173d0ed"
      },
      "execution_count": 44,
      "outputs": [
        {
          "output_type": "stream",
          "name": "stdout",
          "text": [
            "Looking in indexes: https://pypi.org/simple, https://us-python.pkg.dev/colab-wheels/public/simple/\n",
            "Requirement already satisfied: category_encoders in /usr/local/lib/python3.9/dist-packages (2.6.0)\n",
            "Requirement already satisfied: pandas>=1.0.5 in /usr/local/lib/python3.9/dist-packages (from category_encoders) (1.4.4)\n",
            "Requirement already satisfied: statsmodels>=0.9.0 in /usr/local/lib/python3.9/dist-packages (from category_encoders) (0.13.5)\n",
            "Requirement already satisfied: scikit-learn>=0.20.0 in /usr/local/lib/python3.9/dist-packages (from category_encoders) (1.2.2)\n",
            "Requirement already satisfied: patsy>=0.5.1 in /usr/local/lib/python3.9/dist-packages (from category_encoders) (0.5.3)\n",
            "Requirement already satisfied: scipy>=1.0.0 in /usr/local/lib/python3.9/dist-packages (from category_encoders) (1.10.1)\n",
            "Requirement already satisfied: numpy>=1.14.0 in /usr/local/lib/python3.9/dist-packages (from category_encoders) (1.22.4)\n",
            "Requirement already satisfied: pytz>=2020.1 in /usr/local/lib/python3.9/dist-packages (from pandas>=1.0.5->category_encoders) (2022.7.1)\n",
            "Requirement already satisfied: python-dateutil>=2.8.1 in /usr/local/lib/python3.9/dist-packages (from pandas>=1.0.5->category_encoders) (2.8.2)\n",
            "Requirement already satisfied: six in /usr/local/lib/python3.9/dist-packages (from patsy>=0.5.1->category_encoders) (1.15.0)\n",
            "Requirement already satisfied: threadpoolctl>=2.0.0 in /usr/local/lib/python3.9/dist-packages (from scikit-learn>=0.20.0->category_encoders) (3.1.0)\n",
            "Requirement already satisfied: joblib>=1.1.1 in /usr/local/lib/python3.9/dist-packages (from scikit-learn>=0.20.0->category_encoders) (1.1.1)\n",
            "Requirement already satisfied: packaging>=21.3 in /usr/local/lib/python3.9/dist-packages (from statsmodels>=0.9.0->category_encoders) (23.0)\n"
          ]
        }
      ]
    },
    {
      "cell_type": "code",
      "execution_count": 105,
      "metadata": {
        "id": "DsPlHRTBKWBL"
      },
      "outputs": [],
      "source": [
        "import pandas as pd\n",
        "import numpy as np\n",
        "import matplotlib.pyplot as plt\n",
        "from sklearn.preprocessing import StandardScaler\n",
        "from sklearn.impute import SimpleImputer\n",
        "from sklearn.compose import ColumnTransformer\n",
        "from sklearn.pipeline import Pipeline\n",
        "from category_encoders import OrdinalEncoder\n",
        "from sklearn.model_selection import train_test_split\n",
        "from sklearn.linear_model import LogisticRegression\n",
        "from sklearn.tree import DecisionTreeClassifier\n",
        "from sklearn.ensemble import RandomForestClassifier\n",
        "from xgboost import XGBClassifier\n",
        "from sklearn.metrics import roc_auc_score\n"
      ]
    },
    {
      "cell_type": "markdown",
      "source": [
        "# **Importing the dataset from github repository**"
      ],
      "metadata": {
        "id": "fV4pzGe5ceW2"
      }
    },
    {
      "cell_type": "code",
      "source": [
        "customer_df = pd.read_csv(\"https://github.com/sunilbabu07/customer-conversion-prediction/blob/main/train.csv?raw=true\")\n",
        "customer_df.head()"
      ],
      "metadata": {
        "colab": {
          "base_uri": "https://localhost:8080/",
          "height": 0
        },
        "id": "eu5VN2SAKaIK",
        "outputId": "48cb0566-6a71-4796-c847-ccd8521a65e5"
      },
      "execution_count": 46,
      "outputs": [
        {
          "output_type": "execute_result",
          "data": {
            "text/plain": [
              "   age           job  marital education_qual call_type  day  mon  dur  \\\n",
              "0   58    management  married       tertiary   unknown    5  may  261   \n",
              "1   44    technician   single      secondary   unknown    5  may  151   \n",
              "2   33  entrepreneur  married      secondary   unknown    5  may   76   \n",
              "3   47   blue-collar  married        unknown   unknown    5  may   92   \n",
              "4   33       unknown   single        unknown   unknown    5  may  198   \n",
              "\n",
              "   num_calls prev_outcome   y  \n",
              "0          1      unknown  no  \n",
              "1          1      unknown  no  \n",
              "2          1      unknown  no  \n",
              "3          1      unknown  no  \n",
              "4          1      unknown  no  "
            ],
            "text/html": [
              "\n",
              "  <div id=\"df-e1270e85-85a4-4af3-8125-5d683900a244\">\n",
              "    <div class=\"colab-df-container\">\n",
              "      <div>\n",
              "<style scoped>\n",
              "    .dataframe tbody tr th:only-of-type {\n",
              "        vertical-align: middle;\n",
              "    }\n",
              "\n",
              "    .dataframe tbody tr th {\n",
              "        vertical-align: top;\n",
              "    }\n",
              "\n",
              "    .dataframe thead th {\n",
              "        text-align: right;\n",
              "    }\n",
              "</style>\n",
              "<table border=\"1\" class=\"dataframe\">\n",
              "  <thead>\n",
              "    <tr style=\"text-align: right;\">\n",
              "      <th></th>\n",
              "      <th>age</th>\n",
              "      <th>job</th>\n",
              "      <th>marital</th>\n",
              "      <th>education_qual</th>\n",
              "      <th>call_type</th>\n",
              "      <th>day</th>\n",
              "      <th>mon</th>\n",
              "      <th>dur</th>\n",
              "      <th>num_calls</th>\n",
              "      <th>prev_outcome</th>\n",
              "      <th>y</th>\n",
              "    </tr>\n",
              "  </thead>\n",
              "  <tbody>\n",
              "    <tr>\n",
              "      <th>0</th>\n",
              "      <td>58</td>\n",
              "      <td>management</td>\n",
              "      <td>married</td>\n",
              "      <td>tertiary</td>\n",
              "      <td>unknown</td>\n",
              "      <td>5</td>\n",
              "      <td>may</td>\n",
              "      <td>261</td>\n",
              "      <td>1</td>\n",
              "      <td>unknown</td>\n",
              "      <td>no</td>\n",
              "    </tr>\n",
              "    <tr>\n",
              "      <th>1</th>\n",
              "      <td>44</td>\n",
              "      <td>technician</td>\n",
              "      <td>single</td>\n",
              "      <td>secondary</td>\n",
              "      <td>unknown</td>\n",
              "      <td>5</td>\n",
              "      <td>may</td>\n",
              "      <td>151</td>\n",
              "      <td>1</td>\n",
              "      <td>unknown</td>\n",
              "      <td>no</td>\n",
              "    </tr>\n",
              "    <tr>\n",
              "      <th>2</th>\n",
              "      <td>33</td>\n",
              "      <td>entrepreneur</td>\n",
              "      <td>married</td>\n",
              "      <td>secondary</td>\n",
              "      <td>unknown</td>\n",
              "      <td>5</td>\n",
              "      <td>may</td>\n",
              "      <td>76</td>\n",
              "      <td>1</td>\n",
              "      <td>unknown</td>\n",
              "      <td>no</td>\n",
              "    </tr>\n",
              "    <tr>\n",
              "      <th>3</th>\n",
              "      <td>47</td>\n",
              "      <td>blue-collar</td>\n",
              "      <td>married</td>\n",
              "      <td>unknown</td>\n",
              "      <td>unknown</td>\n",
              "      <td>5</td>\n",
              "      <td>may</td>\n",
              "      <td>92</td>\n",
              "      <td>1</td>\n",
              "      <td>unknown</td>\n",
              "      <td>no</td>\n",
              "    </tr>\n",
              "    <tr>\n",
              "      <th>4</th>\n",
              "      <td>33</td>\n",
              "      <td>unknown</td>\n",
              "      <td>single</td>\n",
              "      <td>unknown</td>\n",
              "      <td>unknown</td>\n",
              "      <td>5</td>\n",
              "      <td>may</td>\n",
              "      <td>198</td>\n",
              "      <td>1</td>\n",
              "      <td>unknown</td>\n",
              "      <td>no</td>\n",
              "    </tr>\n",
              "  </tbody>\n",
              "</table>\n",
              "</div>\n",
              "      <button class=\"colab-df-convert\" onclick=\"convertToInteractive('df-e1270e85-85a4-4af3-8125-5d683900a244')\"\n",
              "              title=\"Convert this dataframe to an interactive table.\"\n",
              "              style=\"display:none;\">\n",
              "        \n",
              "  <svg xmlns=\"http://www.w3.org/2000/svg\" height=\"24px\"viewBox=\"0 0 24 24\"\n",
              "       width=\"24px\">\n",
              "    <path d=\"M0 0h24v24H0V0z\" fill=\"none\"/>\n",
              "    <path d=\"M18.56 5.44l.94 2.06.94-2.06 2.06-.94-2.06-.94-.94-2.06-.94 2.06-2.06.94zm-11 1L8.5 8.5l.94-2.06 2.06-.94-2.06-.94L8.5 2.5l-.94 2.06-2.06.94zm10 10l.94 2.06.94-2.06 2.06-.94-2.06-.94-.94-2.06-.94 2.06-2.06.94z\"/><path d=\"M17.41 7.96l-1.37-1.37c-.4-.4-.92-.59-1.43-.59-.52 0-1.04.2-1.43.59L10.3 9.45l-7.72 7.72c-.78.78-.78 2.05 0 2.83L4 21.41c.39.39.9.59 1.41.59.51 0 1.02-.2 1.41-.59l7.78-7.78 2.81-2.81c.8-.78.8-2.07 0-2.86zM5.41 20L4 18.59l7.72-7.72 1.47 1.35L5.41 20z\"/>\n",
              "  </svg>\n",
              "      </button>\n",
              "      \n",
              "  <style>\n",
              "    .colab-df-container {\n",
              "      display:flex;\n",
              "      flex-wrap:wrap;\n",
              "      gap: 12px;\n",
              "    }\n",
              "\n",
              "    .colab-df-convert {\n",
              "      background-color: #E8F0FE;\n",
              "      border: none;\n",
              "      border-radius: 50%;\n",
              "      cursor: pointer;\n",
              "      display: none;\n",
              "      fill: #1967D2;\n",
              "      height: 32px;\n",
              "      padding: 0 0 0 0;\n",
              "      width: 32px;\n",
              "    }\n",
              "\n",
              "    .colab-df-convert:hover {\n",
              "      background-color: #E2EBFA;\n",
              "      box-shadow: 0px 1px 2px rgba(60, 64, 67, 0.3), 0px 1px 3px 1px rgba(60, 64, 67, 0.15);\n",
              "      fill: #174EA6;\n",
              "    }\n",
              "\n",
              "    [theme=dark] .colab-df-convert {\n",
              "      background-color: #3B4455;\n",
              "      fill: #D2E3FC;\n",
              "    }\n",
              "\n",
              "    [theme=dark] .colab-df-convert:hover {\n",
              "      background-color: #434B5C;\n",
              "      box-shadow: 0px 1px 3px 1px rgba(0, 0, 0, 0.15);\n",
              "      filter: drop-shadow(0px 1px 2px rgba(0, 0, 0, 0.3));\n",
              "      fill: #FFFFFF;\n",
              "    }\n",
              "  </style>\n",
              "\n",
              "      <script>\n",
              "        const buttonEl =\n",
              "          document.querySelector('#df-e1270e85-85a4-4af3-8125-5d683900a244 button.colab-df-convert');\n",
              "        buttonEl.style.display =\n",
              "          google.colab.kernel.accessAllowed ? 'block' : 'none';\n",
              "\n",
              "        async function convertToInteractive(key) {\n",
              "          const element = document.querySelector('#df-e1270e85-85a4-4af3-8125-5d683900a244');\n",
              "          const dataTable =\n",
              "            await google.colab.kernel.invokeFunction('convertToInteractive',\n",
              "                                                     [key], {});\n",
              "          if (!dataTable) return;\n",
              "\n",
              "          const docLinkHtml = 'Like what you see? Visit the ' +\n",
              "            '<a target=\"_blank\" href=https://colab.research.google.com/notebooks/data_table.ipynb>data table notebook</a>'\n",
              "            + ' to learn more about interactive tables.';\n",
              "          element.innerHTML = '';\n",
              "          dataTable['output_type'] = 'display_data';\n",
              "          await google.colab.output.renderOutput(dataTable, element);\n",
              "          const docLink = document.createElement('div');\n",
              "          docLink.innerHTML = docLinkHtml;\n",
              "          element.appendChild(docLink);\n",
              "        }\n",
              "      </script>\n",
              "    </div>\n",
              "  </div>\n",
              "  "
            ]
          },
          "metadata": {},
          "execution_count": 46
        }
      ]
    },
    {
      "cell_type": "markdown",
      "source": [
        "## **Check if the dataset is balanced**\n",
        "\n"
      ],
      "metadata": {
        "id": "Ua8OfAwMcbcC"
      }
    },
    {
      "cell_type": "code",
      "source": [
        "customer_df['y'].value_counts()"
      ],
      "metadata": {
        "colab": {
          "base_uri": "https://localhost:8080/"
        },
        "id": "6t_gHyvhftCA",
        "outputId": "c7da1431-a349-4106-9be5-f88fba169882"
      },
      "execution_count": 47,
      "outputs": [
        {
          "output_type": "execute_result",
          "data": {
            "text/plain": [
              "no     39922\n",
              "yes     5289\n",
              "Name: y, dtype: int64"
            ]
          },
          "metadata": {},
          "execution_count": 47
        }
      ]
    },
    {
      "cell_type": "code",
      "source": [
        "customer_df['y']=customer_df['y'].map({'yes':1,'no':0})"
      ],
      "metadata": {
        "id": "AZOGWRhjMMJj"
      },
      "execution_count": 48,
      "outputs": []
    },
    {
      "cell_type": "code",
      "source": [
        "customer_df.shape"
      ],
      "metadata": {
        "colab": {
          "base_uri": "https://localhost:8080/"
        },
        "id": "qnQGX51GMpil",
        "outputId": "194025ff-dd9b-4028-c8b1-9df2b7d25b60"
      },
      "execution_count": 49,
      "outputs": [
        {
          "output_type": "execute_result",
          "data": {
            "text/plain": [
              "(45211, 11)"
            ]
          },
          "metadata": {},
          "execution_count": 49
        }
      ]
    },
    {
      "cell_type": "code",
      "source": [
        "customer_df.head()"
      ],
      "metadata": {
        "colab": {
          "base_uri": "https://localhost:8080/",
          "height": 0
        },
        "id": "uXRsIN15M0BW",
        "outputId": "3b4185aa-00ab-445a-de7d-61fc1bb96263"
      },
      "execution_count": 50,
      "outputs": [
        {
          "output_type": "execute_result",
          "data": {
            "text/plain": [
              "   age           job  marital education_qual call_type  day  mon  dur  \\\n",
              "0   58    management  married       tertiary   unknown    5  may  261   \n",
              "1   44    technician   single      secondary   unknown    5  may  151   \n",
              "2   33  entrepreneur  married      secondary   unknown    5  may   76   \n",
              "3   47   blue-collar  married        unknown   unknown    5  may   92   \n",
              "4   33       unknown   single        unknown   unknown    5  may  198   \n",
              "\n",
              "   num_calls prev_outcome  y  \n",
              "0          1      unknown  0  \n",
              "1          1      unknown  0  \n",
              "2          1      unknown  0  \n",
              "3          1      unknown  0  \n",
              "4          1      unknown  0  "
            ],
            "text/html": [
              "\n",
              "  <div id=\"df-1be95680-ab8c-498b-8b86-6f059144af79\">\n",
              "    <div class=\"colab-df-container\">\n",
              "      <div>\n",
              "<style scoped>\n",
              "    .dataframe tbody tr th:only-of-type {\n",
              "        vertical-align: middle;\n",
              "    }\n",
              "\n",
              "    .dataframe tbody tr th {\n",
              "        vertical-align: top;\n",
              "    }\n",
              "\n",
              "    .dataframe thead th {\n",
              "        text-align: right;\n",
              "    }\n",
              "</style>\n",
              "<table border=\"1\" class=\"dataframe\">\n",
              "  <thead>\n",
              "    <tr style=\"text-align: right;\">\n",
              "      <th></th>\n",
              "      <th>age</th>\n",
              "      <th>job</th>\n",
              "      <th>marital</th>\n",
              "      <th>education_qual</th>\n",
              "      <th>call_type</th>\n",
              "      <th>day</th>\n",
              "      <th>mon</th>\n",
              "      <th>dur</th>\n",
              "      <th>num_calls</th>\n",
              "      <th>prev_outcome</th>\n",
              "      <th>y</th>\n",
              "    </tr>\n",
              "  </thead>\n",
              "  <tbody>\n",
              "    <tr>\n",
              "      <th>0</th>\n",
              "      <td>58</td>\n",
              "      <td>management</td>\n",
              "      <td>married</td>\n",
              "      <td>tertiary</td>\n",
              "      <td>unknown</td>\n",
              "      <td>5</td>\n",
              "      <td>may</td>\n",
              "      <td>261</td>\n",
              "      <td>1</td>\n",
              "      <td>unknown</td>\n",
              "      <td>0</td>\n",
              "    </tr>\n",
              "    <tr>\n",
              "      <th>1</th>\n",
              "      <td>44</td>\n",
              "      <td>technician</td>\n",
              "      <td>single</td>\n",
              "      <td>secondary</td>\n",
              "      <td>unknown</td>\n",
              "      <td>5</td>\n",
              "      <td>may</td>\n",
              "      <td>151</td>\n",
              "      <td>1</td>\n",
              "      <td>unknown</td>\n",
              "      <td>0</td>\n",
              "    </tr>\n",
              "    <tr>\n",
              "      <th>2</th>\n",
              "      <td>33</td>\n",
              "      <td>entrepreneur</td>\n",
              "      <td>married</td>\n",
              "      <td>secondary</td>\n",
              "      <td>unknown</td>\n",
              "      <td>5</td>\n",
              "      <td>may</td>\n",
              "      <td>76</td>\n",
              "      <td>1</td>\n",
              "      <td>unknown</td>\n",
              "      <td>0</td>\n",
              "    </tr>\n",
              "    <tr>\n",
              "      <th>3</th>\n",
              "      <td>47</td>\n",
              "      <td>blue-collar</td>\n",
              "      <td>married</td>\n",
              "      <td>unknown</td>\n",
              "      <td>unknown</td>\n",
              "      <td>5</td>\n",
              "      <td>may</td>\n",
              "      <td>92</td>\n",
              "      <td>1</td>\n",
              "      <td>unknown</td>\n",
              "      <td>0</td>\n",
              "    </tr>\n",
              "    <tr>\n",
              "      <th>4</th>\n",
              "      <td>33</td>\n",
              "      <td>unknown</td>\n",
              "      <td>single</td>\n",
              "      <td>unknown</td>\n",
              "      <td>unknown</td>\n",
              "      <td>5</td>\n",
              "      <td>may</td>\n",
              "      <td>198</td>\n",
              "      <td>1</td>\n",
              "      <td>unknown</td>\n",
              "      <td>0</td>\n",
              "    </tr>\n",
              "  </tbody>\n",
              "</table>\n",
              "</div>\n",
              "      <button class=\"colab-df-convert\" onclick=\"convertToInteractive('df-1be95680-ab8c-498b-8b86-6f059144af79')\"\n",
              "              title=\"Convert this dataframe to an interactive table.\"\n",
              "              style=\"display:none;\">\n",
              "        \n",
              "  <svg xmlns=\"http://www.w3.org/2000/svg\" height=\"24px\"viewBox=\"0 0 24 24\"\n",
              "       width=\"24px\">\n",
              "    <path d=\"M0 0h24v24H0V0z\" fill=\"none\"/>\n",
              "    <path d=\"M18.56 5.44l.94 2.06.94-2.06 2.06-.94-2.06-.94-.94-2.06-.94 2.06-2.06.94zm-11 1L8.5 8.5l.94-2.06 2.06-.94-2.06-.94L8.5 2.5l-.94 2.06-2.06.94zm10 10l.94 2.06.94-2.06 2.06-.94-2.06-.94-.94-2.06-.94 2.06-2.06.94z\"/><path d=\"M17.41 7.96l-1.37-1.37c-.4-.4-.92-.59-1.43-.59-.52 0-1.04.2-1.43.59L10.3 9.45l-7.72 7.72c-.78.78-.78 2.05 0 2.83L4 21.41c.39.39.9.59 1.41.59.51 0 1.02-.2 1.41-.59l7.78-7.78 2.81-2.81c.8-.78.8-2.07 0-2.86zM5.41 20L4 18.59l7.72-7.72 1.47 1.35L5.41 20z\"/>\n",
              "  </svg>\n",
              "      </button>\n",
              "      \n",
              "  <style>\n",
              "    .colab-df-container {\n",
              "      display:flex;\n",
              "      flex-wrap:wrap;\n",
              "      gap: 12px;\n",
              "    }\n",
              "\n",
              "    .colab-df-convert {\n",
              "      background-color: #E8F0FE;\n",
              "      border: none;\n",
              "      border-radius: 50%;\n",
              "      cursor: pointer;\n",
              "      display: none;\n",
              "      fill: #1967D2;\n",
              "      height: 32px;\n",
              "      padding: 0 0 0 0;\n",
              "      width: 32px;\n",
              "    }\n",
              "\n",
              "    .colab-df-convert:hover {\n",
              "      background-color: #E2EBFA;\n",
              "      box-shadow: 0px 1px 2px rgba(60, 64, 67, 0.3), 0px 1px 3px 1px rgba(60, 64, 67, 0.15);\n",
              "      fill: #174EA6;\n",
              "    }\n",
              "\n",
              "    [theme=dark] .colab-df-convert {\n",
              "      background-color: #3B4455;\n",
              "      fill: #D2E3FC;\n",
              "    }\n",
              "\n",
              "    [theme=dark] .colab-df-convert:hover {\n",
              "      background-color: #434B5C;\n",
              "      box-shadow: 0px 1px 3px 1px rgba(0, 0, 0, 0.15);\n",
              "      filter: drop-shadow(0px 1px 2px rgba(0, 0, 0, 0.3));\n",
              "      fill: #FFFFFF;\n",
              "    }\n",
              "  </style>\n",
              "\n",
              "      <script>\n",
              "        const buttonEl =\n",
              "          document.querySelector('#df-1be95680-ab8c-498b-8b86-6f059144af79 button.colab-df-convert');\n",
              "        buttonEl.style.display =\n",
              "          google.colab.kernel.accessAllowed ? 'block' : 'none';\n",
              "\n",
              "        async function convertToInteractive(key) {\n",
              "          const element = document.querySelector('#df-1be95680-ab8c-498b-8b86-6f059144af79');\n",
              "          const dataTable =\n",
              "            await google.colab.kernel.invokeFunction('convertToInteractive',\n",
              "                                                     [key], {});\n",
              "          if (!dataTable) return;\n",
              "\n",
              "          const docLinkHtml = 'Like what you see? Visit the ' +\n",
              "            '<a target=\"_blank\" href=https://colab.research.google.com/notebooks/data_table.ipynb>data table notebook</a>'\n",
              "            + ' to learn more about interactive tables.';\n",
              "          element.innerHTML = '';\n",
              "          dataTable['output_type'] = 'display_data';\n",
              "          await google.colab.output.renderOutput(dataTable, element);\n",
              "          const docLink = document.createElement('div');\n",
              "          docLink.innerHTML = docLinkHtml;\n",
              "          element.appendChild(docLink);\n",
              "        }\n",
              "      </script>\n",
              "    </div>\n",
              "  </div>\n",
              "  "
            ]
          },
          "metadata": {},
          "execution_count": 50
        }
      ]
    },
    {
      "cell_type": "code",
      "source": [
        "customer_df.isnull().sum()"
      ],
      "metadata": {
        "colab": {
          "base_uri": "https://localhost:8080/"
        },
        "id": "qnjHDkhnNGHt",
        "outputId": "64fe9a3d-bc9a-4a41-bd51-d72f58719142"
      },
      "execution_count": 51,
      "outputs": [
        {
          "output_type": "execute_result",
          "data": {
            "text/plain": [
              "age               0\n",
              "job               0\n",
              "marital           0\n",
              "education_qual    0\n",
              "call_type         0\n",
              "day               0\n",
              "mon               0\n",
              "dur               0\n",
              "num_calls         0\n",
              "prev_outcome      0\n",
              "y                 0\n",
              "dtype: int64"
            ]
          },
          "metadata": {},
          "execution_count": 51
        }
      ]
    },
    {
      "cell_type": "markdown",
      "source": [
        "# **Cleaning data**"
      ],
      "metadata": {
        "id": "Tcdw2vo_g0ek"
      }
    },
    {
      "cell_type": "code",
      "source": [
        "customer_df.info()\n",
        "customer_df.duplicated().value_counts()"
      ],
      "metadata": {
        "colab": {
          "base_uri": "https://localhost:8080/"
        },
        "id": "hMYG1dbuNzs9",
        "outputId": "0eb69c70-4691-4f27-d4d2-de1ee6c0cc1c"
      },
      "execution_count": 52,
      "outputs": [
        {
          "output_type": "stream",
          "name": "stdout",
          "text": [
            "<class 'pandas.core.frame.DataFrame'>\n",
            "RangeIndex: 45211 entries, 0 to 45210\n",
            "Data columns (total 11 columns):\n",
            " #   Column          Non-Null Count  Dtype \n",
            "---  ------          --------------  ----- \n",
            " 0   age             45211 non-null  int64 \n",
            " 1   job             45211 non-null  object\n",
            " 2   marital         45211 non-null  object\n",
            " 3   education_qual  45211 non-null  object\n",
            " 4   call_type       45211 non-null  object\n",
            " 5   day             45211 non-null  int64 \n",
            " 6   mon             45211 non-null  object\n",
            " 7   dur             45211 non-null  int64 \n",
            " 8   num_calls       45211 non-null  int64 \n",
            " 9   prev_outcome    45211 non-null  object\n",
            " 10  y               45211 non-null  int64 \n",
            "dtypes: int64(5), object(6)\n",
            "memory usage: 3.8+ MB\n"
          ]
        },
        {
          "output_type": "execute_result",
          "data": {
            "text/plain": [
              "False    45205\n",
              "True         6\n",
              "dtype: int64"
            ]
          },
          "metadata": {},
          "execution_count": 52
        }
      ]
    },
    {
      "cell_type": "code",
      "source": [
        "customer_df = customer_df.drop_duplicates()\n",
        "customer_df.duplicated().sum()"
      ],
      "metadata": {
        "colab": {
          "base_uri": "https://localhost:8080/"
        },
        "id": "OF2c0AK0OluO",
        "outputId": "1bb31705-f3f2-4694-9a16-e75186461319"
      },
      "execution_count": 53,
      "outputs": [
        {
          "output_type": "execute_result",
          "data": {
            "text/plain": [
              "0"
            ]
          },
          "metadata": {},
          "execution_count": 53
        }
      ]
    },
    {
      "cell_type": "code",
      "source": [
        "customer_df.duplicated().value_counts()"
      ],
      "metadata": {
        "colab": {
          "base_uri": "https://localhost:8080/"
        },
        "id": "ZdaYFULWPWdM",
        "outputId": "ee611296-675b-4895-c5bf-05b06b1bc311"
      },
      "execution_count": 54,
      "outputs": [
        {
          "output_type": "execute_result",
          "data": {
            "text/plain": [
              "False    45205\n",
              "dtype: int64"
            ]
          },
          "metadata": {},
          "execution_count": 54
        }
      ]
    },
    {
      "cell_type": "code",
      "source": [
        "customer_df.columns"
      ],
      "metadata": {
        "colab": {
          "base_uri": "https://localhost:8080/"
        },
        "id": "XL82ZdrKN1-t",
        "outputId": "8fba221b-54f5-4be4-8737-ea1d729f60b0"
      },
      "execution_count": 55,
      "outputs": [
        {
          "output_type": "execute_result",
          "data": {
            "text/plain": [
              "Index(['age', 'job', 'marital', 'education_qual', 'call_type', 'day', 'mon',\n",
              "       'dur', 'num_calls', 'prev_outcome', 'y'],\n",
              "      dtype='object')"
            ]
          },
          "metadata": {},
          "execution_count": 55
        }
      ]
    },
    {
      "cell_type": "code",
      "source": [
        "customer_df.describe()"
      ],
      "metadata": {
        "colab": {
          "base_uri": "https://localhost:8080/",
          "height": 0
        },
        "id": "W4lve8KMRFiq",
        "outputId": "bfd011ce-3d72-4f5e-8ca5-260b3fcede85"
      },
      "execution_count": 56,
      "outputs": [
        {
          "output_type": "execute_result",
          "data": {
            "text/plain": [
              "                age          day           dur     num_calls             y\n",
              "count  45205.000000  45205.00000  45205.000000  45205.000000  45205.000000\n",
              "mean      40.937087     15.80688    258.183055      2.763898      0.117000\n",
              "std       10.619130      8.32234    257.538504      3.098189      0.321424\n",
              "min       18.000000      1.00000      0.000000      1.000000      0.000000\n",
              "25%       33.000000      8.00000    103.000000      1.000000      0.000000\n",
              "50%       39.000000     16.00000    180.000000      2.000000      0.000000\n",
              "75%       48.000000     21.00000    319.000000      3.000000      0.000000\n",
              "max       95.000000     31.00000   4918.000000     63.000000      1.000000"
            ],
            "text/html": [
              "\n",
              "  <div id=\"df-7a5c9a0e-108d-4a02-80a5-c457ad7fb694\">\n",
              "    <div class=\"colab-df-container\">\n",
              "      <div>\n",
              "<style scoped>\n",
              "    .dataframe tbody tr th:only-of-type {\n",
              "        vertical-align: middle;\n",
              "    }\n",
              "\n",
              "    .dataframe tbody tr th {\n",
              "        vertical-align: top;\n",
              "    }\n",
              "\n",
              "    .dataframe thead th {\n",
              "        text-align: right;\n",
              "    }\n",
              "</style>\n",
              "<table border=\"1\" class=\"dataframe\">\n",
              "  <thead>\n",
              "    <tr style=\"text-align: right;\">\n",
              "      <th></th>\n",
              "      <th>age</th>\n",
              "      <th>day</th>\n",
              "      <th>dur</th>\n",
              "      <th>num_calls</th>\n",
              "      <th>y</th>\n",
              "    </tr>\n",
              "  </thead>\n",
              "  <tbody>\n",
              "    <tr>\n",
              "      <th>count</th>\n",
              "      <td>45205.000000</td>\n",
              "      <td>45205.00000</td>\n",
              "      <td>45205.000000</td>\n",
              "      <td>45205.000000</td>\n",
              "      <td>45205.000000</td>\n",
              "    </tr>\n",
              "    <tr>\n",
              "      <th>mean</th>\n",
              "      <td>40.937087</td>\n",
              "      <td>15.80688</td>\n",
              "      <td>258.183055</td>\n",
              "      <td>2.763898</td>\n",
              "      <td>0.117000</td>\n",
              "    </tr>\n",
              "    <tr>\n",
              "      <th>std</th>\n",
              "      <td>10.619130</td>\n",
              "      <td>8.32234</td>\n",
              "      <td>257.538504</td>\n",
              "      <td>3.098189</td>\n",
              "      <td>0.321424</td>\n",
              "    </tr>\n",
              "    <tr>\n",
              "      <th>min</th>\n",
              "      <td>18.000000</td>\n",
              "      <td>1.00000</td>\n",
              "      <td>0.000000</td>\n",
              "      <td>1.000000</td>\n",
              "      <td>0.000000</td>\n",
              "    </tr>\n",
              "    <tr>\n",
              "      <th>25%</th>\n",
              "      <td>33.000000</td>\n",
              "      <td>8.00000</td>\n",
              "      <td>103.000000</td>\n",
              "      <td>1.000000</td>\n",
              "      <td>0.000000</td>\n",
              "    </tr>\n",
              "    <tr>\n",
              "      <th>50%</th>\n",
              "      <td>39.000000</td>\n",
              "      <td>16.00000</td>\n",
              "      <td>180.000000</td>\n",
              "      <td>2.000000</td>\n",
              "      <td>0.000000</td>\n",
              "    </tr>\n",
              "    <tr>\n",
              "      <th>75%</th>\n",
              "      <td>48.000000</td>\n",
              "      <td>21.00000</td>\n",
              "      <td>319.000000</td>\n",
              "      <td>3.000000</td>\n",
              "      <td>0.000000</td>\n",
              "    </tr>\n",
              "    <tr>\n",
              "      <th>max</th>\n",
              "      <td>95.000000</td>\n",
              "      <td>31.00000</td>\n",
              "      <td>4918.000000</td>\n",
              "      <td>63.000000</td>\n",
              "      <td>1.000000</td>\n",
              "    </tr>\n",
              "  </tbody>\n",
              "</table>\n",
              "</div>\n",
              "      <button class=\"colab-df-convert\" onclick=\"convertToInteractive('df-7a5c9a0e-108d-4a02-80a5-c457ad7fb694')\"\n",
              "              title=\"Convert this dataframe to an interactive table.\"\n",
              "              style=\"display:none;\">\n",
              "        \n",
              "  <svg xmlns=\"http://www.w3.org/2000/svg\" height=\"24px\"viewBox=\"0 0 24 24\"\n",
              "       width=\"24px\">\n",
              "    <path d=\"M0 0h24v24H0V0z\" fill=\"none\"/>\n",
              "    <path d=\"M18.56 5.44l.94 2.06.94-2.06 2.06-.94-2.06-.94-.94-2.06-.94 2.06-2.06.94zm-11 1L8.5 8.5l.94-2.06 2.06-.94-2.06-.94L8.5 2.5l-.94 2.06-2.06.94zm10 10l.94 2.06.94-2.06 2.06-.94-2.06-.94-.94-2.06-.94 2.06-2.06.94z\"/><path d=\"M17.41 7.96l-1.37-1.37c-.4-.4-.92-.59-1.43-.59-.52 0-1.04.2-1.43.59L10.3 9.45l-7.72 7.72c-.78.78-.78 2.05 0 2.83L4 21.41c.39.39.9.59 1.41.59.51 0 1.02-.2 1.41-.59l7.78-7.78 2.81-2.81c.8-.78.8-2.07 0-2.86zM5.41 20L4 18.59l7.72-7.72 1.47 1.35L5.41 20z\"/>\n",
              "  </svg>\n",
              "      </button>\n",
              "      \n",
              "  <style>\n",
              "    .colab-df-container {\n",
              "      display:flex;\n",
              "      flex-wrap:wrap;\n",
              "      gap: 12px;\n",
              "    }\n",
              "\n",
              "    .colab-df-convert {\n",
              "      background-color: #E8F0FE;\n",
              "      border: none;\n",
              "      border-radius: 50%;\n",
              "      cursor: pointer;\n",
              "      display: none;\n",
              "      fill: #1967D2;\n",
              "      height: 32px;\n",
              "      padding: 0 0 0 0;\n",
              "      width: 32px;\n",
              "    }\n",
              "\n",
              "    .colab-df-convert:hover {\n",
              "      background-color: #E2EBFA;\n",
              "      box-shadow: 0px 1px 2px rgba(60, 64, 67, 0.3), 0px 1px 3px 1px rgba(60, 64, 67, 0.15);\n",
              "      fill: #174EA6;\n",
              "    }\n",
              "\n",
              "    [theme=dark] .colab-df-convert {\n",
              "      background-color: #3B4455;\n",
              "      fill: #D2E3FC;\n",
              "    }\n",
              "\n",
              "    [theme=dark] .colab-df-convert:hover {\n",
              "      background-color: #434B5C;\n",
              "      box-shadow: 0px 1px 3px 1px rgba(0, 0, 0, 0.15);\n",
              "      filter: drop-shadow(0px 1px 2px rgba(0, 0, 0, 0.3));\n",
              "      fill: #FFFFFF;\n",
              "    }\n",
              "  </style>\n",
              "\n",
              "      <script>\n",
              "        const buttonEl =\n",
              "          document.querySelector('#df-7a5c9a0e-108d-4a02-80a5-c457ad7fb694 button.colab-df-convert');\n",
              "        buttonEl.style.display =\n",
              "          google.colab.kernel.accessAllowed ? 'block' : 'none';\n",
              "\n",
              "        async function convertToInteractive(key) {\n",
              "          const element = document.querySelector('#df-7a5c9a0e-108d-4a02-80a5-c457ad7fb694');\n",
              "          const dataTable =\n",
              "            await google.colab.kernel.invokeFunction('convertToInteractive',\n",
              "                                                     [key], {});\n",
              "          if (!dataTable) return;\n",
              "\n",
              "          const docLinkHtml = 'Like what you see? Visit the ' +\n",
              "            '<a target=\"_blank\" href=https://colab.research.google.com/notebooks/data_table.ipynb>data table notebook</a>'\n",
              "            + ' to learn more about interactive tables.';\n",
              "          element.innerHTML = '';\n",
              "          dataTable['output_type'] = 'display_data';\n",
              "          await google.colab.output.renderOutput(dataTable, element);\n",
              "          const docLink = document.createElement('div');\n",
              "          docLink.innerHTML = docLinkHtml;\n",
              "          element.appendChild(docLink);\n",
              "        }\n",
              "      </script>\n",
              "    </div>\n",
              "  </div>\n",
              "  "
            ]
          },
          "metadata": {},
          "execution_count": 56
        }
      ]
    },
    {
      "cell_type": "markdown",
      "source": [
        "# **EDA (\"Exploratory Data Analysis\") for categorical columns**\n",
        "\n",
        "\n",
        "\n",
        "\n",
        "\n"
      ],
      "metadata": {
        "id": "4tvJGoNShTkP"
      }
    },
    {
      "cell_type": "code",
      "source": [
        "customer_df[\"age\"].unique()"
      ],
      "metadata": {
        "colab": {
          "base_uri": "https://localhost:8080/"
        },
        "id": "iMBjPO_8RRsb",
        "outputId": "7ce46299-480c-4ba0-d2e9-fee589131d82"
      },
      "execution_count": 57,
      "outputs": [
        {
          "output_type": "execute_result",
          "data": {
            "text/plain": [
              "array([58, 44, 33, 47, 35, 28, 42, 43, 41, 29, 53, 57, 51, 45, 60, 56, 32,\n",
              "       25, 40, 39, 52, 46, 36, 49, 59, 37, 50, 54, 55, 48, 24, 38, 31, 30,\n",
              "       27, 34, 23, 26, 61, 22, 21, 20, 66, 62, 83, 75, 67, 70, 65, 68, 64,\n",
              "       69, 72, 71, 19, 76, 85, 63, 90, 82, 73, 74, 78, 80, 94, 79, 77, 86,\n",
              "       95, 81, 18, 89, 84, 87, 92, 93, 88])"
            ]
          },
          "metadata": {},
          "execution_count": 57
        }
      ]
    },
    {
      "cell_type": "code",
      "source": [
        "customer_df[\"job\"].unique()"
      ],
      "metadata": {
        "colab": {
          "base_uri": "https://localhost:8080/"
        },
        "id": "1vcvvyytRizD",
        "outputId": "ef35f901-2332-4a5a-96b6-38d8c33f1688"
      },
      "execution_count": 58,
      "outputs": [
        {
          "output_type": "execute_result",
          "data": {
            "text/plain": [
              "array(['management', 'technician', 'entrepreneur', 'blue-collar',\n",
              "       'unknown', 'retired', 'admin.', 'services', 'self-employed',\n",
              "       'unemployed', 'housemaid', 'student'], dtype=object)"
            ]
          },
          "metadata": {},
          "execution_count": 58
        }
      ]
    },
    {
      "cell_type": "code",
      "source": [
        "customer_df['marital'].unique()"
      ],
      "metadata": {
        "colab": {
          "base_uri": "https://localhost:8080/"
        },
        "id": "kdfsjk3KfuPT",
        "outputId": "98c6c596-fb8b-4fe4-dc38-fc111733c99b"
      },
      "execution_count": 59,
      "outputs": [
        {
          "output_type": "execute_result",
          "data": {
            "text/plain": [
              "array(['married', 'single', 'divorced'], dtype=object)"
            ]
          },
          "metadata": {},
          "execution_count": 59
        }
      ]
    },
    {
      "cell_type": "code",
      "source": [
        "customer_df['education_qual'].unique()"
      ],
      "metadata": {
        "colab": {
          "base_uri": "https://localhost:8080/"
        },
        "id": "4h-FEAuejJ5h",
        "outputId": "45412fbe-8046-4a20-8fde-b9a5359249ce"
      },
      "execution_count": 60,
      "outputs": [
        {
          "output_type": "execute_result",
          "data": {
            "text/plain": [
              "array(['tertiary', 'secondary', 'unknown', 'primary'], dtype=object)"
            ]
          },
          "metadata": {},
          "execution_count": 60
        }
      ]
    },
    {
      "cell_type": "code",
      "source": [
        "# Group the data by job and education qualification\n",
        "grouped = customer_df.groupby(['job', 'education_qual']).size()\n",
        "print(grouped)"
      ],
      "metadata": {
        "colab": {
          "base_uri": "https://localhost:8080/"
        },
        "id": "VaWC_8cfmPCW",
        "outputId": "44a9eb43-d265-42b7-ee1e-84355b6ab9bd"
      },
      "execution_count": 61,
      "outputs": [
        {
          "output_type": "stream",
          "name": "stdout",
          "text": [
            "job            education_qual\n",
            "admin.         primary            209\n",
            "               secondary         4218\n",
            "               tertiary           572\n",
            "               unknown            171\n",
            "blue-collar    primary           3757\n",
            "               secondary         5370\n",
            "               tertiary           149\n",
            "               unknown            454\n",
            "entrepreneur   primary            183\n",
            "               secondary          542\n",
            "               tertiary           686\n",
            "               unknown             76\n",
            "housemaid      primary            627\n",
            "               secondary          395\n",
            "               tertiary           173\n",
            "               unknown             45\n",
            "management     primary            294\n",
            "               secondary         1121\n",
            "               tertiary          7800\n",
            "               unknown            242\n",
            "retired        primary            795\n",
            "               secondary          984\n",
            "               tertiary           366\n",
            "               unknown            119\n",
            "self-employed  primary            130\n",
            "               secondary          577\n",
            "               tertiary           833\n",
            "               unknown             39\n",
            "services       primary            345\n",
            "               secondary         3456\n",
            "               tertiary           202\n",
            "               unknown            150\n",
            "student        primary             44\n",
            "               secondary          508\n",
            "               tertiary           223\n",
            "               unknown            163\n",
            "technician     primary            158\n",
            "               secondary         5229\n",
            "               tertiary          1967\n",
            "               unknown            242\n",
            "unemployed     primary            257\n",
            "               secondary          728\n",
            "               tertiary           289\n",
            "               unknown             29\n",
            "unknown        primary             51\n",
            "               secondary           71\n",
            "               tertiary            39\n",
            "               unknown            127\n",
            "dtype: int64\n"
          ]
        }
      ]
    },
    {
      "cell_type": "code",
      "source": [
        "# Get the index of the maximum count for each job group\n",
        "max_idx = grouped.groupby('job').idxmax()\n",
        "print(max_idx)"
      ],
      "metadata": {
        "colab": {
          "base_uri": "https://localhost:8080/"
        },
        "id": "dD66CvVkm4Z-",
        "outputId": "66fdac02-ac1c-443a-ce35-3e4ceab36f5c"
      },
      "execution_count": 62,
      "outputs": [
        {
          "output_type": "stream",
          "name": "stdout",
          "text": [
            "job\n",
            "admin.                 (admin., secondary)\n",
            "blue-collar       (blue-collar, secondary)\n",
            "entrepreneur      (entrepreneur, tertiary)\n",
            "housemaid             (housemaid, primary)\n",
            "management          (management, tertiary)\n",
            "retired               (retired, secondary)\n",
            "self-employed    (self-employed, tertiary)\n",
            "services             (services, secondary)\n",
            "student               (student, secondary)\n",
            "technician         (technician, secondary)\n",
            "unemployed         (unemployed, secondary)\n",
            "unknown                 (unknown, unknown)\n",
            "dtype: object\n"
          ]
        }
      ]
    },
    {
      "cell_type": "code",
      "source": [
        "# Extract the corresponding education qualification\n",
        "max_education = max_idx.apply(lambda x: x[1])\n",
        "print(max_education)"
      ],
      "metadata": {
        "colab": {
          "base_uri": "https://localhost:8080/"
        },
        "id": "c2FIDW_3mUPK",
        "outputId": "20481ec3-795e-4b28-dc09-d9c4b01f0334"
      },
      "execution_count": 63,
      "outputs": [
        {
          "output_type": "stream",
          "name": "stdout",
          "text": [
            "job\n",
            "admin.           secondary\n",
            "blue-collar      secondary\n",
            "entrepreneur      tertiary\n",
            "housemaid          primary\n",
            "management        tertiary\n",
            "retired          secondary\n",
            "self-employed     tertiary\n",
            "services         secondary\n",
            "student          secondary\n",
            "technician       secondary\n",
            "unemployed       secondary\n",
            "unknown            unknown\n",
            "dtype: object\n"
          ]
        }
      ]
    },
    {
      "cell_type": "code",
      "source": [
        "customer_df['call_type'].unique()"
      ],
      "metadata": {
        "colab": {
          "base_uri": "https://localhost:8080/"
        },
        "id": "92TXPI6onON6",
        "outputId": "de6c940c-5a3e-47e9-cc03-b3f44636e811"
      },
      "execution_count": 64,
      "outputs": [
        {
          "output_type": "execute_result",
          "data": {
            "text/plain": [
              "array(['unknown', 'cellular', 'telephone'], dtype=object)"
            ]
          },
          "metadata": {},
          "execution_count": 64
        }
      ]
    },
    {
      "cell_type": "code",
      "source": [
        "customer_df['mon'].unique()"
      ],
      "metadata": {
        "colab": {
          "base_uri": "https://localhost:8080/"
        },
        "id": "FU0jDx5u2q7P",
        "outputId": "22bdfd1e-de7b-440b-93a9-7e144cd8be47"
      },
      "execution_count": 65,
      "outputs": [
        {
          "output_type": "execute_result",
          "data": {
            "text/plain": [
              "array(['may', 'jun', 'jul', 'aug', 'oct', 'nov', 'dec', 'jan', 'feb',\n",
              "       'mar', 'apr', 'sep'], dtype=object)"
            ]
          },
          "metadata": {},
          "execution_count": 65
        }
      ]
    },
    {
      "cell_type": "code",
      "source": [
        "customer_df['prev_outcome'].unique()"
      ],
      "metadata": {
        "colab": {
          "base_uri": "https://localhost:8080/"
        },
        "id": "YWD41sRz25Sp",
        "outputId": "059c82f1-1ce5-4295-c127-93de73d79aea"
      },
      "execution_count": 66,
      "outputs": [
        {
          "output_type": "execute_result",
          "data": {
            "text/plain": [
              "array(['unknown', 'failure', 'other', 'success'], dtype=object)"
            ]
          },
          "metadata": {},
          "execution_count": 66
        }
      ]
    },
    {
      "cell_type": "code",
      "source": [
        "customer_df.groupby(['prev_outcome', 'y']).size()"
      ],
      "metadata": {
        "colab": {
          "base_uri": "https://localhost:8080/"
        },
        "id": "SlZ1upBO3WYF",
        "outputId": "11dc1c0c-426d-4d33-da08-c52cf0bc5e36"
      },
      "execution_count": 67,
      "outputs": [
        {
          "output_type": "execute_result",
          "data": {
            "text/plain": [
              "prev_outcome  y\n",
              "failure       0     4283\n",
              "              1      618\n",
              "other         0     1533\n",
              "              1      307\n",
              "success       0      533\n",
              "              1      978\n",
              "unknown       0    33567\n",
              "              1     3386\n",
              "dtype: int64"
            ]
          },
          "metadata": {},
          "execution_count": 67
        }
      ]
    },
    {
      "cell_type": "code",
      "source": [
        "customer_df['num_calls'].unique()"
      ],
      "metadata": {
        "colab": {
          "base_uri": "https://localhost:8080/"
        },
        "id": "WhSGiOf33nMQ",
        "outputId": "425d1030-fb71-44aa-c9a5-768e9fb92f3c"
      },
      "execution_count": 68,
      "outputs": [
        {
          "output_type": "execute_result",
          "data": {
            "text/plain": [
              "array([ 1,  2,  3,  5,  4,  6,  7,  8,  9, 10, 11, 12, 13, 19, 14, 24, 16,\n",
              "       32, 18, 22, 15, 17, 25, 21, 43, 51, 63, 41, 26, 28, 55, 50, 38, 23,\n",
              "       20, 29, 31, 37, 30, 46, 27, 58, 33, 35, 34, 36, 39, 44])"
            ]
          },
          "metadata": {},
          "execution_count": 68
        }
      ]
    },
    {
      "cell_type": "code",
      "source": [
        "# Get the job counts and total number of jobs\n",
        "job_counts = dict(customer_df['job'].value_counts())\n",
        "total_jobs = customer_df['job'].value_counts().sum()\n",
        "\n",
        "# Calculate the percentages\n",
        "percentages = [(count / total_jobs) * 100 for count in job_counts.values()]\n",
        "\n",
        "# Create the labels and colors\n",
        "labels = list(job_counts.keys())\n",
        "colors = ['yellowgreen', 'gold', 'lightskyblue', 'lightcoral']\n",
        "\n",
        "# Create a figure and axis\n",
        "fig, ax = plt.subplots(figsize=(14, 8))\n",
        "\n",
        "# Create the pie chart\n",
        "ax.pie(percentages, labels=labels, colors=colors, autopct='%1.1f%%')\n",
        "\n",
        "# Set the title\n",
        "ax.set_title('Pie Chart of Job Distribution')\n",
        "\n",
        "# Show the plot\n",
        "plt.show()\n"
      ],
      "metadata": {
        "colab": {
          "base_uri": "https://localhost:8080/",
          "height": 0
        },
        "id": "2aTrboTpRoZN",
        "outputId": "94e8a424-1f85-43e6-d7cc-c7efc4895ad3"
      },
      "execution_count": 69,
      "outputs": [
        {
          "output_type": "display_data",
          "data": {
            "text/plain": [
              "<Figure size 1008x576 with 1 Axes>"
            ],
            "image/png": "[encoded data removed]"
          },
          "metadata": {}
        }
      ]
    },
    {
      "cell_type": "code",
      "source": [
        "# Get the education counts and total number of educations\n",
        "edu_counts = dict(customer_df['education_qual'].value_counts())\n",
        "total_edus = customer_df['education_qual'].value_counts().sum()\n",
        "\n",
        "# Calculate the percentages for the second chart\n",
        "percentages = [(count / total_edus) * 100 for count in edu_counts.values()]\n",
        "\n",
        "# Create the labels and colors for the second chart\n",
        "labels = list(edu_counts.keys())\n",
        "colors = ['gold', 'blue', 'green', 'orange', 'purple']\n",
        "\n",
        "# Create a figure and axis for the second chart\n",
        "fig, ax = plt.subplots(figsize=(8, 8))\n",
        "\n",
        "# Create the pie chart for the second chart\n",
        "ax.pie(percentages, labels=labels, colors=colors, autopct='%1.1f%%')\n",
        "\n",
        "# Set the title for the second chart\n",
        "ax.set_title(\"Education Details\")\n",
        "\n",
        "# Show the second chart\n",
        "plt.show()\n"
      ],
      "metadata": {
        "colab": {
          "base_uri": "https://localhost:8080/",
          "height": 0
        },
        "id": "_HN-aMwnkenX",
        "outputId": "885e2ae8-7ae4-434a-f1dc-593000032b3d"
      },
      "execution_count": 70,
      "outputs": [
        {
          "output_type": "display_data",
          "data": {
            "text/plain": [
              "<Figure size 576x576 with 1 Axes>"
            ],
            "image/png": "[encoded data removed]"
          },
          "metadata": {}
        }
      ]
    },
    {
      "cell_type": "code",
      "source": [
        "# Get the call type counts and total number of call type\n",
        "\n",
        "call_type_count = dict(customer_df['call_type'].value_counts())\n",
        "total_call_type = customer_df['call_type'].value_counts().sum()\n",
        "\n",
        "# Calculate the percentages for the second chart\n",
        "percent = []\n",
        "for i in list(customer_df['call_type'].value_counts()):\n",
        "    percent.append((int(i) / total_call_type) * 100)\n",
        "\n",
        "# Creating the pie chart\n",
        "fig, ax = plt.subplots(figsize=(8, 8))\n",
        "ax.pie(percent, labels=call_type_count.keys(), autopct='%1.1f%%', startangle=90, colors=['yellow', 'blue', 'green', 'maroon', 'purple'])\n",
        "\n",
        "# Setting the title\n",
        "ax.set_title(\"Call Type Details\")\n",
        "\n",
        "# Displaying the chart\n",
        "plt.show()"
      ],
      "metadata": {
        "colab": {
          "base_uri": "https://localhost:8080/",
          "height": 0
        },
        "id": "4mYp3iq_lZJI",
        "outputId": "aa22761c-8d86-4cb8-e495-24d912af4ff9"
      },
      "execution_count": 71,
      "outputs": [
        {
          "output_type": "display_data",
          "data": {
            "text/plain": [
              "<Figure size 576x576 with 1 Axes>"
            ],
            "image/png": "[encoded data removed]"
          },
          "metadata": {}
        }
      ]
    },
    {
      "cell_type": "markdown",
      "source": [
        "# **Preprocess the data**\n",
        "\n",
        "Following steps are followed:\n",
        "\n",
        "\n",
        "\n",
        "*   Remove rows with missing values or unknown values.\n",
        "\n",
        "*   Convert categorical variables to numerical variables using one-hot encoding or ordinal encoding.\n",
        "*   Scale numerical variables to have zero mean and unit variance.\n",
        "\n",
        "\n",
        "*  Split the data into training and validation sets.\n",
        "\n",
        "\n",
        "\n",
        "\n"
      ],
      "metadata": {
        "id": "Dw-a7_EIbOh_"
      }
    },
    {
      "cell_type": "code",
      "source": [
        "# Remove rows with missing values or unknown values from the dataframe\n",
        "\n",
        "customer_df = customer_df.dropna()\n",
        "customer_df = customer_df[customer_df != 'unknown']\n",
        "customer_df\n"
      ],
      "metadata": {
        "colab": {
          "base_uri": "https://localhost:8080/",
          "height": 0
        },
        "id": "mR1gReCMazUq",
        "outputId": "dbb67855-6177-4f81-b24b-c7c92c292b0b"
      },
      "execution_count": 106,
      "outputs": [
        {
          "output_type": "execute_result",
          "data": {
            "text/plain": [
              "            age  job  marital  education_qual  call_type       day  mon  \\\n",
              "0      1.606965    1        1               1          1 -1.298476    1   \n",
              "1      0.288529    2        2               2          1 -1.298476    1   \n",
              "2     -0.747384    3        1               2          1 -1.298476    1   \n",
              "3      0.571051    4        1               3          1 -1.298476    1   \n",
              "4     -0.747384    5        2               3          1 -1.298476    1   \n",
              "...         ...  ...      ...             ...        ...       ...  ...   \n",
              "45206  0.947747    2        1               1          2  0.143418    6   \n",
              "45207  2.831227    6        3               4          2  0.143418    6   \n",
              "45208  2.925401    6        1               2          2  0.143418    6   \n",
              "45209  1.512791    4        1               2          3  0.143418    6   \n",
              "45210 -0.370689    3        1               2          2  0.143418    6   \n",
              "\n",
              "            dur  num_calls  prev_outcome  y  \n",
              "0      0.011016  -0.569351             1  0  \n",
              "1     -0.416127  -0.569351             1  0  \n",
              "2     -0.707361  -0.569351             1  0  \n",
              "3     -0.645231  -0.569351             1  0  \n",
              "4     -0.233620  -0.569351             1  0  \n",
              "...         ...        ...           ... ..  \n",
              "45206  2.791329   0.076230             1  1  \n",
              "45207  0.768224  -0.246560             1  1  \n",
              "45208  3.373797   0.721811             4  1  \n",
              "45209  0.970146   0.399020             1  0  \n",
              "45210  0.399328  -0.246560             3  0  \n",
              "\n",
              "[45211 rows x 11 columns]"
            ],
            "text/html": [
              "\n",
              "  <div id=\"df-bd0f725d-4d70-426c-a1e4-2128ddc0ca22\">\n",
              "    <div class=\"colab-df-container\">\n",
              "      <div>\n",
              "<style scoped>\n",
              "    .dataframe tbody tr th:only-of-type {\n",
              "        vertical-align: middle;\n",
              "    }\n",
              "\n",
              "    .dataframe tbody tr th {\n",
              "        vertical-align: top;\n",
              "    }\n",
              "\n",
              "    .dataframe thead th {\n",
              "        text-align: right;\n",
              "    }\n",
              "</style>\n",
              "<table border=\"1\" class=\"dataframe\">\n",
              "  <thead>\n",
              "    <tr style=\"text-align: right;\">\n",
              "      <th></th>\n",
              "      <th>age</th>\n",
              "      <th>job</th>\n",
              "      <th>marital</th>\n",
              "      <th>education_qual</th>\n",
              "      <th>call_type</th>\n",
              "      <th>day</th>\n",
              "      <th>mon</th>\n",
              "      <th>dur</th>\n",
              "      <th>num_calls</th>\n",
              "      <th>prev_outcome</th>\n",
              "      <th>y</th>\n",
              "    </tr>\n",
              "  </thead>\n",
              "  <tbody>\n",
              "    <tr>\n",
              "      <th>0</th>\n",
              "      <td>1.606965</td>\n",
              "      <td>1</td>\n",
              "      <td>1</td>\n",
              "      <td>1</td>\n",
              "      <td>1</td>\n",
              "      <td>-1.298476</td>\n",
              "      <td>1</td>\n",
              "      <td>0.011016</td>\n",
              "      <td>-0.569351</td>\n",
              "      <td>1</td>\n",
              "      <td>0</td>\n",
              "    </tr>\n",
              "    <tr>\n",
              "      <th>1</th>\n",
              "      <td>0.288529</td>\n",
              "      <td>2</td>\n",
              "      <td>2</td>\n",
              "      <td>2</td>\n",
              "      <td>1</td>\n",
              "      <td>-1.298476</td>\n",
              "      <td>1</td>\n",
              "      <td>-0.416127</td>\n",
              "      <td>-0.569351</td>\n",
              "      <td>1</td>\n",
              "      <td>0</td>\n",
              "    </tr>\n",
              "    <tr>\n",
              "      <th>2</th>\n",
              "      <td>-0.747384</td>\n",
              "      <td>3</td>\n",
              "      <td>1</td>\n",
              "      <td>2</td>\n",
              "      <td>1</td>\n",
              "      <td>-1.298476</td>\n",
              "      <td>1</td>\n",
              "      <td>-0.707361</td>\n",
              "      <td>-0.569351</td>\n",
              "      <td>1</td>\n",
              "      <td>0</td>\n",
              "    </tr>\n",
              "    <tr>\n",
              "      <th>3</th>\n",
              "      <td>0.571051</td>\n",
              "      <td>4</td>\n",
              "      <td>1</td>\n",
              "      <td>3</td>\n",
              "      <td>1</td>\n",
              "      <td>-1.298476</td>\n",
              "      <td>1</td>\n",
              "      <td>-0.645231</td>\n",
              "      <td>-0.569351</td>\n",
              "      <td>1</td>\n",
              "      <td>0</td>\n",
              "    </tr>\n",
              "    <tr>\n",
              "      <th>4</th>\n",
              "      <td>-0.747384</td>\n",
              "      <td>5</td>\n",
              "      <td>2</td>\n",
              "      <td>3</td>\n",
              "      <td>1</td>\n",
              "      <td>-1.298476</td>\n",
              "      <td>1</td>\n",
              "      <td>-0.233620</td>\n",
              "      <td>-0.569351</td>\n",
              "      <td>1</td>\n",
              "      <td>0</td>\n",
              "    </tr>\n",
              "    <tr>\n",
              "      <th>...</th>\n",
              "      <td>...</td>\n",
              "      <td>...</td>\n",
              "      <td>...</td>\n",
              "      <td>...</td>\n",
              "      <td>...</td>\n",
              "      <td>...</td>\n",
              "      <td>...</td>\n",
              "      <td>...</td>\n",
              "      <td>...</td>\n",
              "      <td>...</td>\n",
              "      <td>...</td>\n",
              "    </tr>\n",
              "    <tr>\n",
              "      <th>45206</th>\n",
              "      <td>0.947747</td>\n",
              "      <td>2</td>\n",
              "      <td>1</td>\n",
              "      <td>1</td>\n",
              "      <td>2</td>\n",
              "      <td>0.143418</td>\n",
              "      <td>6</td>\n",
              "      <td>2.791329</td>\n",
              "      <td>0.076230</td>\n",
              "      <td>1</td>\n",
              "      <td>1</td>\n",
              "    </tr>\n",
              "    <tr>\n",
              "      <th>45207</th>\n",
              "      <td>2.831227</td>\n",
              "      <td>6</td>\n",
              "      <td>3</td>\n",
              "      <td>4</td>\n",
              "      <td>2</td>\n",
              "      <td>0.143418</td>\n",
              "      <td>6</td>\n",
              "      <td>0.768224</td>\n",
              "      <td>-0.246560</td>\n",
              "      <td>1</td>\n",
              "      <td>1</td>\n",
              "    </tr>\n",
              "    <tr>\n",
              "      <th>45208</th>\n",
              "      <td>2.925401</td>\n",
              "      <td>6</td>\n",
              "      <td>1</td>\n",
              "      <td>2</td>\n",
              "      <td>2</td>\n",
              "      <td>0.143418</td>\n",
              "      <td>6</td>\n",
              "      <td>3.373797</td>\n",
              "      <td>0.721811</td>\n",
              "      <td>4</td>\n",
              "      <td>1</td>\n",
              "    </tr>\n",
              "    <tr>\n",
              "      <th>45209</th>\n",
              "      <td>1.512791</td>\n",
              "      <td>4</td>\n",
              "      <td>1</td>\n",
              "      <td>2</td>\n",
              "      <td>3</td>\n",
              "      <td>0.143418</td>\n",
              "      <td>6</td>\n",
              "      <td>0.970146</td>\n",
              "      <td>0.399020</td>\n",
              "      <td>1</td>\n",
              "      <td>0</td>\n",
              "    </tr>\n",
              "    <tr>\n",
              "      <th>45210</th>\n",
              "      <td>-0.370689</td>\n",
              "      <td>3</td>\n",
              "      <td>1</td>\n",
              "      <td>2</td>\n",
              "      <td>2</td>\n",
              "      <td>0.143418</td>\n",
              "      <td>6</td>\n",
              "      <td>0.399328</td>\n",
              "      <td>-0.246560</td>\n",
              "      <td>3</td>\n",
              "      <td>0</td>\n",
              "    </tr>\n",
              "  </tbody>\n",
              "</table>\n",
              "<p>45211 rows × 11 columns</p>\n",
              "</div>\n",
              "      <button class=\"colab-df-convert\" onclick=\"convertToInteractive('df-bd0f725d-4d70-426c-a1e4-2128ddc0ca22')\"\n",
              "              title=\"Convert this dataframe to an interactive table.\"\n",
              "              style=\"display:none;\">\n",
              "        \n",
              "  <svg xmlns=\"http://www.w3.org/2000/svg\" height=\"24px\"viewBox=\"0 0 24 24\"\n",
              "       width=\"24px\">\n",
              "    <path d=\"M0 0h24v24H0V0z\" fill=\"none\"/>\n",
              "    <path d=\"M18.56 5.44l.94 2.06.94-2.06 2.06-.94-2.06-.94-.94-2.06-.94 2.06-2.06.94zm-11 1L8.5 8.5l.94-2.06 2.06-.94-2.06-.94L8.5 2.5l-.94 2.06-2.06.94zm10 10l.94 2.06.94-2.06 2.06-.94-2.06-.94-.94-2.06-.94 2.06-2.06.94z\"/><path d=\"M17.41 7.96l-1.37-1.37c-.4-.4-.92-.59-1.43-.59-.52 0-1.04.2-1.43.59L10.3 9.45l-7.72 7.72c-.78.78-.78 2.05 0 2.83L4 21.41c.39.39.9.59 1.41.59.51 0 1.02-.2 1.41-.59l7.78-7.78 2.81-2.81c.8-.78.8-2.07 0-2.86zM5.41 20L4 18.59l7.72-7.72 1.47 1.35L5.41 20z\"/>\n",
              "  </svg>\n",
              "      </button>\n",
              "      \n",
              "  <style>\n",
              "    .colab-df-container {\n",
              "      display:flex;\n",
              "      flex-wrap:wrap;\n",
              "      gap: 12px;\n",
              "    }\n",
              "\n",
              "    .colab-df-convert {\n",
              "      background-color: #E8F0FE;\n",
              "      border: none;\n",
              "      border-radius: 50%;\n",
              "      cursor: pointer;\n",
              "      display: none;\n",
              "      fill: #1967D2;\n",
              "      height: 32px;\n",
              "      padding: 0 0 0 0;\n",
              "      width: 32px;\n",
              "    }\n",
              "\n",
              "    .colab-df-convert:hover {\n",
              "      background-color: #E2EBFA;\n",
              "      box-shadow: 0px 1px 2px rgba(60, 64, 67, 0.3), 0px 1px 3px 1px rgba(60, 64, 67, 0.15);\n",
              "      fill: #174EA6;\n",
              "    }\n",
              "\n",
              "    [theme=dark] .colab-df-convert {\n",
              "      background-color: #3B4455;\n",
              "      fill: #D2E3FC;\n",
              "    }\n",
              "\n",
              "    [theme=dark] .colab-df-convert:hover {\n",
              "      background-color: #434B5C;\n",
              "      box-shadow: 0px 1px 3px 1px rgba(0, 0, 0, 0.15);\n",
              "      filter: drop-shadow(0px 1px 2px rgba(0, 0, 0, 0.3));\n",
              "      fill: #FFFFFF;\n",
              "    }\n",
              "  </style>\n",
              "\n",
              "      <script>\n",
              "        const buttonEl =\n",
              "          document.querySelector('#df-bd0f725d-4d70-426c-a1e4-2128ddc0ca22 button.colab-df-convert');\n",
              "        buttonEl.style.display =\n",
              "          google.colab.kernel.accessAllowed ? 'block' : 'none';\n",
              "\n",
              "        async function convertToInteractive(key) {\n",
              "          const element = document.querySelector('#df-bd0f725d-4d70-426c-a1e4-2128ddc0ca22');\n",
              "          const dataTable =\n",
              "            await google.colab.kernel.invokeFunction('convertToInteractive',\n",
              "                                                     [key], {});\n",
              "          if (!dataTable) return;\n",
              "\n",
              "          const docLinkHtml = 'Like what you see? Visit the ' +\n",
              "            '<a target=\"_blank\" href=https://colab.research.google.com/notebooks/data_table.ipynb>data table notebook</a>'\n",
              "            + ' to learn more about interactive tables.';\n",
              "          element.innerHTML = '';\n",
              "          dataTable['output_type'] = 'display_data';\n",
              "          await google.colab.output.renderOutput(dataTable, element);\n",
              "          const docLink = document.createElement('div');\n",
              "          docLink.innerHTML = docLinkHtml;\n",
              "          element.appendChild(docLink);\n",
              "        }\n",
              "      </script>\n",
              "    </div>\n",
              "  </div>\n",
              "  "
            ]
          },
          "metadata": {},
          "execution_count": 106
        }
      ]
    },
    {
      "cell_type": "markdown",
      "source": [
        "## **Convert categorical variables to numerical variables using ordinal encoding**"
      ],
      "metadata": {
        "id": "JzlNORNrcgmA"
      }
    },
    {
      "cell_type": "code",
      "source": [
        "encoder = OrdinalEncoder()\n",
        "customer_df[\"job\"] = encoder.fit_transform(customer_df[[\"job\"]])\n",
        "customer_df[\"marital\"] = encoder.fit_transform(customer_df[[\"marital\"]])\n",
        "customer_df[\"education_qual\"] = encoder.fit_transform(customer_df[[\"education_qual\"]])\n",
        "customer_df[\"call_type\"] = encoder.fit_transform(customer_df[[\"call_type\"]])\n",
        "customer_df[\"prev_outcome\"] = encoder.fit_transform(customer_df[[\"prev_outcome\"]])\n",
        "customer_df[\"mon\"] = encoder.fit_transform(customer_df[[\"mon\"]])\n",
        "customer_df[\"y\"] = (customer_df[\"y\"] == \"yes\").astype(int)\n",
        "customer_df[\"y\"] = encoder.fit_transform(customer_df[[\"y\"]])"
      ],
      "metadata": {
        "colab": {
          "base_uri": "https://localhost:8080/"
        },
        "id": "B_yW_uPlcNfR",
        "outputId": "e2e70e36-eee8-4c12-d9f5-724e222e867f"
      },
      "execution_count": 108,
      "outputs": [
        {
          "output_type": "stream",
          "name": "stdout",
          "text": [
            "Warning: No categorical columns found. Calling 'transform' will only return input data.\n",
            "Warning: No categorical columns found. Calling 'transform' will only return input data.\n",
            "Warning: No categorical columns found. Calling 'transform' will only return input data.\n",
            "Warning: No categorical columns found. Calling 'transform' will only return input data.\n",
            "Warning: No categorical columns found. Calling 'transform' will only return input data.\n",
            "Warning: No categorical columns found. Calling 'transform' will only return input data.\n",
            "Warning: No categorical columns found. Calling 'transform' will only return input data.\n"
          ]
        }
      ]
    },
    {
      "cell_type": "markdown",
      "source": [
        "***# Scale numerical variables***"
      ],
      "metadata": {
        "id": "pnBKqMASctmn"
      }
    },
    {
      "cell_type": "code",
      "source": [
        "scaler = StandardScaler()\n",
        "scaled_cols = scaler.fit_transform(customer_df[[\"age\", \"day\", \"dur\", \"num_calls\"]])\n",
        "customer_df[[\"age\", \"day\", \"dur\", \"num_calls\"]] = scaled_cols"
      ],
      "metadata": {
        "id": "P0H-aiwncm0E"
      },
      "execution_count": 109,
      "outputs": []
    },
    {
      "cell_type": "markdown",
      "source": [
        "\n",
        "***# Split the data into training and validation sets*** "
      ],
      "metadata": {
        "id": "G-eGn47HdBFL"
      }
    },
    {
      "cell_type": "code",
      "source": [
        "train_df, val_df = train_test_split(customer_df, test_size=0.2, random_state=42)\n",
        "train_df, val_df\n"
      ],
      "metadata": {
        "colab": {
          "base_uri": "https://localhost:8080/"
        },
        "id": "O4JURrIpc_Cz",
        "outputId": "7a8c1133-73ef-4c21-db5a-cf6cae4ad045"
      },
      "execution_count": 111,
      "outputs": [
        {
          "output_type": "execute_result",
          "data": {
            "text/plain": [
              "(            age  job  marital  education_qual  call_type       day  mon  \\\n",
              " 3344   0.006007    4        1               4          1 -0.096898    1   \n",
              " 17965  0.759399    2        1               4          2  1.705471    3   \n",
              " 18299  0.100181    7        1               2          2  1.825628    3   \n",
              " 10221 -0.370689    1        2               1          1 -0.577529    2   \n",
              " 32192  1.418617    4        1               4          2 -0.096898   11   \n",
              " ...         ...  ...      ...             ...        ...       ...  ...   \n",
              " 11284  0.288529   11        2               4          1  0.263576    2   \n",
              " 44732 -1.689124   12        2               1          2 -0.938003   12   \n",
              " 38158 -0.653211    2        3               1          2 -0.096898    1   \n",
              " 860   -0.747384    6        1               2          1 -1.058161    1   \n",
              " 15795 -0.276515    4        1               4          2  0.624050    3   \n",
              " \n",
              "             dur  num_calls  prev_outcome  y  \n",
              " 3344  -0.722893  -0.569351             1  0  \n",
              " 17965  0.042081  -0.246560             1  0  \n",
              " 18299 -0.497672   0.399020             1  0  \n",
              " 10221  0.453692   2.658552             1  0  \n",
              " 32192  0.022665  -0.246560             1  0  \n",
              " ...         ...        ...           ... ..  \n",
              " 11284  7.124890  -0.569351             1  0  \n",
              " 44732 -0.187023  -0.569351             2  0  \n",
              " 38158 -0.074413  -0.569351             1  0  \n",
              " 860   -0.571452  -0.569351             1  0  \n",
              " 15795 -0.738426   2.335762             1  0  \n",
              " \n",
              " [36168 rows x 11 columns],\n",
              "             age  job  marital  education_qual  call_type       day  mon  \\\n",
              " 3776  -0.088167    4        1               2          1  0.023260    1   \n",
              " 9928   0.571051    8        2               2          1 -0.817845    2   \n",
              " 33409 -1.500776   12        2               1          2  0.503892   11   \n",
              " 31885  0.100181    1        1               1          2 -0.817845   11   \n",
              " 15738  1.418617    1        1               1          2  0.624050    3   \n",
              " ...         ...  ...      ...             ...        ...       ...  ...   \n",
              " 13353  0.571051    1        1               1          2 -0.938003    3   \n",
              " 38732 -0.841558    4        2               2          2 -0.096898    1   \n",
              " 5654   1.041921    7        3               2          1  1.224839    1   \n",
              " 3779  -0.088167    7        3               2          1  0.023260    1   \n",
              " 11677 -0.370689    2        1               2          1  0.503892    2   \n",
              " \n",
              "             dur  num_calls  prev_outcome  y  \n",
              " 3776  -0.256919  -0.569351             1  0  \n",
              " 9928  -0.680179  -0.246560             1  0  \n",
              " 33409 -0.124893  -0.569351             1  0  \n",
              " 31885  0.205172  -0.569351             2  0  \n",
              " 15738 -0.532621  -0.246560             1  0  \n",
              " ...         ...        ...           ... ..  \n",
              " 13353 -0.377296  -0.569351             1  0  \n",
              " 38732  1.684640   0.076230             1  0  \n",
              " 5654  -0.202555  -0.569351             1  0  \n",
              " 3779  -0.338465  -0.246560             1  0  \n",
              " 11677 -0.353997  -0.246560             1  0  \n",
              " \n",
              " [9043 rows x 11 columns])"
            ]
          },
          "metadata": {},
          "execution_count": 111
        }
      ]
    },
    {
      "cell_type": "code",
      "source": [
        "# Separate the input features and target variable\n",
        "\n",
        "X_train = train_df.drop(\"y\", axis=1)\n",
        "y_train = train_df[\"y\"]\n",
        "X_val = val_df.drop(\"y\", axis=1)\n",
        "y_val = val_df[\"y\"]"
      ],
      "metadata": {
        "id": "YG0xF0UVd5Ln"
      },
      "execution_count": 112,
      "outputs": []
    },
    {
      "cell_type": "code",
      "source": [
        "X_train"
      ],
      "metadata": {
        "colab": {
          "base_uri": "https://localhost:8080/",
          "height": 0
        },
        "id": "8BzRAhlgeGld",
        "outputId": "30d4c8e2-006e-4d68-a4f3-2809e66821be"
      },
      "execution_count": 113,
      "outputs": [
        {
          "output_type": "execute_result",
          "data": {
            "text/plain": [
              "            age  job  marital  education_qual  call_type       day  mon  \\\n",
              "3344   0.006007    4        1               4          1 -0.096898    1   \n",
              "17965  0.759399    2        1               4          2  1.705471    3   \n",
              "18299  0.100181    7        1               2          2  1.825628    3   \n",
              "10221 -0.370689    1        2               1          1 -0.577529    2   \n",
              "32192  1.418617    4        1               4          2 -0.096898   11   \n",
              "...         ...  ...      ...             ...        ...       ...  ...   \n",
              "11284  0.288529   11        2               4          1  0.263576    2   \n",
              "44732 -1.689124   12        2               1          2 -0.938003   12   \n",
              "38158 -0.653211    2        3               1          2 -0.096898    1   \n",
              "860   -0.747384    6        1               2          1 -1.058161    1   \n",
              "15795 -0.276515    4        1               4          2  0.624050    3   \n",
              "\n",
              "            dur  num_calls  prev_outcome  \n",
              "3344  -0.722893  -0.569351             1  \n",
              "17965  0.042081  -0.246560             1  \n",
              "18299 -0.497672   0.399020             1  \n",
              "10221  0.453692   2.658552             1  \n",
              "32192  0.022665  -0.246560             1  \n",
              "...         ...        ...           ...  \n",
              "11284  7.124890  -0.569351             1  \n",
              "44732 -0.187023  -0.569351             2  \n",
              "38158 -0.074413  -0.569351             1  \n",
              "860   -0.571452  -0.569351             1  \n",
              "15795 -0.738426   2.335762             1  \n",
              "\n",
              "[36168 rows x 10 columns]"
            ],
            "text/html": [
              "\n",
              "  <div id=\"df-be18d8e3-4471-4381-98ec-9700f61d9141\">\n",
              "    <div class=\"colab-df-container\">\n",
              "      <div>\n",
              "<style scoped>\n",
              "    .dataframe tbody tr th:only-of-type {\n",
              "        vertical-align: middle;\n",
              "    }\n",
              "\n",
              "    .dataframe tbody tr th {\n",
              "        vertical-align: top;\n",
              "    }\n",
              "\n",
              "    .dataframe thead th {\n",
              "        text-align: right;\n",
              "    }\n",
              "</style>\n",
              "<table border=\"1\" class=\"dataframe\">\n",
              "  <thead>\n",
              "    <tr style=\"text-align: right;\">\n",
              "      <th></th>\n",
              "      <th>age</th>\n",
              "      <th>job</th>\n",
              "      <th>marital</th>\n",
              "      <th>education_qual</th>\n",
              "      <th>call_type</th>\n",
              "      <th>day</th>\n",
              "      <th>mon</th>\n",
              "      <th>dur</th>\n",
              "      <th>num_calls</th>\n",
              "      <th>prev_outcome</th>\n",
              "    </tr>\n",
              "  </thead>\n",
              "  <tbody>\n",
              "    <tr>\n",
              "      <th>3344</th>\n",
              "      <td>0.006007</td>\n",
              "      <td>4</td>\n",
              "      <td>1</td>\n",
              "      <td>4</td>\n",
              "      <td>1</td>\n",
              "      <td>-0.096898</td>\n",
              "      <td>1</td>\n",
              "      <td>-0.722893</td>\n",
              "      <td>-0.569351</td>\n",
              "      <td>1</td>\n",
              "    </tr>\n",
              "    <tr>\n",
              "      <th>17965</th>\n",
              "      <td>0.759399</td>\n",
              "      <td>2</td>\n",
              "      <td>1</td>\n",
              "      <td>4</td>\n",
              "      <td>2</td>\n",
              "      <td>1.705471</td>\n",
              "      <td>3</td>\n",
              "      <td>0.042081</td>\n",
              "      <td>-0.246560</td>\n",
              "      <td>1</td>\n",
              "    </tr>\n",
              "    <tr>\n",
              "      <th>18299</th>\n",
              "      <td>0.100181</td>\n",
              "      <td>7</td>\n",
              "      <td>1</td>\n",
              "      <td>2</td>\n",
              "      <td>2</td>\n",
              "      <td>1.825628</td>\n",
              "      <td>3</td>\n",
              "      <td>-0.497672</td>\n",
              "      <td>0.399020</td>\n",
              "      <td>1</td>\n",
              "    </tr>\n",
              "    <tr>\n",
              "      <th>10221</th>\n",
              "      <td>-0.370689</td>\n",
              "      <td>1</td>\n",
              "      <td>2</td>\n",
              "      <td>1</td>\n",
              "      <td>1</td>\n",
              "      <td>-0.577529</td>\n",
              "      <td>2</td>\n",
              "      <td>0.453692</td>\n",
              "      <td>2.658552</td>\n",
              "      <td>1</td>\n",
              "    </tr>\n",
              "    <tr>\n",
              "      <th>32192</th>\n",
              "      <td>1.418617</td>\n",
              "      <td>4</td>\n",
              "      <td>1</td>\n",
              "      <td>4</td>\n",
              "      <td>2</td>\n",
              "      <td>-0.096898</td>\n",
              "      <td>11</td>\n",
              "      <td>0.022665</td>\n",
              "      <td>-0.246560</td>\n",
              "      <td>1</td>\n",
              "    </tr>\n",
              "    <tr>\n",
              "      <th>...</th>\n",
              "      <td>...</td>\n",
              "      <td>...</td>\n",
              "      <td>...</td>\n",
              "      <td>...</td>\n",
              "      <td>...</td>\n",
              "      <td>...</td>\n",
              "      <td>...</td>\n",
              "      <td>...</td>\n",
              "      <td>...</td>\n",
              "      <td>...</td>\n",
              "    </tr>\n",
              "    <tr>\n",
              "      <th>11284</th>\n",
              "      <td>0.288529</td>\n",
              "      <td>11</td>\n",
              "      <td>2</td>\n",
              "      <td>4</td>\n",
              "      <td>1</td>\n",
              "      <td>0.263576</td>\n",
              "      <td>2</td>\n",
              "      <td>7.124890</td>\n",
              "      <td>-0.569351</td>\n",
              "      <td>1</td>\n",
              "    </tr>\n",
              "    <tr>\n",
              "      <th>44732</th>\n",
              "      <td>-1.689124</td>\n",
              "      <td>12</td>\n",
              "      <td>2</td>\n",
              "      <td>1</td>\n",
              "      <td>2</td>\n",
              "      <td>-0.938003</td>\n",
              "      <td>12</td>\n",
              "      <td>-0.187023</td>\n",
              "      <td>-0.569351</td>\n",
              "      <td>2</td>\n",
              "    </tr>\n",
              "    <tr>\n",
              "      <th>38158</th>\n",
              "      <td>-0.653211</td>\n",
              "      <td>2</td>\n",
              "      <td>3</td>\n",
              "      <td>1</td>\n",
              "      <td>2</td>\n",
              "      <td>-0.096898</td>\n",
              "      <td>1</td>\n",
              "      <td>-0.074413</td>\n",
              "      <td>-0.569351</td>\n",
              "      <td>1</td>\n",
              "    </tr>\n",
              "    <tr>\n",
              "      <th>860</th>\n",
              "      <td>-0.747384</td>\n",
              "      <td>6</td>\n",
              "      <td>1</td>\n",
              "      <td>2</td>\n",
              "      <td>1</td>\n",
              "      <td>-1.058161</td>\n",
              "      <td>1</td>\n",
              "      <td>-0.571452</td>\n",
              "      <td>-0.569351</td>\n",
              "      <td>1</td>\n",
              "    </tr>\n",
              "    <tr>\n",
              "      <th>15795</th>\n",
              "      <td>-0.276515</td>\n",
              "      <td>4</td>\n",
              "      <td>1</td>\n",
              "      <td>4</td>\n",
              "      <td>2</td>\n",
              "      <td>0.624050</td>\n",
              "      <td>3</td>\n",
              "      <td>-0.738426</td>\n",
              "      <td>2.335762</td>\n",
              "      <td>1</td>\n",
              "    </tr>\n",
              "  </tbody>\n",
              "</table>\n",
              "<p>36168 rows × 10 columns</p>\n",
              "</div>\n",
              "      <button class=\"colab-df-convert\" onclick=\"convertToInteractive('df-be18d8e3-4471-4381-98ec-9700f61d9141')\"\n",
              "              title=\"Convert this dataframe to an interactive table.\"\n",
              "              style=\"display:none;\">\n",
              "        \n",
              "  <svg xmlns=\"http://www.w3.org/2000/svg\" height=\"24px\"viewBox=\"0 0 24 24\"\n",
              "       width=\"24px\">\n",
              "    <path d=\"M0 0h24v24H0V0z\" fill=\"none\"/>\n",
              "    <path d=\"M18.56 5.44l.94 2.06.94-2.06 2.06-.94-2.06-.94-.94-2.06-.94 2.06-2.06.94zm-11 1L8.5 8.5l.94-2.06 2.06-.94-2.06-.94L8.5 2.5l-.94 2.06-2.06.94zm10 10l.94 2.06.94-2.06 2.06-.94-2.06-.94-.94-2.06-.94 2.06-2.06.94z\"/><path d=\"M17.41 7.96l-1.37-1.37c-.4-.4-.92-.59-1.43-.59-.52 0-1.04.2-1.43.59L10.3 9.45l-7.72 7.72c-.78.78-.78 2.05 0 2.83L4 21.41c.39.39.9.59 1.41.59.51 0 1.02-.2 1.41-.59l7.78-7.78 2.81-2.81c.8-.78.8-2.07 0-2.86zM5.41 20L4 18.59l7.72-7.72 1.47 1.35L5.41 20z\"/>\n",
              "  </svg>\n",
              "      </button>\n",
              "      \n",
              "  <style>\n",
              "    .colab-df-container {\n",
              "      display:flex;\n",
              "      flex-wrap:wrap;\n",
              "      gap: 12px;\n",
              "    }\n",
              "\n",
              "    .colab-df-convert {\n",
              "      background-color: #E8F0FE;\n",
              "      border: none;\n",
              "      border-radius: 50%;\n",
              "      cursor: pointer;\n",
              "      display: none;\n",
              "      fill: #1967D2;\n",
              "      height: 32px;\n",
              "      padding: 0 0 0 0;\n",
              "      width: 32px;\n",
              "    }\n",
              "\n",
              "    .colab-df-convert:hover {\n",
              "      background-color: #E2EBFA;\n",
              "      box-shadow: 0px 1px 2px rgba(60, 64, 67, 0.3), 0px 1px 3px 1px rgba(60, 64, 67, 0.15);\n",
              "      fill: #174EA6;\n",
              "    }\n",
              "\n",
              "    [theme=dark] .colab-df-convert {\n",
              "      background-color: #3B4455;\n",
              "      fill: #D2E3FC;\n",
              "    }\n",
              "\n",
              "    [theme=dark] .colab-df-convert:hover {\n",
              "      background-color: #434B5C;\n",
              "      box-shadow: 0px 1px 3px 1px rgba(0, 0, 0, 0.15);\n",
              "      filter: drop-shadow(0px 1px 2px rgba(0, 0, 0, 0.3));\n",
              "      fill: #FFFFFF;\n",
              "    }\n",
              "  </style>\n",
              "\n",
              "      <script>\n",
              "        const buttonEl =\n",
              "          document.querySelector('#df-be18d8e3-4471-4381-98ec-9700f61d9141 button.colab-df-convert');\n",
              "        buttonEl.style.display =\n",
              "          google.colab.kernel.accessAllowed ? 'block' : 'none';\n",
              "\n",
              "        async function convertToInteractive(key) {\n",
              "          const element = document.querySelector('#df-be18d8e3-4471-4381-98ec-9700f61d9141');\n",
              "          const dataTable =\n",
              "            await google.colab.kernel.invokeFunction('convertToInteractive',\n",
              "                                                     [key], {});\n",
              "          if (!dataTable) return;\n",
              "\n",
              "          const docLinkHtml = 'Like what you see? Visit the ' +\n",
              "            '<a target=\"_blank\" href=https://colab.research.google.com/notebooks/data_table.ipynb>data table notebook</a>'\n",
              "            + ' to learn more about interactive tables.';\n",
              "          element.innerHTML = '';\n",
              "          dataTable['output_type'] = 'display_data';\n",
              "          await google.colab.output.renderOutput(dataTable, element);\n",
              "          const docLink = document.createElement('div');\n",
              "          docLink.innerHTML = docLinkHtml;\n",
              "          element.appendChild(docLink);\n",
              "        }\n",
              "      </script>\n",
              "    </div>\n",
              "  </div>\n",
              "  "
            ]
          },
          "metadata": {},
          "execution_count": 113
        }
      ]
    },
    {
      "cell_type": "code",
      "source": [
        "y_train"
      ],
      "metadata": {
        "colab": {
          "base_uri": "https://localhost:8080/"
        },
        "id": "kQVyWWPAeJNJ",
        "outputId": "472b67de-0340-407b-96a5-1525d860473d"
      },
      "execution_count": 114,
      "outputs": [
        {
          "output_type": "execute_result",
          "data": {
            "text/plain": [
              "3344     0\n",
              "17965    0\n",
              "18299    0\n",
              "10221    0\n",
              "32192    0\n",
              "        ..\n",
              "11284    0\n",
              "44732    0\n",
              "38158    0\n",
              "860      0\n",
              "15795    0\n",
              "Name: y, Length: 36168, dtype: int64"
            ]
          },
          "metadata": {},
          "execution_count": 114
        }
      ]
    },
    {
      "cell_type": "code",
      "source": [
        "X_val"
      ],
      "metadata": {
        "colab": {
          "base_uri": "https://localhost:8080/",
          "height": 0
        },
        "id": "AUyW4qsfeNUE",
        "outputId": "384b496a-6daa-4581-9b8d-c4219a4e9aa8"
      },
      "execution_count": 116,
      "outputs": [
        {
          "output_type": "execute_result",
          "data": {
            "text/plain": [
              "            age  job  marital  education_qual  call_type       day  mon  \\\n",
              "3776  -0.088167    4        1               2          1  0.023260    1   \n",
              "9928   0.571051    8        2               2          1 -0.817845    2   \n",
              "33409 -1.500776   12        2               1          2  0.503892   11   \n",
              "31885  0.100181    1        1               1          2 -0.817845   11   \n",
              "15738  1.418617    1        1               1          2  0.624050    3   \n",
              "...         ...  ...      ...             ...        ...       ...  ...   \n",
              "13353  0.571051    1        1               1          2 -0.938003    3   \n",
              "38732 -0.841558    4        2               2          2 -0.096898    1   \n",
              "5654   1.041921    7        3               2          1  1.224839    1   \n",
              "3779  -0.088167    7        3               2          1  0.023260    1   \n",
              "11677 -0.370689    2        1               2          1  0.503892    2   \n",
              "\n",
              "            dur  num_calls  prev_outcome  \n",
              "3776  -0.256919  -0.569351             1  \n",
              "9928  -0.680179  -0.246560             1  \n",
              "33409 -0.124893  -0.569351             1  \n",
              "31885  0.205172  -0.569351             2  \n",
              "15738 -0.532621  -0.246560             1  \n",
              "...         ...        ...           ...  \n",
              "13353 -0.377296  -0.569351             1  \n",
              "38732  1.684640   0.076230             1  \n",
              "5654  -0.202555  -0.569351             1  \n",
              "3779  -0.338465  -0.246560             1  \n",
              "11677 -0.353997  -0.246560             1  \n",
              "\n",
              "[9043 rows x 10 columns]"
            ],
            "text/html": [
              "\n",
              "  <div id=\"df-169996cf-16a2-47cd-a49a-ff712112d7d7\">\n",
              "    <div class=\"colab-df-container\">\n",
              "      <div>\n",
              "<style scoped>\n",
              "    .dataframe tbody tr th:only-of-type {\n",
              "        vertical-align: middle;\n",
              "    }\n",
              "\n",
              "    .dataframe tbody tr th {\n",
              "        vertical-align: top;\n",
              "    }\n",
              "\n",
              "    .dataframe thead th {\n",
              "        text-align: right;\n",
              "    }\n",
              "</style>\n",
              "<table border=\"1\" class=\"dataframe\">\n",
              "  <thead>\n",
              "    <tr style=\"text-align: right;\">\n",
              "      <th></th>\n",
              "      <th>age</th>\n",
              "      <th>job</th>\n",
              "      <th>marital</th>\n",
              "      <th>education_qual</th>\n",
              "      <th>call_type</th>\n",
              "      <th>day</th>\n",
              "      <th>mon</th>\n",
              "      <th>dur</th>\n",
              "      <th>num_calls</th>\n",
              "      <th>prev_outcome</th>\n",
              "    </tr>\n",
              "  </thead>\n",
              "  <tbody>\n",
              "    <tr>\n",
              "      <th>3776</th>\n",
              "      <td>-0.088167</td>\n",
              "      <td>4</td>\n",
              "      <td>1</td>\n",
              "      <td>2</td>\n",
              "      <td>1</td>\n",
              "      <td>0.023260</td>\n",
              "      <td>1</td>\n",
              "      <td>-0.256919</td>\n",
              "      <td>-0.569351</td>\n",
              "      <td>1</td>\n",
              "    </tr>\n",
              "    <tr>\n",
              "      <th>9928</th>\n",
              "      <td>0.571051</td>\n",
              "      <td>8</td>\n",
              "      <td>2</td>\n",
              "      <td>2</td>\n",
              "      <td>1</td>\n",
              "      <td>-0.817845</td>\n",
              "      <td>2</td>\n",
              "      <td>-0.680179</td>\n",
              "      <td>-0.246560</td>\n",
              "      <td>1</td>\n",
              "    </tr>\n",
              "    <tr>\n",
              "      <th>33409</th>\n",
              "      <td>-1.500776</td>\n",
              "      <td>12</td>\n",
              "      <td>2</td>\n",
              "      <td>1</td>\n",
              "      <td>2</td>\n",
              "      <td>0.503892</td>\n",
              "      <td>11</td>\n",
              "      <td>-0.124893</td>\n",
              "      <td>-0.569351</td>\n",
              "      <td>1</td>\n",
              "    </tr>\n",
              "    <tr>\n",
              "      <th>31885</th>\n",
              "      <td>0.100181</td>\n",
              "      <td>1</td>\n",
              "      <td>1</td>\n",
              "      <td>1</td>\n",
              "      <td>2</td>\n",
              "      <td>-0.817845</td>\n",
              "      <td>11</td>\n",
              "      <td>0.205172</td>\n",
              "      <td>-0.569351</td>\n",
              "      <td>2</td>\n",
              "    </tr>\n",
              "    <tr>\n",
              "      <th>15738</th>\n",
              "      <td>1.418617</td>\n",
              "      <td>1</td>\n",
              "      <td>1</td>\n",
              "      <td>1</td>\n",
              "      <td>2</td>\n",
              "      <td>0.624050</td>\n",
              "      <td>3</td>\n",
              "      <td>-0.532621</td>\n",
              "      <td>-0.246560</td>\n",
              "      <td>1</td>\n",
              "    </tr>\n",
              "    <tr>\n",
              "      <th>...</th>\n",
              "      <td>...</td>\n",
              "      <td>...</td>\n",
              "      <td>...</td>\n",
              "      <td>...</td>\n",
              "      <td>...</td>\n",
              "      <td>...</td>\n",
              "      <td>...</td>\n",
              "      <td>...</td>\n",
              "      <td>...</td>\n",
              "      <td>...</td>\n",
              "    </tr>\n",
              "    <tr>\n",
              "      <th>13353</th>\n",
              "      <td>0.571051</td>\n",
              "      <td>1</td>\n",
              "      <td>1</td>\n",
              "      <td>1</td>\n",
              "      <td>2</td>\n",
              "      <td>-0.938003</td>\n",
              "      <td>3</td>\n",
              "      <td>-0.377296</td>\n",
              "      <td>-0.569351</td>\n",
              "      <td>1</td>\n",
              "    </tr>\n",
              "    <tr>\n",
              "      <th>38732</th>\n",
              "      <td>-0.841558</td>\n",
              "      <td>4</td>\n",
              "      <td>2</td>\n",
              "      <td>2</td>\n",
              "      <td>2</td>\n",
              "      <td>-0.096898</td>\n",
              "      <td>1</td>\n",
              "      <td>1.684640</td>\n",
              "      <td>0.076230</td>\n",
              "      <td>1</td>\n",
              "    </tr>\n",
              "    <tr>\n",
              "      <th>5654</th>\n",
              "      <td>1.041921</td>\n",
              "      <td>7</td>\n",
              "      <td>3</td>\n",
              "      <td>2</td>\n",
              "      <td>1</td>\n",
              "      <td>1.224839</td>\n",
              "      <td>1</td>\n",
              "      <td>-0.202555</td>\n",
              "      <td>-0.569351</td>\n",
              "      <td>1</td>\n",
              "    </tr>\n",
              "    <tr>\n",
              "      <th>3779</th>\n",
              "      <td>-0.088167</td>\n",
              "      <td>7</td>\n",
              "      <td>3</td>\n",
              "      <td>2</td>\n",
              "      <td>1</td>\n",
              "      <td>0.023260</td>\n",
              "      <td>1</td>\n",
              "      <td>-0.338465</td>\n",
              "      <td>-0.246560</td>\n",
              "      <td>1</td>\n",
              "    </tr>\n",
              "    <tr>\n",
              "      <th>11677</th>\n",
              "      <td>-0.370689</td>\n",
              "      <td>2</td>\n",
              "      <td>1</td>\n",
              "      <td>2</td>\n",
              "      <td>1</td>\n",
              "      <td>0.503892</td>\n",
              "      <td>2</td>\n",
              "      <td>-0.353997</td>\n",
              "      <td>-0.246560</td>\n",
              "      <td>1</td>\n",
              "    </tr>\n",
              "  </tbody>\n",
              "</table>\n",
              "<p>9043 rows × 10 columns</p>\n",
              "</div>\n",
              "      <button class=\"colab-df-convert\" onclick=\"convertToInteractive('df-169996cf-16a2-47cd-a49a-ff712112d7d7')\"\n",
              "              title=\"Convert this dataframe to an interactive table.\"\n",
              "              style=\"display:none;\">\n",
              "        \n",
              "  <svg xmlns=\"http://www.w3.org/2000/svg\" height=\"24px\"viewBox=\"0 0 24 24\"\n",
              "       width=\"24px\">\n",
              "    <path d=\"M0 0h24v24H0V0z\" fill=\"none\"/>\n",
              "    <path d=\"M18.56 5.44l.94 2.06.94-2.06 2.06-.94-2.06-.94-.94-2.06-.94 2.06-2.06.94zm-11 1L8.5 8.5l.94-2.06 2.06-.94-2.06-.94L8.5 2.5l-.94 2.06-2.06.94zm10 10l.94 2.06.94-2.06 2.06-.94-2.06-.94-.94-2.06-.94 2.06-2.06.94z\"/><path d=\"M17.41 7.96l-1.37-1.37c-.4-.4-.92-.59-1.43-.59-.52 0-1.04.2-1.43.59L10.3 9.45l-7.72 7.72c-.78.78-.78 2.05 0 2.83L4 21.41c.39.39.9.59 1.41.59.51 0 1.02-.2 1.41-.59l7.78-7.78 2.81-2.81c.8-.78.8-2.07 0-2.86zM5.41 20L4 18.59l7.72-7.72 1.47 1.35L5.41 20z\"/>\n",
              "  </svg>\n",
              "      </button>\n",
              "      \n",
              "  <style>\n",
              "    .colab-df-container {\n",
              "      display:flex;\n",
              "      flex-wrap:wrap;\n",
              "      gap: 12px;\n",
              "    }\n",
              "\n",
              "    .colab-df-convert {\n",
              "      background-color: #E8F0FE;\n",
              "      border: none;\n",
              "      border-radius: 50%;\n",
              "      cursor: pointer;\n",
              "      display: none;\n",
              "      fill: #1967D2;\n",
              "      height: 32px;\n",
              "      padding: 0 0 0 0;\n",
              "      width: 32px;\n",
              "    }\n",
              "\n",
              "    .colab-df-convert:hover {\n",
              "      background-color: #E2EBFA;\n",
              "      box-shadow: 0px 1px 2px rgba(60, 64, 67, 0.3), 0px 1px 3px 1px rgba(60, 64, 67, 0.15);\n",
              "      fill: #174EA6;\n",
              "    }\n",
              "\n",
              "    [theme=dark] .colab-df-convert {\n",
              "      background-color: #3B4455;\n",
              "      fill: #D2E3FC;\n",
              "    }\n",
              "\n",
              "    [theme=dark] .colab-df-convert:hover {\n",
              "      background-color: #434B5C;\n",
              "      box-shadow: 0px 1px 3px 1px rgba(0, 0, 0, 0.15);\n",
              "      filter: drop-shadow(0px 1px 2px rgba(0, 0, 0, 0.3));\n",
              "      fill: #FFFFFF;\n",
              "    }\n",
              "  </style>\n",
              "\n",
              "      <script>\n",
              "        const buttonEl =\n",
              "          document.querySelector('#df-169996cf-16a2-47cd-a49a-ff712112d7d7 button.colab-df-convert');\n",
              "        buttonEl.style.display =\n",
              "          google.colab.kernel.accessAllowed ? 'block' : 'none';\n",
              "\n",
              "        async function convertToInteractive(key) {\n",
              "          const element = document.querySelector('#df-169996cf-16a2-47cd-a49a-ff712112d7d7');\n",
              "          const dataTable =\n",
              "            await google.colab.kernel.invokeFunction('convertToInteractive',\n",
              "                                                     [key], {});\n",
              "          if (!dataTable) return;\n",
              "\n",
              "          const docLinkHtml = 'Like what you see? Visit the ' +\n",
              "            '<a target=\"_blank\" href=https://colab.research.google.com/notebooks/data_table.ipynb>data table notebook</a>'\n",
              "            + ' to learn more about interactive tables.';\n",
              "          element.innerHTML = '';\n",
              "          dataTable['output_type'] = 'display_data';\n",
              "          await google.colab.output.renderOutput(dataTable, element);\n",
              "          const docLink = document.createElement('div');\n",
              "          docLink.innerHTML = docLinkHtml;\n",
              "          element.appendChild(docLink);\n",
              "        }\n",
              "      </script>\n",
              "    </div>\n",
              "  </div>\n",
              "  "
            ]
          },
          "metadata": {},
          "execution_count": 116
        }
      ]
    },
    {
      "cell_type": "code",
      "source": [
        "y_val"
      ],
      "metadata": {
        "colab": {
          "base_uri": "https://localhost:8080/"
        },
        "id": "WMkYj00SeUF6",
        "outputId": "ce118c64-96f8-4e8b-c2bf-8edcc2c06eb6"
      },
      "execution_count": 117,
      "outputs": [
        {
          "output_type": "execute_result",
          "data": {
            "text/plain": [
              "3776     0\n",
              "9928     0\n",
              "33409    0\n",
              "31885    0\n",
              "15738    0\n",
              "        ..\n",
              "13353    0\n",
              "38732    0\n",
              "5654     0\n",
              "3779     0\n",
              "11677    0\n",
              "Name: y, Length: 9043, dtype: int64"
            ]
          },
          "metadata": {},
          "execution_count": 117
        }
      ]
    },
    {
      "cell_type": "markdown",
      "source": [
        "# **Note:**\n",
        "Ordinal encoding has been used to convert the categorical variables to numerical variables, and standard scaling has been used to scale the numerical variables. The data has also been split into training and validation sets, and the input features and target variable have been separated.\n",
        "\n",
        "\n",
        "\n"
      ],
      "metadata": {
        "id": "-O04BOvHeZOj"
      }
    },
    {
      "cell_type": "markdown",
      "source": [
        "***The preprocessed data is then split into training and validation sets. The code defines two preprocessing pipelines - one for numeric features and one for categorical features - and combines them using a ColumnTransformer.***"
      ],
      "metadata": {
        "id": "mYA8Xe6KjDng"
      }
    },
    {
      "cell_type": "code",
      "source": [
        "# Load the data and preprocess it\n",
        "customer_df = pd.read_csv(\"https://github.com/sunilbabu07/customer-conversion-prediction/blob/main/train.csv?raw=true\")\n",
        "customer_df = customer_df.dropna()\n",
        "customer_df = customer_df[customer_df != 'unknown']\n",
        "encoder = OrdinalEncoder()\n",
        "customer_df[\"job\"] = encoder.fit_transform(customer_df[[\"job\"]])\n",
        "customer_df[\"marital\"] = encoder.fit_transform(customer_df[[\"marital\"]])\n",
        "customer_df[\"education_qual\"] = encoder.fit_transform(customer_df[[\"education_qual\"]])\n",
        "customer_df[\"call_type\"] = encoder.fit_transform(customer_df[[\"call_type\"]])\n",
        "customer_df[\"prev_outcome\"] = encoder.fit_transform(customer_df[[\"prev_outcome\"]])\n",
        "customer_df[\"mon\"] = encoder.fit_transform(customer_df[[\"mon\"]])\n",
        "customer_df[\"y\"] = (customer_df[\"y\"] == \"yes\").astype(int)\n",
        "customer_df[\"y\"] = encoder.fit_transform(customer_df[[\"y\"]])\n",
        "scaler = StandardScaler()\n",
        "scaled_cols = scaler.fit_transform(customer_df[[\"age\", \"day\", \"dur\", \"num_calls\"]])\n",
        "customer_df[[\"age\", \"day\", \"dur\", \"num_calls\"]] = scaled_cols\n",
        "train_df, val_df = train_test_split(customer_df, test_size=0.2, random_state=42)\n",
        "X_train = train_df.drop(\"y\", axis=1)\n",
        "y_train = train_df[\"y\"]\n",
        "X_val = val_df.drop(\"y\", axis=1)\n",
        "y_val = val_df[\"y\"]\n",
        "\n",
        "# Define the preprocessing steps for each type of feature\n",
        "numeric_transformer = Pipeline(steps=[\n",
        "    ('imputer', SimpleImputer(strategy='median')),\n",
        "    ('scaler', StandardScaler())\n",
        "])\n",
        "\n",
        "categorical_transformer = Pipeline(steps=[\n",
        "    ('encoder', OrdinalEncoder())\n",
        "])\n",
        "\n",
        "# Combine the preprocessing steps for all features\n",
        "preprocessor = ColumnTransformer(\n",
        "    transformers=[\n",
        "        ('num', numeric_transformer, ['age', 'day', 'dur', 'num_calls']),\n",
        "        ('cat', categorical_transformer, ['job', 'marital', 'education_qual', 'call_type', 'prev_outcome', 'mon'])\n",
        "    ])\n",
        "\n",
        "# Train and evaluate multiple machine learning models\n",
        "models = [LogisticRegression(), DecisionTreeClassifier(), RandomForestClassifier(), XGBClassifier()]\n",
        "\n",
        "for model in models:\n",
        "    pipe = Pipeline(steps=[('preprocessor', preprocessor),\n",
        "                           ('model', model)])\n",
        "    pipe.fit(X_train, y_train)\n",
        "    y_pred = pipe.predict_proba(X_val)[:, 1]\n",
        "    auc = roc_auc_score(y_val, y_pred)\n",
        "    print(f\"{model.__class__.__name__}: {auc}\")"
      ],
      "metadata": {
        "colab": {
          "base_uri": "https://localhost:8080/"
        },
        "id": "ub5hnneIfw_a",
        "outputId": "86f34b10-f4ba-4a45-c429-d1a2421ce264"
      },
      "execution_count": 127,
      "outputs": [
        {
          "output_type": "stream",
          "name": "stdout",
          "text": [
            "Warning: No categorical columns found. Calling 'transform' will only return input data.\n",
            "Warning: No categorical columns found. Calling 'transform' will only return input data.\n",
            "LogisticRegression: 0.8690078140704909\n",
            "Warning: No categorical columns found. Calling 'transform' will only return input data.\n",
            "DecisionTreeClassifier: 0.6970549234914528\n",
            "Warning: No categorical columns found. Calling 'transform' will only return input data.\n",
            "RandomForestClassifier: 0.9207075058047645\n",
            "Warning: No categorical columns found. Calling 'transform' will only return input data.\n",
            "XGBClassifier: 0.92648915952175\n"
          ]
        }
      ]
    },
    {
      "cell_type": "markdown",
      "source": [
        "## ***The code then trains and evaluates four machine learning models - Logistic Regression, Decision Tree, Random Forest, and XGBoost - using a pipeline that applies the preprocessing steps defined earlier. The performance of each model is evaluated based on its ROC AUC score on the validation set.*** "
      ],
      "metadata": {
        "id": "Fm2ULn5HjWKu"
      }
    },
    {
      "cell_type": "markdown",
      "source": [
        "# ***Cross-validation on multiple machine learning models***"
      ],
      "metadata": {
        "id": "9lf-n6zokCqc"
      }
    },
    {
      "cell_type": "code",
      "source": [
        "from sklearn.model_selection import cross_val_score\n",
        "\n",
        "models = [LogisticRegression(), DecisionTreeClassifier(), RandomForestClassifier(), XGBClassifier()]\n",
        "\n",
        "for model in models:\n",
        "    scores = cross_val_score(model, X_train, y_train, cv=5, scoring='roc_auc')\n",
        "    print(f\"{model.__class__.__name__}: {scores.mean():.4f} +/- {scores.std():.4f}\")"
      ],
      "metadata": {
        "colab": {
          "base_uri": "https://localhost:8080/"
        },
        "id": "vgYJk6JKkF3_",
        "outputId": "6f70e48a-b70b-4329-c095-368cbf7b3288"
      },
      "execution_count": 128,
      "outputs": [
        {
          "output_type": "stream",
          "name": "stdout",
          "text": [
            "LogisticRegression: 0.8774 +/- 0.0057\n",
            "DecisionTreeClassifier: 0.7009 +/- 0.0072\n",
            "RandomForestClassifier: 0.9262 +/- 0.0025\n",
            "XGBClassifier: 0.9291 +/- 0.0031\n"
          ]
        }
      ]
    },
    {
      "cell_type": "markdown",
      "source": [
        "# ***Plotting ROC curve to ML model***"
      ],
      "metadata": {
        "id": "-6SP0iLFklrt"
      }
    },
    {
      "cell_type": "code",
      "source": [
        "from sklearn.metrics import roc_curve\n",
        "\n",
        "# Train and evaluate multiple machine learning models\n",
        "models = [LogisticRegression(), DecisionTreeClassifier(), RandomForestClassifier(), XGBClassifier()]\n",
        "\n",
        "for model in models:\n",
        "    model.fit(X_train, y_train)\n",
        "    y_pred = model.predict_proba(X_val)[:, 1]\n",
        "    fpr, tpr, thresholds = roc_curve(y_val, y_pred)\n",
        "    auc = roc_auc_score(y_val, y_pred)\n",
        "    plt.plot(fpr, tpr, label=f\"{model.__class__.__name__}, AUC = {auc:.3f}\")\n",
        "\n",
        "# Plot the ROC curves\n",
        "plt.plot([0, 1], [0, 1], linestyle='--', label='Random Classifier')\n",
        "plt.xlim([0, 1])\n",
        "plt.ylim([0, 1])\n",
        "plt.xlabel('False Positive Rate')\n",
        "plt.ylabel('True Positive Rate')\n",
        "plt.title('ROC Curve')\n",
        "plt.legend()\n",
        "plt.show()\n"
      ],
      "metadata": {
        "colab": {
          "base_uri": "https://localhost:8080/",
          "height": 295
        },
        "id": "VAqhbSVykKro",
        "outputId": "605a85d0-fd42-409b-a026-44878e64aafe"
      },
      "execution_count": 129,
      "outputs": [
        {
          "output_type": "display_data",
          "data": {
            "text/plain": [
              "<Figure size 432x288 with 1 Axes>"
            ],
            "image/png": "[encoded data removed]"
          },
          "metadata": {
            "needs_background": "light"
          }
        }
      ]
    },
    {
      "cell_type": "markdown",
      "source": [
        "**# Logistic regression**"
      ],
      "metadata": {
        "id": "_bc6FbP9lRfT"
      }
    },
    {
      "cell_type": "code",
      "source": [
        "lr_model = LogisticRegression()\n",
        "lr_model.fit(X_train, y_train)\n",
        "feature_importance = abs(lr_model.coef_[0])\n",
        "sorted_idx = feature_importance.argsort()[::-1]\n",
        "for i in sorted_idx:\n",
        "    print(f\"{X_train.columns[i]}: {feature_importance[i]}\")"
      ],
      "metadata": {
        "colab": {
          "base_uri": "https://localhost:8080/"
        },
        "id": "Lc6McxFilN9z",
        "outputId": "47e43332-702a-4ba1-fb55-e3e917bdc03a"
      },
      "execution_count": 132,
      "outputs": [
        {
          "output_type": "stream",
          "name": "stdout",
          "text": [
            "dur: 1.022131030807261\n",
            "prev_outcome: 0.7212827938144372\n",
            "call_type: 0.6060649072011911\n",
            "num_calls: 0.2822491650366199\n",
            "education_qual: 0.2421308392254383\n",
            "marital: 0.17037379861458488\n",
            "age: 0.08751845711922078\n",
            "mon: 0.08739120272724303\n",
            "job: 0.034075960318722655\n",
            "day: 0.025185897209870602\n"
          ]
        }
      ]
    },
    {
      "cell_type": "code",
      "source": [
        "# Fit the logistic regression model\n",
        "lr_model = LogisticRegression()\n",
        "lr_model.fit(X_train, y_train)\n",
        "\n",
        "# Get the absolute value of the coefficients\n",
        "coef = abs(lr_model.coef_[0])\n",
        "\n",
        "# Create a bar chart to show the feature importance\n",
        "plt.bar(range(len(coef)), coef)\n",
        "plt.xticks(range(len(coef)), X_train.columns, rotation=90)\n",
        "plt.xlabel(\"Features\")\n",
        "plt.ylabel(\"Absolute Coefficient Values\")\n",
        "plt.title(\"Logistic Regression Feature Importance\")\n",
        "plt.show()"
      ],
      "metadata": {
        "colab": {
          "base_uri": "https://localhost:8080/",
          "height": 362
        },
        "id": "65UeXLMNk9JP",
        "outputId": "73fd45a1-1181-420c-9ba4-03c127c3c8aa"
      },
      "execution_count": 131,
      "outputs": [
        {
          "output_type": "display_data",
          "data": {
            "text/plain": [
              "<Figure size 432x288 with 1 Axes>"
            ],
            "image/png": "[encoded data removed]"
          },
          "metadata": {
            "needs_background": "light"
          }
        }
      ]
    },
    {
      "cell_type": "markdown",
      "source": [
        "**# Decision tree**\n"
      ],
      "metadata": {
        "id": "4mI9yvgClcjG"
      }
    },
    {
      "cell_type": "code",
      "source": [
        "dt_model = DecisionTreeClassifier()\n",
        "dt_model.fit(X_train, y_train)\n",
        "feature_importance = dt_model.feature_importances_\n",
        "sorted_idx = feature_importance.argsort()[::-1]\n",
        "for i in sorted_idx:\n",
        "    print(f\"{X_train.columns[i]}: {feature_importance[i]}\")"
      ],
      "metadata": {
        "colab": {
          "base_uri": "https://localhost:8080/"
        },
        "id": "6BEP2Ib9lX8i",
        "outputId": "3cfc07c3-8f47-4574-dfb2-770006783457"
      },
      "execution_count": 133,
      "outputs": [
        {
          "output_type": "stream",
          "name": "stdout",
          "text": [
            "dur: 0.3410527085247864\n",
            "age: 0.13509564516331884\n",
            "day: 0.12959899138807857\n",
            "prev_outcome: 0.10918450764936623\n",
            "mon: 0.09882009253638217\n",
            "job: 0.06395745520344027\n",
            "num_calls: 0.04608095967972588\n",
            "education_qual: 0.029686726200056274\n",
            "marital: 0.02404387653246309\n",
            "call_type: 0.022479037122382257\n"
          ]
        }
      ]
    },
    {
      "cell_type": "code",
      "source": [
        "dt_model = DecisionTreeClassifier()\n",
        "dt_model.fit(X_train, y_train)\n",
        "feature_importance = dt_model.feature_importances_\n",
        "\n",
        "plt.barh(X_train.columns, feature_importance)\n",
        "plt.xlabel(\"Feature Importance\")\n",
        "plt.ylabel(\"Feature\")\n",
        "plt.title(\"Decision Tree Feature Importances\")\n",
        "plt.show()"
      ],
      "metadata": {
        "colab": {
          "base_uri": "https://localhost:8080/",
          "height": 295
        },
        "id": "lkKLgeTElLGN",
        "outputId": "d8b85e90-a71c-4bc9-a97c-9b56d4e21178"
      },
      "execution_count": 134,
      "outputs": [
        {
          "output_type": "display_data",
          "data": {
            "text/plain": [
              "<Figure size 432x288 with 1 Axes>"
            ],
            "image/png": "[encoded data removed]"
          },
          "metadata": {
            "needs_background": "light"
          }
        }
      ]
    },
    {
      "cell_type": "markdown",
      "source": [
        "**# Random forest**"
      ],
      "metadata": {
        "id": "TYAWefEkl_yW"
      }
    },
    {
      "cell_type": "code",
      "source": [
        "rf_model = RandomForestClassifier()\n",
        "rf_model.fit(X_train, y_train)\n",
        "feature_importance = rf_model.feature_importances_\n",
        "sorted_idx = feature_importance.argsort()[::-1]\n",
        "for i in sorted_idx:\n",
        "    print(f\"{X_train.columns[i]}: {feature_importance[i]}\")\n"
      ],
      "metadata": {
        "colab": {
          "base_uri": "https://localhost:8080/"
        },
        "id": "HQlSL4Y-l0xU",
        "outputId": "38ee2318-3705-48be-ab76-24448ac4d970"
      },
      "execution_count": 135,
      "outputs": [
        {
          "output_type": "stream",
          "name": "stdout",
          "text": [
            "dur: 0.332172755945127\n",
            "age: 0.138759327933737\n",
            "day: 0.12789061645300845\n",
            "mon: 0.10177921749202636\n",
            "prev_outcome: 0.10074964874080866\n",
            "job: 0.06441523953907421\n",
            "num_calls: 0.0495043343258501\n",
            "education_qual: 0.03232574920870297\n",
            "marital: 0.026600553778805835\n",
            "call_type: 0.02580255658285948\n"
          ]
        }
      ]
    },
    {
      "cell_type": "code",
      "source": [
        "importances = rf_model.feature_importances_\n",
        "std = np.std([tree.feature_importances_ for tree in rf_model.estimators_],\n",
        "             axis=0)\n",
        "indices = np.argsort(importances)[::-1]\n",
        "\n",
        "plt.figure()\n",
        "plt.title(\"Feature importances\")\n",
        "plt.bar(range(X_train.shape[1]), importances[indices],\n",
        "        color=\"r\", yerr=std[indices], align=\"center\")\n",
        "plt.xticks(range(X_train.shape[1]), X_train.columns[indices], rotation='vertical')\n",
        "plt.xlim([-1, X_train.shape[1]])\n",
        "plt.show()\n"
      ],
      "metadata": {
        "colab": {
          "base_uri": "https://localhost:8080/",
          "height": 348
        },
        "id": "t-OkNjslmIJ4",
        "outputId": "4297dbe9-1175-4e9e-f45b-cf50d7c01483"
      },
      "execution_count": 136,
      "outputs": [
        {
          "output_type": "display_data",
          "data": {
            "text/plain": [
              "<Figure size 432x288 with 1 Axes>"
            ],
            "image/png": "[encoded data removed]"
          },
          "metadata": {
            "needs_background": "light"
          }
        }
      ]
    },
    {
      "cell_type": "markdown",
      "source": [
        "**XGBoost classifier**"
      ],
      "metadata": {
        "id": "tprDKWEmm7A-"
      }
    },
    {
      "cell_type": "code",
      "source": [
        "xgb_model = XGBClassifier()\n",
        "xgb_model.fit(X_train, y_train)\n",
        "feature_importance = xgb_model.feature_importances_\n",
        "sorted_idx = feature_importance.argsort()[::-1]\n",
        "for i in sorted_idx:\n",
        "    print(f\"{X_train.columns[i]}: {feature_importance[i]}\")\n"
      ],
      "metadata": {
        "colab": {
          "base_uri": "https://localhost:8080/"
        },
        "id": "k9mgeBLYmKQS",
        "outputId": "08a4818e-ad5f-4987-fe30-2b306ed02020"
      },
      "execution_count": 137,
      "outputs": [
        {
          "output_type": "stream",
          "name": "stdout",
          "text": [
            "prev_outcome: 0.2845606803894043\n",
            "call_type: 0.21201714873313904\n",
            "dur: 0.1435166597366333\n",
            "mon: 0.1155322939157486\n",
            "day: 0.05424614995718002\n",
            "marital: 0.04151860252022743\n",
            "age: 0.04110873118042946\n",
            "education_qual: 0.04049153998494148\n",
            "num_calls: 0.03568271920084953\n",
            "job: 0.031325455754995346\n"
          ]
        }
      ]
    },
    {
      "cell_type": "code",
      "source": [
        "from xgboost import plot_importance\n",
        "\n",
        "xgb_model = XGBClassifier()\n",
        "xgb_model.fit(X_train, y_train)\n",
        "\n",
        "plot_importance(xgb_model)\n",
        "plt.show()\n"
      ],
      "metadata": {
        "colab": {
          "base_uri": "https://localhost:8080/",
          "height": 295
        },
        "id": "rDm3k5lCm_7v",
        "outputId": "9fd652e2-3e01-4b78-e47a-0981d8003d1b"
      },
      "execution_count": 138,
      "outputs": [
        {
          "output_type": "display_data",
          "data": {
            "text/plain": [
              "<Figure size 432x288 with 1 Axes>"
            ],
            "image/png": "[encoded data removed]"
          },
          "metadata": {
            "needs_background": "light"
          }
        }
      ]
    },
    {
      "cell_type": "markdown",
      "source": [
        "\n",
        "\n",
        "1. KNN is not a model that provides feature importances like decision trees or random forests.\n",
        "\n",
        "2. KNN is a distance-based algorithm that makes predictions based on the distances between the new input data point and the training data. It doesn't explicitly select features or assign importance to them. \n",
        "\n"
      ],
      "metadata": {
        "id": "OHJiMUfRnKsG"
      }
    },
    {
      "cell_type": "markdown",
      "source": [
        "# **Correlation coefficients **"
      ],
      "metadata": {
        "id": "wpC3-EgvyuCD"
      }
    },
    {
      "cell_type": "code",
      "source": [
        "# Will create a heatmap with the correlation coefficients between each pair of features, annotated with the numerical values. \n",
        "\n",
        "import matplotlib.pyplot as plt\n",
        "import seaborn as sns\n",
        "\n",
        "# Generate a heatmap of the correlation coefficients\n",
        "plt.figure(figsize=(20, 10))\n",
        "sns.heatmap(customer_df.corr(), cmap='coolwarm', annot=True, fmt='.2f', square=True)\n",
        "plt.title('Correlation Heatmap')\n",
        "plt.show()\n"
      ],
      "metadata": {
        "colab": {
          "base_uri": "https://localhost:8080/",
          "height": 674
        },
        "id": "7ytm7jkPm6Lm",
        "outputId": "72bd79f7-4970-4903-975e-efffe94cdad0"
      },
      "execution_count": 147,
      "outputs": [
        {
          "output_type": "display_data",
          "data": {
            "text/plain": [
              "<Figure size 1440x720 with 2 Axes>"
            ],
            "image/png": "[encoded data removed]"
          },
          "metadata": {
            "needs_background": "light"
          }
        }
      ]
    },
    {
      "cell_type": "code",
      "source": [
        "import matplotlib.pyplot as plt\n",
        "import seaborn as sns\n",
        "#figure size\n",
        "plt.figure(figsize=(20, 10))\n",
        "#heat map for correlation coefficient\n",
        "sns.heatmap(customer_df.corr(), annot=True, fmt=\"0.1\")"
      ],
      "metadata": {
        "colab": {
          "base_uri": "https://localhost:8080/",
          "height": 613
        },
        "id": "S_xd5L4HxyEc",
        "outputId": "e946c32b-38db-441d-b9be-0f9a8b8e4ed6"
      },
      "execution_count": 146,
      "outputs": [
        {
          "output_type": "execute_result",
          "data": {
            "text/plain": [
              "<Axes: >"
            ]
          },
          "metadata": {},
          "execution_count": 146
        },
        {
          "output_type": "display_data",
          "data": {
            "text/plain": [
              "<Figure size 1440x720 with 2 Axes>"
            ],
            "image/png": "[encoded data removed]"
          },
          "metadata": {
            "needs_background": "light"
          }
        }
      ]
    },
    {
      "cell_type": "code",
      "source": [
        "customer_df.corr()"
      ],
      "metadata": {
        "colab": {
          "base_uri": "https://localhost:8080/",
          "height": 394
        },
        "id": "fbE89nruxVmx",
        "outputId": "aa9981a8-3fb4-4bec-a682-81b159815f5d"
      },
      "execution_count": 144,
      "outputs": [
        {
          "output_type": "execute_result",
          "data": {
            "text/plain": [
              "                     age       job   marital  education_qual  call_type  \\\n",
              "age             1.000000  0.004262 -0.126351        0.197850   0.092577   \n",
              "job             0.004262  1.000000  0.025000        0.259541   0.001588   \n",
              "marital        -0.126351  0.025000  1.000000       -0.109133  -0.014290   \n",
              "education_qual  0.197850  0.259541 -0.109133        1.000000  -0.068756   \n",
              "call_type       0.092577  0.001588 -0.014290       -0.068756   1.000000   \n",
              "day            -0.009120 -0.027535 -0.005217       -0.024666   0.038643   \n",
              "mon             0.049392  0.011875  0.002324       -0.083039   0.438779   \n",
              "dur            -0.004648  0.008166  0.018834       -0.003267   0.001494   \n",
              "num_calls       0.004760 -0.035410 -0.029294        0.002234   0.020046   \n",
              "prev_outcome    0.012238  0.014057  0.020126       -0.048727   0.221644   \n",
              "y               0.025155  0.022396  0.043846       -0.058675   0.130590   \n",
              "\n",
              "                     day       mon       dur  num_calls  prev_outcome  \\\n",
              "age            -0.009120  0.049392 -0.004648   0.004760      0.012238   \n",
              "job            -0.027535  0.011875  0.008166  -0.035410      0.014057   \n",
              "marital        -0.005217  0.002324  0.018834  -0.029294      0.020126   \n",
              "education_qual -0.024666 -0.083039 -0.003267   0.002234     -0.048727   \n",
              "call_type       0.038643  0.438779  0.001494   0.020046      0.221644   \n",
              "day             1.000000  0.007855 -0.030206   0.162490     -0.072629   \n",
              "mon             0.007855  1.000000  0.023540  -0.085634      0.217733   \n",
              "dur            -0.030206  0.023540  1.000000  -0.084570      0.023192   \n",
              "num_calls       0.162490 -0.085634 -0.084570   1.000000     -0.094982   \n",
              "prev_outcome   -0.072629  0.217733  0.023192  -0.094982      1.000000   \n",
              "y              -0.028348  0.166663  0.394521  -0.073172      0.259315   \n",
              "\n",
              "                       y  \n",
              "age             0.025155  \n",
              "job             0.022396  \n",
              "marital         0.043846  \n",
              "education_qual -0.058675  \n",
              "call_type       0.130590  \n",
              "day            -0.028348  \n",
              "mon             0.166663  \n",
              "dur             0.394521  \n",
              "num_calls      -0.073172  \n",
              "prev_outcome    0.259315  \n",
              "y               1.000000  "
            ],
            "text/html": [
              "\n",
              "  <div id=\"df-23fee40e-c711-4a78-afc8-227e4e0629b4\">\n",
              "    <div class=\"colab-df-container\">\n",
              "      <div>\n",
              "<style scoped>\n",
              "    .dataframe tbody tr th:only-of-type {\n",
              "        vertical-align: middle;\n",
              "    }\n",
              "\n",
              "    .dataframe tbody tr th {\n",
              "        vertical-align: top;\n",
              "    }\n",
              "\n",
              "    .dataframe thead th {\n",
              "        text-align: right;\n",
              "    }\n",
              "</style>\n",
              "<table border=\"1\" class=\"dataframe\">\n",
              "  <thead>\n",
              "    <tr style=\"text-align: right;\">\n",
              "      <th></th>\n",
              "      <th>age</th>\n",
              "      <th>job</th>\n",
              "      <th>marital</th>\n",
              "      <th>education_qual</th>\n",
              "      <th>call_type</th>\n",
              "      <th>day</th>\n",
              "      <th>mon</th>\n",
              "      <th>dur</th>\n",
              "      <th>num_calls</th>\n",
              "      <th>prev_outcome</th>\n",
              "      <th>y</th>\n",
              "    </tr>\n",
              "  </thead>\n",
              "  <tbody>\n",
              "    <tr>\n",
              "      <th>age</th>\n",
              "      <td>1.000000</td>\n",
              "      <td>0.004262</td>\n",
              "      <td>-0.126351</td>\n",
              "      <td>0.197850</td>\n",
              "      <td>0.092577</td>\n",
              "      <td>-0.009120</td>\n",
              "      <td>0.049392</td>\n",
              "      <td>-0.004648</td>\n",
              "      <td>0.004760</td>\n",
              "      <td>0.012238</td>\n",
              "      <td>0.025155</td>\n",
              "    </tr>\n",
              "    <tr>\n",
              "      <th>job</th>\n",
              "      <td>0.004262</td>\n",
              "      <td>1.000000</td>\n",
              "      <td>0.025000</td>\n",
              "      <td>0.259541</td>\n",
              "      <td>0.001588</td>\n",
              "      <td>-0.027535</td>\n",
              "      <td>0.011875</td>\n",
              "      <td>0.008166</td>\n",
              "      <td>-0.035410</td>\n",
              "      <td>0.014057</td>\n",
              "      <td>0.022396</td>\n",
              "    </tr>\n",
              "    <tr>\n",
              "      <th>marital</th>\n",
              "      <td>-0.126351</td>\n",
              "      <td>0.025000</td>\n",
              "      <td>1.000000</td>\n",
              "      <td>-0.109133</td>\n",
              "      <td>-0.014290</td>\n",
              "      <td>-0.005217</td>\n",
              "      <td>0.002324</td>\n",
              "      <td>0.018834</td>\n",
              "      <td>-0.029294</td>\n",
              "      <td>0.020126</td>\n",
              "      <td>0.043846</td>\n",
              "    </tr>\n",
              "    <tr>\n",
              "      <th>education_qual</th>\n",
              "      <td>0.197850</td>\n",
              "      <td>0.259541</td>\n",
              "      <td>-0.109133</td>\n",
              "      <td>1.000000</td>\n",
              "      <td>-0.068756</td>\n",
              "      <td>-0.024666</td>\n",
              "      <td>-0.083039</td>\n",
              "      <td>-0.003267</td>\n",
              "      <td>0.002234</td>\n",
              "      <td>-0.048727</td>\n",
              "      <td>-0.058675</td>\n",
              "    </tr>\n",
              "    <tr>\n",
              "      <th>call_type</th>\n",
              "      <td>0.092577</td>\n",
              "      <td>0.001588</td>\n",
              "      <td>-0.014290</td>\n",
              "      <td>-0.068756</td>\n",
              "      <td>1.000000</td>\n",
              "      <td>0.038643</td>\n",
              "      <td>0.438779</td>\n",
              "      <td>0.001494</td>\n",
              "      <td>0.020046</td>\n",
              "      <td>0.221644</td>\n",
              "      <td>0.130590</td>\n",
              "    </tr>\n",
              "    <tr>\n",
              "      <th>day</th>\n",
              "      <td>-0.009120</td>\n",
              "      <td>-0.027535</td>\n",
              "      <td>-0.005217</td>\n",
              "      <td>-0.024666</td>\n",
              "      <td>0.038643</td>\n",
              "      <td>1.000000</td>\n",
              "      <td>0.007855</td>\n",
              "      <td>-0.030206</td>\n",
              "      <td>0.162490</td>\n",
              "      <td>-0.072629</td>\n",
              "      <td>-0.028348</td>\n",
              "    </tr>\n",
              "    <tr>\n",
              "      <th>mon</th>\n",
              "      <td>0.049392</td>\n",
              "      <td>0.011875</td>\n",
              "      <td>0.002324</td>\n",
              "      <td>-0.083039</td>\n",
              "      <td>0.438779</td>\n",
              "      <td>0.007855</td>\n",
              "      <td>1.000000</td>\n",
              "      <td>0.023540</td>\n",
              "      <td>-0.085634</td>\n",
              "      <td>0.217733</td>\n",
              "      <td>0.166663</td>\n",
              "    </tr>\n",
              "    <tr>\n",
              "      <th>dur</th>\n",
              "      <td>-0.004648</td>\n",
              "      <td>0.008166</td>\n",
              "      <td>0.018834</td>\n",
              "      <td>-0.003267</td>\n",
              "      <td>0.001494</td>\n",
              "      <td>-0.030206</td>\n",
              "      <td>0.023540</td>\n",
              "      <td>1.000000</td>\n",
              "      <td>-0.084570</td>\n",
              "      <td>0.023192</td>\n",
              "      <td>0.394521</td>\n",
              "    </tr>\n",
              "    <tr>\n",
              "      <th>num_calls</th>\n",
              "      <td>0.004760</td>\n",
              "      <td>-0.035410</td>\n",
              "      <td>-0.029294</td>\n",
              "      <td>0.002234</td>\n",
              "      <td>0.020046</td>\n",
              "      <td>0.162490</td>\n",
              "      <td>-0.085634</td>\n",
              "      <td>-0.084570</td>\n",
              "      <td>1.000000</td>\n",
              "      <td>-0.094982</td>\n",
              "      <td>-0.073172</td>\n",
              "    </tr>\n",
              "    <tr>\n",
              "      <th>prev_outcome</th>\n",
              "      <td>0.012238</td>\n",
              "      <td>0.014057</td>\n",
              "      <td>0.020126</td>\n",
              "      <td>-0.048727</td>\n",
              "      <td>0.221644</td>\n",
              "      <td>-0.072629</td>\n",
              "      <td>0.217733</td>\n",
              "      <td>0.023192</td>\n",
              "      <td>-0.094982</td>\n",
              "      <td>1.000000</td>\n",
              "      <td>0.259315</td>\n",
              "    </tr>\n",
              "    <tr>\n",
              "      <th>y</th>\n",
              "      <td>0.025155</td>\n",
              "      <td>0.022396</td>\n",
              "      <td>0.043846</td>\n",
              "      <td>-0.058675</td>\n",
              "      <td>0.130590</td>\n",
              "      <td>-0.028348</td>\n",
              "      <td>0.166663</td>\n",
              "      <td>0.394521</td>\n",
              "      <td>-0.073172</td>\n",
              "      <td>0.259315</td>\n",
              "      <td>1.000000</td>\n",
              "    </tr>\n",
              "  </tbody>\n",
              "</table>\n",
              "</div>\n",
              "      <button class=\"colab-df-convert\" onclick=\"convertToInteractive('df-23fee40e-c711-4a78-afc8-227e4e0629b4')\"\n",
              "              title=\"Convert this dataframe to an interactive table.\"\n",
              "              style=\"display:none;\">\n",
              "        \n",
              "  <svg xmlns=\"http://www.w3.org/2000/svg\" height=\"24px\"viewBox=\"0 0 24 24\"\n",
              "       width=\"24px\">\n",
              "    <path d=\"M0 0h24v24H0V0z\" fill=\"none\"/>\n",
              "    <path d=\"M18.56 5.44l.94 2.06.94-2.06 2.06-.94-2.06-.94-.94-2.06-.94 2.06-2.06.94zm-11 1L8.5 8.5l.94-2.06 2.06-.94-2.06-.94L8.5 2.5l-.94 2.06-2.06.94zm10 10l.94 2.06.94-2.06 2.06-.94-2.06-.94-.94-2.06-.94 2.06-2.06.94z\"/><path d=\"M17.41 7.96l-1.37-1.37c-.4-.4-.92-.59-1.43-.59-.52 0-1.04.2-1.43.59L10.3 9.45l-7.72 7.72c-.78.78-.78 2.05 0 2.83L4 21.41c.39.39.9.59 1.41.59.51 0 1.02-.2 1.41-.59l7.78-7.78 2.81-2.81c.8-.78.8-2.07 0-2.86zM5.41 20L4 18.59l7.72-7.72 1.47 1.35L5.41 20z\"/>\n",
              "  </svg>\n",
              "      </button>\n",
              "      \n",
              "  <style>\n",
              "    .colab-df-container {\n",
              "      display:flex;\n",
              "      flex-wrap:wrap;\n",
              "      gap: 12px;\n",
              "    }\n",
              "\n",
              "    .colab-df-convert {\n",
              "      background-color: #E8F0FE;\n",
              "      border: none;\n",
              "      border-radius: 50%;\n",
              "      cursor: pointer;\n",
              "      display: none;\n",
              "      fill: #1967D2;\n",
              "      height: 32px;\n",
              "      padding: 0 0 0 0;\n",
              "      width: 32px;\n",
              "    }\n",
              "\n",
              "    .colab-df-convert:hover {\n",
              "      background-color: #E2EBFA;\n",
              "      box-shadow: 0px 1px 2px rgba(60, 64, 67, 0.3), 0px 1px 3px 1px rgba(60, 64, 67, 0.15);\n",
              "      fill: #174EA6;\n",
              "    }\n",
              "\n",
              "    [theme=dark] .colab-df-convert {\n",
              "      background-color: #3B4455;\n",
              "      fill: #D2E3FC;\n",
              "    }\n",
              "\n",
              "    [theme=dark] .colab-df-convert:hover {\n",
              "      background-color: #434B5C;\n",
              "      box-shadow: 0px 1px 3px 1px rgba(0, 0, 0, 0.15);\n",
              "      filter: drop-shadow(0px 1px 2px rgba(0, 0, 0, 0.3));\n",
              "      fill: #FFFFFF;\n",
              "    }\n",
              "  </style>\n",
              "\n",
              "      <script>\n",
              "        const buttonEl =\n",
              "          document.querySelector('#df-23fee40e-c711-4a78-afc8-227e4e0629b4 button.colab-df-convert');\n",
              "        buttonEl.style.display =\n",
              "          google.colab.kernel.accessAllowed ? 'block' : 'none';\n",
              "\n",
              "        async function convertToInteractive(key) {\n",
              "          const element = document.querySelector('#df-23fee40e-c711-4a78-afc8-227e4e0629b4');\n",
              "          const dataTable =\n",
              "            await google.colab.kernel.invokeFunction('convertToInteractive',\n",
              "                                                     [key], {});\n",
              "          if (!dataTable) return;\n",
              "\n",
              "          const docLinkHtml = 'Like what you see? Visit the ' +\n",
              "            '<a target=\"_blank\" href=https://colab.research.google.com/notebooks/data_table.ipynb>data table notebook</a>'\n",
              "            + ' to learn more about interactive tables.';\n",
              "          element.innerHTML = '';\n",
              "          dataTable['output_type'] = 'display_data';\n",
              "          await google.colab.output.renderOutput(dataTable, element);\n",
              "          const docLink = document.createElement('div');\n",
              "          docLink.innerHTML = docLinkHtml;\n",
              "          element.appendChild(docLink);\n",
              "        }\n",
              "      </script>\n",
              "    </div>\n",
              "  </div>\n",
              "  "
            ]
          },
          "metadata": {},
          "execution_count": 144
        }
      ]
    },
    {
      "cell_type": "code",
      "source": [],
      "metadata": {
        "id": "Vh5A7XzNp7Ci"
      },
      "execution_count": null,
      "outputs": []
    },
    {
      "cell_type": "code",
      "source": [],
      "metadata": {
        "id": "h6nDsuTrmFfW"
      },
      "execution_count": null,
      "outputs": []
    }
  ]
}